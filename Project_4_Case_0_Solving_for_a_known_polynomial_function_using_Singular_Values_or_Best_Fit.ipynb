{
 "cells": [
  {
   "cell_type": "markdown",
   "metadata": {
    "colab_type": "text",
    "id": "view-in-github"
   },
   "source": [
    "<a href=\"https://colab.research.google.com/github/awangberg/AdvLinearAlgebra/blob/master/Project_4_Case_0_Solving_for_a_known_polynomial_function_using_Singular_Values_or_Best_Fit.ipynb\" target=\"_parent\"><img src=\"https://colab.research.google.com/assets/colab-badge.svg\" alt=\"Open In Colab\"/></a>"
   ]
  },
  {
   "cell_type": "code",
   "execution_count": 1,
   "metadata": {
    "colab": {},
    "colab_type": "code",
    "id": "9_AimxJu0fZa"
   },
   "outputs": [
    {
     "name": "stderr",
     "output_type": "stream",
     "text": [
      "\n",
      "Bad key \"text.kerning_factor\" on line 4 in\n",
      "C:\\Users\\leesc\\miniconda3\\envs\\AdvLinAlg\\lib\\site-packages\\matplotlib\\mpl-data\\stylelib\\_classic_test_patch.mplstyle.\n",
      "You probably need to get an updated matplotlibrc file from\n",
      "https://github.com/matplotlib/matplotlib/blob/v3.1.3/matplotlibrc.template\n",
      "or from the matplotlib source distribution\n"
     ]
    }
   ],
   "source": [
    "#  Libraries that we'll need:\n",
    "import numpy as np\n",
    "import sympy as sym\n",
    "#from scipy import misc\n",
    "from scipy import linalg\n",
    "#from PIL import Image\n",
    "#import imageio\n",
    "import matplotlib.pyplot as plt\n",
    "# importing \"random\" for random operations \n",
    "import random "
   ]
  },
  {
   "cell_type": "markdown",
   "metadata": {
    "colab_type": "text",
    "id": "ah9MqhC_0nc3"
   },
   "source": [
    "#  Singular Value Decomposition and Best Fit\n",
    "\n",
    "We look at some data generated here from three sources:\n",
    "\n",
    "*   Case 0:  A known polynomial function $f(x) = 4 - 3x^2 + 5x^6$\n",
    "*   Case 1:  A known trigonometric function $f(x) = 4 - 2*cos(x) + cos^2 (x)$\n",
    "*   Case 2:  A matrix of data $M$ (specified below) with unknown source function\n",
    "*   Case 3:  An interesting case."
   ]
  },
  {
   "cell_type": "markdown",
   "metadata": {
    "colab_type": "text",
    "id": "u294N29608yk"
   },
   "source": [
    "#  Overview for Case 0: Fit for a known polynomial function $f(x) = 4 - 3x^2 + 5x^6$\n",
    "We generate data for the polynomial function \n",
    "$$f(x) = 4 -3x^2 +5x^6$$ \n",
    "We know two things: The input (x) and the output (f(x)) for that input.  Pretend we know the (x, f(x)) pairs for **a lot** of different points, say (cough... cough...) $3$ of them.\n",
    "\n",
    "We want to find out what combination of polynomials $1, x, x^2, x^3, x^4, x^5,$ and $x^6$ best matches the data.  For each input/output pair $(x, f(x))$, we generate one row of data in the system $Ac = b$:\n",
    "\n",
    "$$ [  c_0 * 1 + c_1 * x + c_2 * x^2 + c_3 * x^3 + ... c_6 x^6 = f(x) ] $$\n",
    "\n",
    "or\n",
    "\n",
    "$$ \\left[ \\begin{array}{ccccccc} 1 & x & x^2 & x^3 & x^4 & x^5 & x^6 \\end{array} \\right] \\left( \\begin{array}{c} c_0 \\\\ c_1 \\\\ c_2 \\\\ c_3 \\\\ c_4 \\\\ c_5 \\\\c_6 \\\\ \\end{array} \\right) = \\left[ f(x) \\right] $$\n",
    "\n",
    "\n",
    "Be careful -- the unknowns are the coefficients in front - the $c_0, c_1, c_2, ..., c_6$ values.  Since we know $x$, then we know $x, x^2, x^3, x^4, ... x^6$. And we know the output $f(x)$ for that row.\n",
    "\n",
    "So, if we know $x=2$ and $f(2) = 312$, then we populate the row as:\n",
    "\n",
    "$$ [  c_0*1  + c_1*2 + c_2*4 + c_3*8 + ... + c_6*64 = 312 ] $$\n",
    "\n",
    "or\n",
    "$$ \\left[ \\begin{array}{ccccccc} 1 & 2 & 4 & 8 & 16 & x32 & 64 \\end{array} \\right] \\left( \\begin{array}{c} c_0 \\\\ c_1 \\\\ c_2 \\\\ c_3 \\\\ c_4 \\\\ c_5 \\\\c_6 \\\\ \\end{array} \\right) = \\left[ 312 \\right] $$\n",
    "\n",
    "where the vector $\\vec{c}$ contains the unknowns $c_0, c_1, c_2, \\ldots c_6$\n",
    "\n",
    "So... let's generate the matrix:\n"
   ]
  },
  {
   "cell_type": "markdown",
   "metadata": {
    "colab_type": "text",
    "id": "tWC4d8yQZGrx"
   },
   "source": [
    "# 0.1  Setting up the system:\n",
    "\n",
    "We'll generate some data points for our system using the function \n",
    "$$ f(x) = 4 - 3x^2 + 5x^6$$\n",
    "\n",
    "We'll store the input data in **actual_data_x** and the output in **actual_data_y**.\n",
    "\n",
    "We'll also use the data to set up a system\n",
    "$$M \\vec{x} = \\vec{b}$$\n",
    "\n",
    "where **actual_data_x** is used to populate matrix $M$ and **actual_data_y** is used to populate $\\vec{b}$."
   ]
  },
  {
   "cell_type": "code",
   "execution_count": 2,
   "metadata": {
    "colab": {},
    "colab_type": "code",
    "id": "3xcazoedaEdj"
   },
   "outputs": [],
   "source": [
    "#We'll generate random points of data for our system.\n",
    "#The actual points for the system will be stored in containers actual_data_x and actual_data_y\n",
    "\n",
    "actual_data_x = []\n",
    "actual_data_y = []\n",
    "\n",
    "#We'll use (cough... cough...) three   data points:\n",
    "for i in range(7):\n",
    "    # pick a random number between -5 and 5\n",
    "    x = 6*random.random() - 3\n",
    "    f = 4 - 3*x**2 + 5*x**6\n",
    "    actual_data_x.append(x)\n",
    "    actual_data_y.append(f)"
   ]
  },
  {
   "cell_type": "code",
   "execution_count": 3,
   "metadata": {
    "colab": {},
    "colab_type": "code",
    "id": "qBDgSCalahsU"
   },
   "outputs": [],
   "source": [
    "# uncomment code below  to look at the data in actual_data_x or in actual_data_y\n",
    "\n",
    "#actual_data_x\n",
    "#actual_data_y"
   ]
  },
  {
   "cell_type": "code",
   "execution_count": 4,
   "metadata": {
    "colab": {},
    "colab_type": "code",
    "id": "XV2S8QHhatXJ"
   },
   "outputs": [],
   "source": [
    "#Create the matrix M from the data in actual_data_x\n",
    "M_entries = []\n",
    "\n",
    "for x in actual_data_x:\n",
    "  M_entries.append([1, x, x**2, x**3, x**4, x**5, x**6])\n",
    "\n",
    "M = []\n",
    "M = np.matrix(M_entries)\n",
    "\n",
    "\n",
    "#and create the vector b from the data in actual_data_y:\n",
    "b = []\n",
    "b = (np.matrix(actual_data_y)).transpose()"
   ]
  },
  {
   "cell_type": "code",
   "execution_count": 5,
   "metadata": {
    "colab": {
     "base_uri": "https://localhost:8080/",
     "height": 72
    },
    "colab_type": "code",
    "id": "RsAZQ_8TbUrQ",
    "outputId": "53c5690f-98cf-4f13-ff41-7501b56ef9c0"
   },
   "outputs": [
    {
     "data": {
      "text/plain": [
       "matrix([[1078.11532815],\n",
       "        [  49.12033338],\n",
       "        [2826.35119114],\n",
       "        [   8.12863284],\n",
       "        [   3.27219937]])"
      ]
     },
     "execution_count": 5,
     "metadata": {},
     "output_type": "execute_result"
    }
   ],
   "source": [
    "# Uncomment either line below to show the matrix M\n",
    "# or the first five entries of b\n",
    "\n",
    "M\n",
    "b[:5]"
   ]
  },
  {
   "cell_type": "markdown",
   "metadata": {
    "colab_type": "text",
    "id": "zHF_2CDqcde5"
   },
   "source": [
    "#0.2:  Plot the generated system:\n",
    "\n",
    "We'll create a plot showing the function (in red) and the data points sampled for the function (in blue).\n",
    "\n",
    "To generate the graph of the function $f(x)$, we first use $100$ data points from $0$ to $99$, then compress them into an interval of width $6$, and shift it left so that the 100 data points are equally spaced between $x = -3$ and $x=3$."
   ]
  },
  {
   "cell_type": "code",
   "execution_count": 6,
   "metadata": {
    "colab": {
     "base_uri": "https://localhost:8080/",
     "height": 295
    },
    "colab_type": "code",
    "id": "XViuaKVK3aU3",
    "outputId": "10292ec6-5aed-4317-e1b2-8d3cd03530f8"
   },
   "outputs": [
    {
     "data": {
      "image/png": "[encoded data removed]",
      "text/plain": [
       "<Figure size 432x288 with 1 Axes>"
      ]
     },
     "metadata": {
      "needs_background": "light"
     },
     "output_type": "display_data"
    }
   ],
   "source": [
    "# We'll specify that x is a variable:\n",
    "x = sym.symbols('x')\n",
    "\n",
    "xdata = []\n",
    "fdata = []\n",
    "#set up our 100 data points on the interval from (-3, 3):\n",
    "xdata = np.array(range(100))/(100/6) - 3\n",
    "# find the ouput for our function on each data point:\n",
    "fdata = 4 - 3*xdata**2 + 5*xdata**6\n",
    "\n",
    "\n",
    "# Create the plot in red, and our datapoints in blue:  \n",
    "plt.plot(xdata,fdata, color='red') + plt.plot(actual_data_x, actual_data_y, 'bo')\n",
    "\n",
    "# Add a title\n",
    "plt.title('Our test data (in blue) compared to the actual data (in red)')\n",
    "\n",
    "# Add X and y Label\n",
    "plt.xlabel('x axis')\n",
    "plt.ylabel('output')\n",
    "\n",
    "# Add a grid\n",
    "plt.grid(alpha=.4,linestyle='--')\n"
   ]
  },
  {
   "cell_type": "markdown",
   "metadata": {
    "colab_type": "text",
    "id": "uWyKTBIaeI11"
   },
   "source": [
    "#0.3:  Solving the system using the method of Best-Fit:\n",
    "\n",
    "Given a system \n",
    "$$ M \\vec{x} = \\vec{b}$\n",
    "\n",
    "where matrix $M$ is **not necessarily square**, we can multiply by $M^T$ on the left to form the system\n",
    "\n",
    "$$ \\left( M^T M \\right) \\vec{x} = M^T \\vec{b} $$\n",
    "\n",
    "Now, $M^T M$ is a square matrix, so we can use it's inverse to solve for $\\vec{x}$:\n",
    "\n",
    "$$ \\vec{x} = \\left( M^T M \\right)^{-1} M^T \\vec{b}$$\n",
    "\n",
    "This solution method is called the method of Best-Fit.\n",
    "\n",
    "**A word of caution**:  We're initially trying to fit a 6th degree polynomial with only 3 data points.  That shouldn't have a good solution, and it could have no solution.  If you get no solution, start at the top and re-run the code to generate a new set of random data points for our system."
   ]
  },
  {
   "cell_type": "code",
   "execution_count": 7,
   "metadata": {
    "colab": {
     "base_uri": "https://localhost:8080/",
     "height": 146
    },
    "colab_type": "code",
    "id": "Lt_-LiCm4mX5",
    "outputId": "d97439c5-fb73-4670-a131-ecf2f9cd1eeb"
   },
   "outputs": [
    {
     "data": {
      "text/plain": [
       "matrix([[ 4.00000000e+00],\n",
       "        [-9.55196811e-10],\n",
       "        [-3.00000000e+00],\n",
       "        [-5.14910425e-09],\n",
       "        [-6.54381438e-09],\n",
       "        [ 2.97859515e-11],\n",
       "        [ 5.00000000e+00]])"
      ]
     },
     "execution_count": 7,
     "metadata": {},
     "output_type": "execute_result"
    }
   ],
   "source": [
    "#  Find the solution to Mx = b using Best Fit:\n",
    "#  (We've already used 'x' as a variable, so we'll call the solution vector c.)\n",
    "c = linalg.inv(M.transpose() * M) * M.transpose() * b\n",
    "c\n"
   ]
  },
  {
   "cell_type": "markdown",
   "metadata": {
    "colab_type": "text",
    "id": "32HO69A9f9WO"
   },
   "source": [
    "We can test our solution against the output of our original system.\n",
    "\n",
    "The original output in our system is represented by $\\vec{b}$.\n",
    "\n",
    "Our suggested solution to $M\\vec{x} = \\vec{b}$ is $\\vec{c}$.  That is, we think\n",
    "\n",
    "$$ M \\vec{c} \\approx \\vec{b}$$\n",
    "\n",
    "If we have a good fit, then \n",
    "\n",
    "$$\\vec{b} - M \\vec{c} \\approx 0$$\n",
    "\n",
    "To test our solution, we find the) magnitude of $\\vec{b} - M\\vec{c}$:"
   ]
  },
  {
   "cell_type": "code",
   "execution_count": 8,
   "metadata": {
    "colab": {
     "base_uri": "https://localhost:8080/",
     "height": 35
    },
    "colab_type": "code",
    "id": "alHjgx4L4ydh",
    "outputId": "df8bc535-827b-44ec-cddf-f6e91ddf7a2d"
   },
   "outputs": [
    {
     "data": {
      "text/plain": [
       "5.392622221435645e-07"
      ]
     },
     "execution_count": 8,
     "metadata": {},
     "output_type": "execute_result"
    }
   ],
   "source": [
    "#  Let's see how close this actually gets us by comparing the original b vector to the result of Mc:\n",
    "error = ((b-M*c).transpose() * (b-M*c))[0,0]\n",
    "error**0.5"
   ]
  },
  {
   "cell_type": "markdown",
   "metadata": {
    "colab_type": "text",
    "id": "rO3fm0sVhI_M"
   },
   "source": [
    "We can plot the actual solution (in red) with our best-fit solution (in green), using the test data shown as blue points.  It may be helpful to adjust the limits on the y-axis to zoom in or out on the output.\n"
   ]
  },
  {
   "cell_type": "code",
   "execution_count": 9,
   "metadata": {
    "colab": {
     "base_uri": "https://localhost:8080/",
     "height": 295
    },
    "colab_type": "code",
    "id": "bygM7WnqhIHw",
    "outputId": "5e6f2abd-8df8-4864-9671-b7bc28f73d93"
   },
   "outputs": [
    {
     "data": {
      "image/png": "[encoded data removed]",
      "text/plain": [
       "<Figure size 432x288 with 1 Axes>"
      ]
     },
     "metadata": {
      "needs_background": "light"
     },
     "output_type": "display_data"
    }
   ],
   "source": [
    "#Show a plot of the solutions using the best-fit method, and the SVD method:\n",
    "\n",
    "# We'll specify that x is a variable:\n",
    "x = sym.symbols('x')\n",
    "\n",
    "xdata = []\n",
    "fdata = []\n",
    "#set up our 100 data points on the interval from (-3, 3):\n",
    "xdata = np.array(range(100))/(100/6) - 3\n",
    "# find the ouput for our function on each data point:\n",
    "fdata = 4 - 3*xdata**2 + 5*xdata**6\n",
    "\n",
    "best_fit = c[0,0] + c[1,0]*xdata + c[2,0]*(xdata**2) + c[3,0]*(xdata**3) + c[4,0]*(xdata**4) + c[5,0]*(xdata**5) + c[6,0]*(xdata**6)\n",
    "# Create the actual plot in red, and our datapoints in blue,\n",
    "# and the best-fit method in green:  \n",
    "plt.plot(xdata,fdata, color='red', linewidth=2 ) + plt.plot(actual_data_x, actual_data_y, 'bo', alpha=0.3)+plt.plot(xdata,best_fit, color='green')\n",
    "\n",
    "#Restrict the output values to this range:\n",
    "plt.ylim(-30,30)\n",
    "\n",
    "# Add a title\n",
    "plt.title('Our test data (blue) for the original function (red) and our best-fit solution (green)')\n",
    "\n",
    "# Add X and y Label\n",
    "plt.xlabel('x axis')\n",
    "plt.ylabel('output')\n",
    "\n",
    "# Add a grid\n",
    "plt.grid(alpha=.4,linestyle='--')"
   ]
  },
  {
   "cell_type": "markdown",
   "metadata": {
    "colab_type": "text",
    "id": "6JCKDSbQx20d"
   },
   "source": [
    "#0.4 Solving the system using Singular Value Decomposition\n",
    "\n",
    "Singular Value Decomposition decomposes a matrix M into three matrices\n",
    "\n",
    "$$ M = U \\Sigma V^\\dagger$$\n",
    "\n",
    "where $U$ and $V$ are square matrices and $\\Sigma$ is a rectangular matrix with singular values on the main diagonal."
   ]
  },
  {
   "cell_type": "code",
   "execution_count": 10,
   "metadata": {
    "colab": {},
    "colab_type": "code",
    "id": "PFNKQo23KFEv"
   },
   "outputs": [],
   "source": [
    "#  For this method, we use SVD on the data matrix M:\n",
    "U, S, Vh = linalg.svd(M)\n",
    "Vh = Vh.T"
   ]
  },
  {
   "cell_type": "code",
   "execution_count": 11,
   "metadata": {},
   "outputs": [
    {
     "data": {
      "text/plain": [
       "(7, 7)"
      ]
     },
     "execution_count": 11,
     "metadata": {},
     "output_type": "execute_result"
    }
   ],
   "source": [
    "U.shape"
   ]
  },
  {
   "cell_type": "code",
   "execution_count": 12,
   "metadata": {},
   "outputs": [
    {
     "data": {
      "text/plain": [
       "(7, 7)"
      ]
     },
     "execution_count": 12,
     "metadata": {},
     "output_type": "execute_result"
    }
   ],
   "source": [
    "Vh.shape"
   ]
  },
  {
   "cell_type": "code",
   "execution_count": 13,
   "metadata": {
    "colab": {},
    "colab_type": "code",
    "id": "zReOuVkOKoQ_"
   },
   "outputs": [
    {
     "data": {
      "text/latex": [
       "$\\displaystyle \\left[\\begin{matrix}-0.00242140017068183 & -0.00219954466380728 & -0.119355435537019 & -0.212879966651114 & -0.80931496169423 & 0.224481201778684 & -0.484812521967758\\\\0.000638251516787536 & 0.0187748540180138 & 0.028865447504732 & -0.450650547629657 & 0.372875782607242 & 0.808322924696772 & -0.0574949346267897\\\\-0.0175920869533392 & -0.0109102183353132 & -0.337337879104951 & -0.263503454398452 & -0.352422096515074 & 0.0868301311499408 & 0.827405441525472\\\\-0.000362671688829936 & 0.134705292496363 & 0.200796996232137 & -0.814530400173416 & 0.0917431396810927 & -0.512627257377157 & -0.0828953403734567\\\\-0.130840557299684 & -0.0418542237182786 & -0.900100627409531 & -0.0759087001868221 & 0.269134278993581 & -0.152022850477179 & -0.263896750830249\\\\-0.0395973450041425 & 0.989181551928726 & -0.0655906819948492 & 0.113249969648142 & -0.0147773266907694 & 0.0500626938344604 & 0.00997856224893924\\\\-0.990452883905246 & -0.0338555674894962 & 0.127755667371996 & 0.0107085967227312 & -0.0265174700670561 & 0.016698574638061 & 0.0209447394496044\\end{matrix}\\right]$"
      ],
      "text/plain": [
       "Matrix([\n",
       "[ -0.00242140017068183, -0.00219954466380728,  -0.119355435537019,  -0.212879966651114,   -0.80931496169423,  0.224481201778684,  -0.484812521967758],\n",
       "[ 0.000638251516787536,   0.0187748540180138,   0.028865447504732,  -0.450650547629657,   0.372875782607242,  0.808322924696772, -0.0574949346267897],\n",
       "[  -0.0175920869533392,  -0.0109102183353132,  -0.337337879104951,  -0.263503454398452,  -0.352422096515074, 0.0868301311499408,   0.827405441525472],\n",
       "[-0.000362671688829936,    0.134705292496363,   0.200796996232137,  -0.814530400173416,  0.0917431396810927, -0.512627257377157, -0.0828953403734567],\n",
       "[   -0.130840557299684,  -0.0418542237182786,  -0.900100627409531, -0.0759087001868221,   0.269134278993581, -0.152022850477179,  -0.263896750830249],\n",
       "[  -0.0395973450041425,    0.989181551928726, -0.0655906819948492,   0.113249969648142, -0.0147773266907694, 0.0500626938344604, 0.00997856224893924],\n",
       "[   -0.990452883905246,  -0.0338555674894962,   0.127755667371996,  0.0107085967227312, -0.0265174700670561,  0.016698574638061,  0.0209447394496044]])"
      ]
     },
     "execution_count": 13,
     "metadata": {},
     "output_type": "execute_result"
    }
   ],
   "source": [
    "#  Uncomment the lines below to show the matrix U, S, and Vh:\n",
    "#  Notice that in S only the singular values are stored, not the entire matrix.\n",
    "#sym.Matrix(U)\n",
    "#S\n",
    "sym.Matrix(Vh)"
   ]
  },
  {
   "cell_type": "code",
   "execution_count": 14,
   "metadata": {
    "colab": {
     "base_uri": "https://localhost:8080/",
     "height": 35
    },
    "colab_type": "code",
    "id": "swO65JoHLbgn",
    "outputId": "df294885-81e4-4ff4-ba9c-448d3bb4d8d7"
   },
   "outputs": [
    {
     "data": {
      "text/plain": [
       "array([7.59339176e+02, 2.74845864e+02, 9.12700898e+00, 4.41726674e+00,\n",
       "       1.33521899e+00, 5.45524393e-01, 2.73773804e-02])"
      ]
     },
     "execution_count": 14,
     "metadata": {},
     "output_type": "execute_result"
    }
   ],
   "source": [
    "#  The 2nd singular value is:\n",
    "S"
   ]
  },
  {
   "cell_type": "code",
   "execution_count": 15,
   "metadata": {
    "colab": {
     "base_uri": "https://localhost:8080/",
     "height": 35
    },
    "colab_type": "code",
    "id": "zs4i_zcQMg1d",
    "outputId": "21d8dd3a-7e46-49a0-c88f-39974b19a7ad"
   },
   "outputs": [
    {
     "data": {
      "text/plain": [
       "False"
      ]
     },
     "execution_count": 15,
     "metadata": {},
     "output_type": "execute_result"
    }
   ],
   "source": [
    "# We can compare the original matrix M to the matrix reconstructed (called a1) from the SVD:\n",
    "# If they are close, then allclose(M, a1) should be True.\n",
    "\n",
    "#First, recast S as a matrix instead of a vector:\n",
    "sigma = np.zeros((U.shape[1], Vh.shape[0]))\n",
    "for i in range(min(sigma.shape)):\n",
    "     sigma[i, i] = S[i]\n",
    "#Reconstruct the matrix:\n",
    "a1 = np.dot(U, np.dot(sigma, Vh))\n",
    "\n",
    "#does a1 approximate M?\n",
    "np.allclose(M, a1)"
   ]
  },
  {
   "cell_type": "code",
   "execution_count": 16,
   "metadata": {},
   "outputs": [
    {
     "data": {
      "text/latex": [
       "$\\displaystyle \\left[\\begin{matrix}759.339176056491 & 0.0 & 0.0 & 0.0 & 0.0 & 0.0 & 0.0\\\\0.0 & 274.845864160601 & 0.0 & 0.0 & 0.0 & 0.0 & 0.0\\\\0.0 & 0.0 & 9.12700897958081 & 0.0 & 0.0 & 0.0 & 0.0\\\\0.0 & 0.0 & 0.0 & 4.41726674043315 & 0.0 & 0.0 & 0.0\\\\0.0 & 0.0 & 0.0 & 0.0 & 1.33521899169493 & 0.0 & 0.0\\\\0.0 & 0.0 & 0.0 & 0.0 & 0.0 & 0.545524392770898 & 0.0\\\\0.0 & 0.0 & 0.0 & 0.0 & 0.0 & 0.0 & 0.0273773803775947\\end{matrix}\\right]$"
      ],
      "text/plain": [
       "Matrix([\n",
       "[759.339176056491,              0.0,              0.0,              0.0,              0.0,               0.0,                0.0],\n",
       "[             0.0, 274.845864160601,              0.0,              0.0,              0.0,               0.0,                0.0],\n",
       "[             0.0,              0.0, 9.12700897958081,              0.0,              0.0,               0.0,                0.0],\n",
       "[             0.0,              0.0,              0.0, 4.41726674043315,              0.0,               0.0,                0.0],\n",
       "[             0.0,              0.0,              0.0,              0.0, 1.33521899169493,               0.0,                0.0],\n",
       "[             0.0,              0.0,              0.0,              0.0,              0.0, 0.545524392770898,                0.0],\n",
       "[             0.0,              0.0,              0.0,              0.0,              0.0,               0.0, 0.0273773803775947]])"
      ]
     },
     "execution_count": 16,
     "metadata": {},
     "output_type": "execute_result"
    }
   ],
   "source": [
    "sym.Matrix(sigma)"
   ]
  },
  {
   "cell_type": "markdown",
   "metadata": {
    "colab_type": "text",
    "id": "UsQKVQln09qn"
   },
   "source": [
    "The SVD decomposition of matrix $M$ may have non-zero singular values in $\\Sigma.  To solve\n",
    "$$ M \\vec{x} = \\vec{b}$$\n",
    "\n",
    "we can replace $M$ with $U \\Sigma V^\\dagger$:\n",
    "$$ U \\, \\Sigma \\, V^\\dagger \\, \\vec{x} = \\vec{b}$$\n",
    "\n",
    "The inverse of matrices $U$ and $V$ are $U^\\dagger$ and $V^\\dagger$.  If we decompose $\\Sigma$ into a block matrix composed of the non-zero singular values, then we can restrict our singular value decomposition into invertible and non-invertible parts:\n",
    "\n",
    "$$ U \\, \\Sigma \\, V^\\dagger = \\left( \\begin{array}{c|c} U_{use} & U_{discard} \\\\ \\end{array} \\right) \\left( \\begin{array}{c|c} \\Sigma_{use} & 0 \\\\ \\hline 0 & \\Sigma_{discard} \\\\ \\end{array} \\right)  \\left( \\begin{array}{c|c} V_{use} & V_{discard} \\\\ \\end{array} \\right)^\\dagger$$\n",
    "\n",
    "Effectively, this allows us to replace $U \\Sigma V^\\dagger \\vec{x} = \\vec{b}$ with\n",
    "\n",
    "$$ U_{use} \\, \\Sigma_{use} \\, V_{use}^\\dagger \\, \\vec{x} = \\vec{b}$$\n",
    "\n",
    "The solution to this system is then\n",
    "\n",
    "$$\\vec{x} = V_{use} \\, \\Sigma_{use}^{-1} \\, U_{use}^\\dagger \\, \\vec{b}$$\n"
   ]
  },
  {
   "cell_type": "code",
   "execution_count": 17,
   "metadata": {
    "colab": {},
    "colab_type": "code",
    "id": "OWnxUptVMreR"
   },
   "outputs": [],
   "source": [
    "#  Based on the number of non-zero singular values in S, divide each of U, sigma, and Vh into \n",
    "#  U_use, Sigma_use, and Vh_use.\n",
    "#  and  discard U_d, Sigma_d, Vh_d\n",
    "useSigs = 7\n",
    "\n",
    "#Use these parts of U, S, and Vh\n",
    "(Vrows, Vcols) = Vh.shape\n",
    "(Urows, Ucols) = U.shape\n",
    "U_use = U[:Urows, :useSigs]\n",
    "Vh_use = Vh[:Vrows, :useSigs]\n",
    "sigma_use = sigma[:useSigs, :useSigs]\n",
    "\n",
    "#discard these parts of U, S, and Vh:\n",
    "U_d = U[:Urows, useSigs:]\n",
    "Vh_d = Vh[:Vrows, useSigs:]\n",
    "sigma_d = sigma[useSigs:, useSigs:]"
   ]
  },
  {
   "cell_type": "code",
   "execution_count": 18,
   "metadata": {
    "colab": {
     "base_uri": "https://localhost:8080/",
     "height": 35
    },
    "colab_type": "code",
    "id": "FJvxlnbLM0X8",
    "outputId": "81d08776-790f-4db0-af1c-3a1d03924995"
   },
   "outputs": [
    {
     "name": "stdout",
     "output_type": "stream",
     "text": [
      "(7, 7) (7, 7) (7, 7) (7, 0) (0, 0) (7, 0)\n"
     ]
    }
   ],
   "source": [
    "#  We should be able to figure out the size of U and Vh that we'll use:\n",
    "#\n",
    "#  U S Vh  =   [         .     ] [             .         ]  [            .      ]\n",
    "#              [ U_use   .     ] [  sigma_use  .         ]  [   Vh_use   .      ]\n",
    "#              [         . U_d ] [.......................]  [            . Vh_d ]\n",
    "#              [         .     ] [             . sigma_d ]  [            .      ]\n",
    "#\n",
    "#\n",
    "#  Uncomment these lines (one at a time) to check that U_use, sigma_use, and Vh_use are the right sizes, as well as U_d, sigma_d, and Vh_d\n",
    "print(U_use.shape,\n",
    "sigma_use.shape,\n",
    "Vh_use.shape,\n",
    "U_d.shape,\n",
    "sigma_d.shape,\n",
    "Vh_d.shape)"
   ]
  },
  {
   "cell_type": "code",
   "execution_count": 19,
   "metadata": {
    "colab": {
     "base_uri": "https://localhost:8080/",
     "height": 146
    },
    "colab_type": "code",
    "id": "Mm72yqKVT7jz",
    "outputId": "e85f315b-df9e-43a9-9b96-588d51e85fe3"
   },
   "outputs": [
    {
     "data": {
      "text/plain": [
       "matrix([[ 4.00000000e+00],\n",
       "        [-6.82121026e-13],\n",
       "        [-3.00000000e+00],\n",
       "        [-9.09494702e-13],\n",
       "        [-3.63797881e-12],\n",
       "        [ 1.13686838e-13],\n",
       "        [ 5.00000000e+00]])"
      ]
     },
     "execution_count": 19,
     "metadata": {},
     "output_type": "execute_result"
    }
   ],
   "source": [
    "#  If we use Singular Value Decomposition to break down M as a product of matrices\n",
    "#  M = U sigma Vh.conjugate_transpose()\n",
    "#  Then the part of A which corresponds to non-zero singular values is:\n",
    "#  M_use = U_use sigma_use Vh_use.conjugate_transpose()\n",
    "#\n",
    "#  So, the equation Mx = b becomes:  (U_use sigma_use Vh_use.conjugate_transpose()) x = b\n",
    "#  or\n",
    "#  svd_sol = (U_use sigma_use Vh_use.conjugate_transpose()).inverse() b\n",
    "#  or\n",
    "#  svd_sol = Vh_use * Sigma_use.inverse() * U_use.transpose() * b\n",
    "#  (since Vh_use.conjugate_transpose() = Vh_use.inverse() and U_use.transpose() = U_use.inverse() )\n",
    "svdsol = (Vh_use @ linalg.inv(sigma_use) @ U_use.transpose()) @ b\n",
    "svdsol"
   ]
  },
  {
   "cell_type": "markdown",
   "metadata": {
    "colab_type": "text",
    "id": "NUyAAGKI424a"
   },
   "source": [
    "We can test our solution against the output of our original system.\n",
    "\n",
    "The original output in our system is represented by $\\vec{b}$.\n",
    "\n",
    "Our suggested solution to $M\\vec{x} = \\vec{b}$ is $\\vec{svdsol}$.  That is, we think\n",
    "\n",
    "$$ M \\vec{svdsol} \\approx \\vec{b}$$\n",
    "\n",
    "If we have a good fit, then \n",
    "\n",
    "$$\\vec{b} - M \\vec{svdsol} \\approx 0$$\n",
    "\n",
    "To test our solution, we find the) magnitude of $\\vec{b} - M\\vec{svdsol}$:"
   ]
  },
  {
   "cell_type": "code",
   "execution_count": 20,
   "metadata": {
    "colab": {
     "base_uri": "https://localhost:8080/",
     "height": 35
    },
    "colab_type": "code",
    "id": "hC0UDpjX43HF",
    "outputId": "8b8cb7dc-cefa-4785-fd45-5c48a2373af2"
   },
   "outputs": [
    {
     "data": {
      "text/plain": [
       "1.2785296861161684e-11"
      ]
     },
     "execution_count": 20,
     "metadata": {},
     "output_type": "execute_result"
    }
   ],
   "source": [
    "#  Let's see how close this actually gets us by comparing the original b vector to the result of Mc:\n",
    "error = ((b-M*svdsol).transpose() * (b-M*svdsol))[0,0]\n",
    "error**0.5"
   ]
  },
  {
   "cell_type": "code",
   "execution_count": 21,
   "metadata": {
    "colab": {
     "base_uri": "https://localhost:8080/",
     "height": 295
    },
    "colab_type": "code",
    "id": "6F6M7Y3I5bGY",
    "outputId": "24ee7a63-d8c9-4aa2-cc02-7f1da3bb81d9"
   },
   "outputs": [
    {
     "data": {
      "image/png": "[encoded data removed]",
      "text/plain": [
       "<Figure size 432x288 with 1 Axes>"
      ]
     },
     "metadata": {
      "needs_background": "light"
     },
     "output_type": "display_data"
    }
   ],
   "source": [
    "#Show a plot of the solutions using the best-fit method, and the SVD method:\n",
    "\n",
    "# We'll specify that x is a variable:\n",
    "x = sym.symbols('x')\n",
    "\n",
    "xdata = []\n",
    "fdata = []\n",
    "#set up our 100 data points on the interval from (-3, 3):\n",
    "xdata = np.array(range(100))/(100/6) - 3\n",
    "# find the ouput for our function on each data point:\n",
    "fdata = 4 - 3*xdata**2 + 5*xdata**6\n",
    "\n",
    "#construct the solution from svdsol\n",
    "svd_fit = svdsol[0,0] + svdsol[1,0]*xdata + svdsol[2,0]*(xdata**2) + svdsol[3,0]*(xdata**3) + svdsol[4,0]*(xdata**4) + svdsol[5,0]*(xdata**5) + svdsol[6,0]*(xdata**6)\n",
    "# Create the actual plot in red, and our datapoints in blue,\n",
    "# and the svd solution in aqua:  \n",
    "plt.plot(xdata,fdata, color='red', linewidth=2 ) + plt.plot(actual_data_x, actual_data_y, 'bo', alpha=0.3) + plt.plot(xdata, svd_fit, 'aqua')\n",
    "\n",
    "#Restrict the output values to this range:\n",
    "plt.ylim(-30,30)\n",
    "# Add a title\n",
    "plt.title('Our test data (blue) for the original function (red)  and svd solution (aqua)')\n",
    "\n",
    "# Add X and y Label\n",
    "plt.xlabel('x axis')\n",
    "plt.ylabel('output')\n",
    "\n",
    "# Add a grid\n",
    "plt.grid(alpha=.4,linestyle='--')"
   ]
  },
  {
   "cell_type": "markdown",
   "metadata": {
    "colab_type": "text",
    "id": "NKBuj3wo5r79"
   },
   "source": [
    "#0.5  Finding a better solution\n",
    "\n",
    "\n",
    "Both the above solutions give really bad approximations to the polynomial  \n",
    "$$f(x) = 4 -3x^2 +5x^6$$\n",
    "\n",
    "Why?  We only used three data points for our data.  Go back and modify the code so that you use *MORE DATA*\n",
    "\n",
    "(Hint:  You have to change two of the '3' numbers in the code above:  One to generate more data; the other to use the right number of singular values for your data)\n",
    "\n",
    "The graph below should show both the best-fit and svd solution:"
   ]
  },
  {
   "cell_type": "code",
   "execution_count": 22,
   "metadata": {
    "colab": {
     "base_uri": "https://localhost:8080/",
     "height": 295
    },
    "colab_type": "code",
    "id": "jfQsu02SYVQ-",
    "outputId": "bb888dcf-6bfb-4ca1-d0b6-baa5b8f260c0"
   },
   "outputs": [
    {
     "data": {
      "image/png": "[encoded data removed]",
      "text/plain": [
       "<Figure size 432x288 with 1 Axes>"
      ]
     },
     "metadata": {
      "needs_background": "light"
     },
     "output_type": "display_data"
    }
   ],
   "source": [
    "#Show a plot of the solutions using the best-fit method, and the SVD method:\n",
    "\n",
    "# We'll specify that x is a variable:\n",
    "x = sym.symbols('x')\n",
    "\n",
    "xdata = []\n",
    "fdata = []\n",
    "#set up our 100 data points on the interval from (-3, 3):\n",
    "xdata = np.array(range(100))/(100/6) - 3\n",
    "# find the ouput for our function on each data point:\n",
    "fdata = 4 - 3*xdata**2 + 5*xdata**6\n",
    "\n",
    "#construct the solution from bestfit:\n",
    "best_fit = c[0,0] + c[1,0]*xdata + c[2,0]*(xdata**2) + c[3,0]*(xdata**3) + c[4,0]*(xdata**4) + c[5,0]*(xdata**5) + c[6,0]*(xdata**6)\n",
    "\n",
    "#construct the solution from svdsol\n",
    "svd_fit = svdsol[0,0] + svdsol[1,0]*xdata + svdsol[2,0]*(xdata**2) + svdsol[3,0]*(xdata**3) + svdsol[4,0]*(xdata**4) + svdsol[5,0]*(xdata**5) + svdsol[6,0]*(xdata**6)\n",
    "\n",
    "# Create the actual plot in red, and our datapoints in blue,\n",
    "# the best-fit method in green, and the svd solution in aqua:  \n",
    "plt.plot(xdata,fdata, color='red', linewidth=2 ) + plt.plot(actual_data_x, actual_data_y, 'bo', alpha=0.3) + plt.plot(xdata,best_fit, color='green') + plt.plot(xdata, svd_fit, 'aqua')\n",
    "\n",
    "\n",
    "#Restrict the output values to this range:\n",
    "plt.ylim(-30,30)\n",
    "# Add a title\n",
    "plt.title('Our test data (blue) for the original function (red); our best-fit solution (green);  and svd solution (aqua)')\n",
    "\n",
    "# Add X and y Label\n",
    "plt.xlabel('x axis')\n",
    "plt.ylabel('output')\n",
    "\n",
    "# Add a grid\n",
    "plt.grid(alpha=.4,linestyle='--')"
   ]
  },
  {
   "cell_type": "code",
   "execution_count": 23,
   "metadata": {},
   "outputs": [],
   "source": [
    "#fit is very good with only 7 data points"
   ]
  }
 ],
 "metadata": {
  "colab": {
   "authorship_tag": "ABX9TyP/UMHWZw2QpktFAdocfQFJ",
   "collapsed_sections": [],
   "include_colab_link": true,
   "name": "Project 4:  Case 0 - Solving for a known polynomial function using Singular Values or Best Fit.ipynb",
   "provenance": []
  },
  "kernelspec": {
   "display_name": "AdvLinAlg",
   "language": "python",
   "name": "advlinalg"
  },
  "language_info": {
   "codemirror_mode": {
    "name": "ipython",
    "version": 3
   },
   "file_extension": ".py",
   "mimetype": "text/x-python",
   "name": "python",
   "nbconvert_exporter": "python",
   "pygments_lexer": "ipython3",
   "version": "3.6.10"
  }
 },
 "nbformat": 4,
 "nbformat_minor": 1
}
