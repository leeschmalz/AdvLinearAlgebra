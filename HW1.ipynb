{
 "cells": [
  {
   "cell_type": "code",
   "execution_count": 1,
   "metadata": {},
   "outputs": [],
   "source": [
    "import numpy as np"
   ]
  },
  {
   "cell_type": "code",
   "execution_count": 5,
   "metadata": {},
   "outputs": [],
   "source": [
    "#define functions\n",
    "#Used to specify location of car and where the headlights are pointing\n",
    "def location(a,b):\n",
    "       \"\"\"Create a vector that defines location a,b,1\"\"\"\n",
    "       return np.matrix([[a],[b],[1]])\n",
    "\n",
    "#Translate\n",
    "def T(c,d):\n",
    "  \"\"\"Return a 3x3 matrix which translates x by a and y by b\"\"\"\n",
    "  return np.matrix([[1,0,c], [0,1,d],[0,0,1]])\n",
    "\n",
    "#Rotate around origin\n",
    "def R(phi):\n",
    "  \"\"\"Return a 3x3 matrix which translates around the origin by angle phi\"\"\"\n",
    "  return np.round(np.matrix([[np.cos(np.deg2rad(phi)), -1*np.sin(np.deg2rad(phi)), 0], [np.sin(np.deg2rad(phi)), np.cos(np.deg2rad(phi)), 0], [0, 0, 1] ]),5)\n",
    "\n",
    "#Rotate in place\n",
    "def RabByPhi(a,b,phi, T, R):\n",
    "  \"\"\"Return a 3x3 matrix which rotates the car at location a,b by 90 degrees.\"\"\"\n",
    "  return T(a,b) * R(phi) * T(-a, -b)"
   ]
  },
  {
   "cell_type": "code",
   "execution_count": 11,
   "metadata": {},
   "outputs": [
    {
     "data": {
      "text/plain": [
       "matrix([[4.],\n",
       "        [0.],\n",
       "        [1.]])"
      ]
     },
     "execution_count": 11,
     "metadata": {},
     "output_type": "execute_result"
    }
   ],
   "source": [
    "#Case 1\n",
    "car1 = location(3,0)\n",
    "light1 = location(3,1)\n",
    "\n",
    "T(3,3)*R(270)*car1\n",
    "T(3,3)*R(270)*light1"
   ]
  },
  {
   "cell_type": "code",
   "execution_count": 13,
   "metadata": {},
   "outputs": [
    {
     "data": {
      "text/plain": [
       "matrix([[ 3.],\n",
       "        [-1.],\n",
       "        [ 1.]])"
      ]
     },
     "execution_count": 13,
     "metadata": {},
     "output_type": "execute_result"
    }
   ],
   "source": [
    "#Someone pointing out the passenger side window is pointing towards\n",
    "pointing_at1 = location(4,0)\n",
    "T(3,3)*R(270)*pointing_at1"
   ]
  },
  {
   "cell_type": "code",
   "execution_count": 16,
   "metadata": {},
   "outputs": [],
   "source": [
    "#Case 1B\n",
    "car1b = location(3,2)\n",
    "light1b = location(3,3)"
   ]
  },
  {
   "cell_type": "code",
   "execution_count": 17,
   "metadata": {},
   "outputs": [
    {
     "data": {
      "text/plain": [
       "matrix([[3.],\n",
       "        [2.],\n",
       "        [1.]])"
      ]
     },
     "execution_count": 17,
     "metadata": {},
     "output_type": "execute_result"
    }
   ],
   "source": [
    "T(3,2)*R(270)*T(-3,-2)*car1b"
   ]
  },
  {
   "cell_type": "code",
   "execution_count": 18,
   "metadata": {},
   "outputs": [
    {
     "data": {
      "text/plain": [
       "matrix([[4.],\n",
       "        [2.],\n",
       "        [1.]])"
      ]
     },
     "execution_count": 18,
     "metadata": {},
     "output_type": "execute_result"
    }
   ],
   "source": [
    "T(3,2)*R(270)*T(-3,-2)*light1b"
   ]
  },
  {
   "cell_type": "code",
   "execution_count": 21,
   "metadata": {},
   "outputs": [
    {
     "data": {
      "text/plain": [
       "matrix([[3.],\n",
       "        [2.],\n",
       "        [1.]])"
      ]
     },
     "execution_count": 21,
     "metadata": {},
     "output_type": "execute_result"
    }
   ],
   "source": [
    "#this is how the inplace function was built\n",
    "RabByPhi(3,2,270,T,R)*car1b"
   ]
  },
  {
   "cell_type": "code",
   "execution_count": 25,
   "metadata": {},
   "outputs": [
    {
     "data": {
      "text/plain": [
       "matrix([[4.],\n",
       "        [2.],\n",
       "        [1.]])"
      ]
     },
     "execution_count": 25,
     "metadata": {},
     "output_type": "execute_result"
    }
   ],
   "source": [
    "RabByPhi(3,2,270,T,R)*light1b"
   ]
  },
  {
   "cell_type": "code",
   "execution_count": 26,
   "metadata": {},
   "outputs": [
    {
     "data": {
      "text/plain": [
       "matrix([[3.],\n",
       "        [1.],\n",
       "        [1.]])"
      ]
     },
     "execution_count": 26,
     "metadata": {},
     "output_type": "execute_result"
    }
   ],
   "source": [
    "#Someone pointing out the passenger side window is pointing towards\n",
    "pointing_at1b = location(4,2)\n",
    "RabByPhi(3,2,270,T,R)*pointing_at1b"
   ]
  },
  {
   "cell_type": "code",
   "execution_count": 27,
   "metadata": {},
   "outputs": [],
   "source": [
    "#Case 2\n",
    "car2 = location(3,0)\n",
    "light2 = location(3,1)"
   ]
  },
  {
   "cell_type": "code",
   "execution_count": 28,
   "metadata": {},
   "outputs": [
    {
     "data": {
      "text/plain": [
       "matrix([[-2.],\n",
       "        [-2.],\n",
       "        [ 1.]])"
      ]
     },
     "execution_count": 28,
     "metadata": {},
     "output_type": "execute_result"
    }
   ],
   "source": [
    "T(1,-2)*R(180)*car2"
   ]
  },
  {
   "cell_type": "code",
   "execution_count": 29,
   "metadata": {},
   "outputs": [
    {
     "data": {
      "text/plain": [
       "matrix([[-2.],\n",
       "        [-3.],\n",
       "        [ 1.]])"
      ]
     },
     "execution_count": 29,
     "metadata": {},
     "output_type": "execute_result"
    }
   ],
   "source": [
    "T(1,-2)*R(180)*light2"
   ]
  },
  {
   "cell_type": "code",
   "execution_count": 30,
   "metadata": {},
   "outputs": [],
   "source": [
    "#Case 3\n",
    "car3 = location(3,0)\n",
    "light3 = location(3,1)"
   ]
  },
  {
   "cell_type": "code",
   "execution_count": 31,
   "metadata": {},
   "outputs": [
    {
     "data": {
      "text/plain": [
       "matrix([[-1.,  0.,  1.],\n",
       "        [ 0., -1., -2.],\n",
       "        [ 0.,  0.,  1.]])"
      ]
     },
     "execution_count": 31,
     "metadata": {},
     "output_type": "execute_result"
    }
   ],
   "source": [
    "back_into_garage = T(0,1)*RabByPhi(-2,-3,90,T,R)*T(-2,0)*RabByPhi(0,-3,-90,T,R)*T(0,-3)*RabByPhi(0,0,90,T,R)*T(-3,0)*RabByPhi(3,0,90,T,R)\n",
    "back_into_garage"
   ]
  },
  {
   "cell_type": "code",
   "execution_count": 33,
   "metadata": {},
   "outputs": [
    {
     "data": {
      "text/plain": [
       "matrix([[-2.],\n",
       "        [-2.],\n",
       "        [ 1.]])"
      ]
     },
     "execution_count": 33,
     "metadata": {},
     "output_type": "execute_result"
    }
   ],
   "source": [
    "back_into_garage*car3"
   ]
  },
  {
   "cell_type": "code",
   "execution_count": 34,
   "metadata": {},
   "outputs": [
    {
     "data": {
      "text/plain": [
       "matrix([[-2.],\n",
       "        [-3.],\n",
       "        [ 1.]])"
      ]
     },
     "execution_count": 34,
     "metadata": {},
     "output_type": "execute_result"
    }
   ],
   "source": [
    "back_into_garage*light3"
   ]
  },
  {
   "cell_type": "code",
   "execution_count": null,
   "metadata": {},
   "outputs": [],
   "source": []
  }
 ],
 "metadata": {
  "kernelspec": {
   "display_name": "Python 3",
   "language": "python",
   "name": "python3"
  },
  "language_info": {
   "codemirror_mode": {
    "name": "ipython",
    "version": 3
   },
   "file_extension": ".py",
   "mimetype": "text/x-python",
   "name": "python",
   "nbconvert_exporter": "python",
   "pygments_lexer": "ipython3",
   "version": "3.7.4"
  }
 },
 "nbformat": 4,
 "nbformat_minor": 2
}
