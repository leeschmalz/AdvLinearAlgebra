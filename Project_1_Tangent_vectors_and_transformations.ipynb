{
 "cells": [
  {
   "cell_type": "markdown",
   "metadata": {
    "colab_type": "text",
    "id": "57j2zq31_0qa"
   },
   "source": [
    "# Project 1:  Tangent vectors and transformations"
   ]
  },
  {
   "cell_type": "markdown",
   "metadata": {
    "colab_type": "text",
    "id": "ngQ6BrES_7-Y"
   },
   "source": [
    "For this project, we'll look at the transformations arising from each of the matrices below:\n",
    "\n",
    "$$ A = \\left( \\begin{array}{ccc} 0 & -1 & 0 \\\\ 1 & 0 & 0 \\\\ 0 & 0 & 0 \\\\ \\end{array} \\right) \\hspace{2cm}\n",
    "B = \\left( \\begin{array}{ccc} 0 & 0 & 0 \\\\ 0 & 0 & -1 \\\\ 0 & 1 & 0 \\\\ \\end{array} \\right) \\hspace{2cm}\n",
    "C = \\left( \\begin{array}{ccc} 0 & 0 & 1 \\\\ 0 & 0 & 0 \\\\ -1 & 0 & 0 \\\\ \\end{array} \\right) \\hspace{2cm}\n",
    "$$\n",
    "\n",
    "The computational part of this project involves the following steps:\n",
    "\n",
    "1.  The columns of a matrix tell us what happens to the basis vectors in a vector space.  Explain what matrices $A$, $B$, and $C$ do to the standard basis elements for $\\mathbb{R}^3$.  (Note:  Bonus points for creating a graph showing what happens to each basis vector.  e.g. For A, the initial vector $e_1$ is sent in the direction $(0, 1, 0)$, so draw an arrow from $(1, 0, 0)$ to $(1, 1, 0)$. )\n",
    "\n",
    "2.  Compute $exp(t\\,A), exp(t\\,B)$, and $exp(t\\,C)$ for each matrix, which is defined as\n",
    "  $$ exp(M) = I_n + M + \\frac{1}{2!} M^2 + \\frac{1}{3!} M^3 + \\cdots + \\frac{1}{m!} M^m + \\cdots $$\n",
    "\n",
    "  To do this, separately compute $$(Mt)^0, (Mt)^1, (Mt)^2, (Mt)^3, (Mt)^4, (Mt)^5, (Mt)^6$$ and combine them to form the first several terms of $exp(Mt)$ for each of your three matrices.\n",
    "\n",
    "  \n",
    "3.  We can think of each of the $3 \\times 3$ matrices in part 2 as maps, or transformations $\\gamma: \\mathbb{R} \\to \\mathbb{M}_{3\\times3}$, which depending on $t$ and which act on the space $\\mathbb{R}^3$:\n",
    "\n",
    "$$ \\gamma_A(t) = exp(t\\,A) \\hspace{2cm} \\gamma_B(t) = exp(t\\, B) \\hspace{2cm} \\gamma_C(t) = exp(t\\,C)$$\n",
    "What do each of these matrices do to the space $\\mathbb{R}^3$?\n",
    "\n",
    "4.  What causes more rotation, $\\gamma_A(t) \\circ \\gamma_A(t)$ or  $\\gamma_A(2t)$?\n",
    "\n",
    "5. If we pick two of the transformations, say $\\gamma_A(t)$ and $\\gamma_B(t)$, and then apply them like so:\n",
    "$$  Q = \\gamma_B(-t) \\circ \\gamma_A(-t) \\circ \\gamma_B(t) \\circ \\gamma_A(t)$$\n",
    "the result is <b>not necessarily</b> the identity transformation!  Find this transformation $Q$ and describe what it does to $\\mathbb{R}^3$.\n",
    "\n",
    "6.  A tangent vector is found by taking a derivative (with respect to $t$) and evaluating that derivative (at $t = 0$).  Find the tangent vector of:\n",
    "\n",
    "$$  \\gamma_A(t)  \\hspace{2cm}  \\gamma_B(t) \\hspace{2cm}  \\gamma_C(t) \\hspace{2cm} Q$$\n",
    "\n",
    "** Note 1:  The `sym.diff(M, t)` code will take the derivative of matrix $M$ with respect to variable $t$.  Then, evaluate the result with $t=0$.\n",
    "\n",
    "** Note 2: The tangent vector of $Q$ will be the 0 matrix; In this case, use the second derivative of $Q$ to form the tangent vector.\n",
    "\n",
    "\n",
    "\n",
    "7.  Compute the product $[ A, B ] = AB - BA$.  Compare this result to the tangent vectors in the previous problem.\n"
   ]
  },
  {
   "cell_type": "markdown",
   "metadata": {
    "colab_type": "text",
    "id": "0nfOKjAOHMul"
   },
   "source": [
    "# Code\n",
    "Put your code in this section. \n",
    "We'll use the package sympy to do symbolic computations in our code.\n",
    "\n",
    "Be sure to write comments in your code.\n",
    "Comments start with # symbols.\n",
    "\n",
    "Lastly, create an organization for your code.  (This organization is up to you!  )"
   ]
  },
  {
   "cell_type": "code",
   "execution_count": 37,
   "metadata": {
    "colab": {
     "base_uri": "https://localhost:8080/",
     "height": 34
    },
    "colab_type": "code",
    "id": "dNAjzxLD2rlL",
    "outputId": "a9063b15-b9d2-415c-99de-ec425bd48b73"
   },
   "outputs": [
    {
     "name": "stdout",
     "output_type": "stream",
     "text": [
      "\\left[\\begin{matrix}0 & t & 0\\\\t & 0 & 0\\\\0 & 0 & t\\end{matrix}\\right]\n"
     ]
    }
   ],
   "source": [
    "import matplotlib.pyplot as plt\n",
    "import sympy as sym\n",
    "import numpy as np\n",
    "from sympy import *\n",
    "\n",
    "# We'll specify that x and t are variables:\n",
    "x, t = sym.symbols('x, t')\n",
    "\n",
    "# this is a expression:\n",
    "expr = (x + t)**2\n",
    "\n",
    "# Use 'sym.latex(...) to produce the math expression in latex.  \n",
    "# Then, copy and paste the latex into a text field \n",
    "# Put it inside single dollar signs $ ... $ to typeset the mathematics inline,\n",
    "# or inside double dollar signs $$ ... $$ to center the math on its own line. \n",
    "sym.latex(expr.expand())\n",
    "\n",
    "# How to create a matrix S:\n",
    "S = sym.Matrix([[0, 1, 0], [1, 0, 0], [0, 0, 1]])\n",
    "# or a 3x3 identity matrix:\n",
    "I3 = sym.eye(3)\n",
    "\n",
    "# How to multiply the matrix S by the variable t:\n",
    "St = S*t\n",
    "\n",
    "# How to output the latex so the matrix looks nice:\n",
    "print(sym.latex(St))\n",
    "\n"
   ]
  },
  {
   "cell_type": "markdown",
   "metadata": {
    "colab_type": "text",
    "id": "5wMQ0SGi5_aP"
   },
   "source": [
    "This is the matrix, but two things need to be fixed:\n",
    "\n",
    "$$ \\\\left[\\\\begin{matrix}0 & t & 0\\\\\\\\t & 0 & 0\\\\\\\\0 & 0 & t\\\\end{matrix}\\\\right] $$\n",
    "\n",
    "1)  Replace every \\\\ with a single \\\n",
    "2)  Put some space before the \\ marks, or after the \\\\ marks\n",
    "\n",
    "$$ \\left[ \\begin{matrix}0 & t & 0 \\\\ t & 0 & 0 \\\\ 0 & 0 & t \\end{matrix} \\right] $$\n"
   ]
  },
  {
   "cell_type": "code",
   "execution_count": 2,
   "metadata": {},
   "outputs": [],
   "source": [
    "A = sym.Matrix([[0, -1, 0], [1, 0, 0], [0, 0, 0]])\n",
    "B = sym.Matrix([[0, 0, 0], [0, 0, -1], [0, 1, 0]])\n",
    "C = sym.Matrix([[0,0,1],[0,0,0],[-1,0,0]])"
   ]
  },
  {
   "cell_type": "code",
   "execution_count": 3,
   "metadata": {},
   "outputs": [],
   "source": [
    "v_1 = sym.Matrix([[1],[0],[0]])\n",
    "v_2 = sym.Matrix([[0],[1],[0]])\n",
    "v_3 = sym.Matrix([[0],[0],[1]])"
   ]
  },
  {
   "cell_type": "markdown",
   "metadata": {},
   "source": [
    "## Matrix A times each basis vector"
   ]
  },
  {
   "cell_type": "code",
   "execution_count": 4,
   "metadata": {},
   "outputs": [
    {
     "data": {
      "text/latex": [
       "$\\displaystyle \\left[\\begin{matrix}0\\\\1\\\\0\\end{matrix}\\right]$"
      ],
      "text/plain": [
       "Matrix([\n",
       "[0],\n",
       "[1],\n",
       "[0]])"
      ]
     },
     "execution_count": 4,
     "metadata": {},
     "output_type": "execute_result"
    }
   ],
   "source": [
    "A*v_1"
   ]
  },
  {
   "cell_type": "code",
   "execution_count": 5,
   "metadata": {},
   "outputs": [
    {
     "data": {
      "text/latex": [
       "$\\displaystyle \\left[\\begin{matrix}-1\\\\0\\\\0\\end{matrix}\\right]$"
      ],
      "text/plain": [
       "Matrix([\n",
       "[-1],\n",
       "[ 0],\n",
       "[ 0]])"
      ]
     },
     "execution_count": 5,
     "metadata": {},
     "output_type": "execute_result"
    }
   ],
   "source": [
    "A*v_2"
   ]
  },
  {
   "cell_type": "code",
   "execution_count": 6,
   "metadata": {},
   "outputs": [
    {
     "data": {
      "text/latex": [
       "$\\displaystyle \\left[\\begin{matrix}0\\\\0\\\\0\\end{matrix}\\right]$"
      ],
      "text/plain": [
       "Matrix([\n",
       "[0],\n",
       "[0],\n",
       "[0]])"
      ]
     },
     "execution_count": 6,
     "metadata": {},
     "output_type": "execute_result"
    }
   ],
   "source": [
    "A*v_3"
   ]
  },
  {
   "cell_type": "markdown",
   "metadata": {},
   "source": [
    "## Matrix B times each basis vector"
   ]
  },
  {
   "cell_type": "code",
   "execution_count": 7,
   "metadata": {},
   "outputs": [
    {
     "data": {
      "text/latex": [
       "$\\displaystyle \\left[\\begin{matrix}0\\\\0\\\\0\\end{matrix}\\right]$"
      ],
      "text/plain": [
       "Matrix([\n",
       "[0],\n",
       "[0],\n",
       "[0]])"
      ]
     },
     "execution_count": 7,
     "metadata": {},
     "output_type": "execute_result"
    }
   ],
   "source": [
    "B*v_1"
   ]
  },
  {
   "cell_type": "code",
   "execution_count": 8,
   "metadata": {},
   "outputs": [
    {
     "data": {
      "text/latex": [
       "$\\displaystyle \\left[\\begin{matrix}0\\\\0\\\\1\\end{matrix}\\right]$"
      ],
      "text/plain": [
       "Matrix([\n",
       "[0],\n",
       "[0],\n",
       "[1]])"
      ]
     },
     "execution_count": 8,
     "metadata": {},
     "output_type": "execute_result"
    }
   ],
   "source": [
    "B*v_2"
   ]
  },
  {
   "cell_type": "code",
   "execution_count": 9,
   "metadata": {},
   "outputs": [
    {
     "data": {
      "text/latex": [
       "$\\displaystyle \\left[\\begin{matrix}0\\\\-1\\\\0\\end{matrix}\\right]$"
      ],
      "text/plain": [
       "Matrix([\n",
       "[ 0],\n",
       "[-1],\n",
       "[ 0]])"
      ]
     },
     "execution_count": 9,
     "metadata": {},
     "output_type": "execute_result"
    }
   ],
   "source": [
    "B*v_3"
   ]
  },
  {
   "cell_type": "markdown",
   "metadata": {},
   "source": [
    "## Matrix C times each basis vector"
   ]
  },
  {
   "cell_type": "code",
   "execution_count": 10,
   "metadata": {},
   "outputs": [
    {
     "data": {
      "text/latex": [
       "$\\displaystyle \\left[\\begin{matrix}0\\\\0\\\\-1\\end{matrix}\\right]$"
      ],
      "text/plain": [
       "Matrix([\n",
       "[ 0],\n",
       "[ 0],\n",
       "[-1]])"
      ]
     },
     "execution_count": 10,
     "metadata": {},
     "output_type": "execute_result"
    }
   ],
   "source": [
    "C*v_1"
   ]
  },
  {
   "cell_type": "code",
   "execution_count": 11,
   "metadata": {},
   "outputs": [
    {
     "data": {
      "text/latex": [
       "$\\displaystyle \\left[\\begin{matrix}0\\\\0\\\\0\\end{matrix}\\right]$"
      ],
      "text/plain": [
       "Matrix([\n",
       "[0],\n",
       "[0],\n",
       "[0]])"
      ]
     },
     "execution_count": 11,
     "metadata": {},
     "output_type": "execute_result"
    }
   ],
   "source": [
    "C*v_2"
   ]
  },
  {
   "cell_type": "code",
   "execution_count": 12,
   "metadata": {},
   "outputs": [
    {
     "data": {
      "text/latex": [
       "$\\displaystyle \\left[\\begin{matrix}1\\\\0\\\\0\\end{matrix}\\right]$"
      ],
      "text/plain": [
       "Matrix([\n",
       "[1],\n",
       "[0],\n",
       "[0]])"
      ]
     },
     "execution_count": 12,
     "metadata": {},
     "output_type": "execute_result"
    }
   ],
   "source": [
    "C*v_3"
   ]
  },
  {
   "cell_type": "markdown",
   "metadata": {},
   "source": [
    "## Problem 2"
   ]
  },
  {
   "cell_type": "code",
   "execution_count": 13,
   "metadata": {},
   "outputs": [],
   "source": [
    "def exp(M):\n",
    "    I = sym.Matrix([[1,0,0],[0,1,0],[0,0,1]])\n",
    "    sum_list = I\n",
    "    for i in range(1,7):\n",
    "        sum_list = sum_list + (1/(np.math.factorial(i))*((M*t)**i))\n",
    "    return sum_list.evalf(3)"
   ]
  },
  {
   "cell_type": "markdown",
   "metadata": {},
   "source": [
    "## Notice exp(A) is a rotation matrix: Rotates XY Plane"
   ]
  },
  {
   "cell_type": "code",
   "execution_count": 14,
   "metadata": {},
   "outputs": [
    {
     "data": {
      "text/latex": [
       "$\\displaystyle \\left[\\begin{matrix}- 0.00139 t^{6} + 0.0417 t^{4} - 0.5 t^{2} + 1.0 & - 0.00833 t^{5} + 0.167 t^{3} - 1.0 t & 0\\\\0.00833 t^{5} - 0.167 t^{3} + 1.0 t & - 0.00139 t^{6} + 0.0417 t^{4} - 0.5 t^{2} + 1.0 & 0\\\\0 & 0 & 1.0\\end{matrix}\\right]$"
      ],
      "text/plain": [
       "Matrix([\n",
       "[-0.00139*t**6 + 0.0417*t**4 - 0.5*t**2 + 1.0,           -0.00833*t**5 + 0.167*t**3 - 1.0*t,   0],\n",
       "[           0.00833*t**5 - 0.167*t**3 + 1.0*t, -0.00139*t**6 + 0.0417*t**4 - 0.5*t**2 + 1.0,   0],\n",
       "[                                           0,                                            0, 1.0]])"
      ]
     },
     "execution_count": 14,
     "metadata": {},
     "output_type": "execute_result"
    }
   ],
   "source": [
    "exp(A)"
   ]
  },
  {
   "cell_type": "code",
   "execution_count": 15,
   "metadata": {},
   "outputs": [
    {
     "name": "stdout",
     "output_type": "stream",
     "text": [
      "exp(At) =\n"
     ]
    },
    {
     "data": {
      "text/latex": [
       "$\\displaystyle \\left[\\begin{matrix}\\cos{\\left(t \\right)} & - \\sin{\\left(t \\right)} & 0\\\\\\sin{\\left(t \\right)} & \\cos{\\left(t \\right)} & 0\\\\0 & 0 & 1\\end{matrix}\\right]$"
      ],
      "text/plain": [
       "Matrix([\n",
       "[cos(t), -sin(t), 0],\n",
       "[sin(t),  cos(t), 0],\n",
       "[     0,       0, 1]])"
      ]
     },
     "execution_count": 15,
     "metadata": {},
     "output_type": "execute_result"
    }
   ],
   "source": [
    "print('exp(At) =')\n",
    "sym.Matrix([[sym.cos(t),-sym.sin(t),0],[sym.sin(t),sym.cos(t),0],[0,0,1]])"
   ]
  },
  {
   "cell_type": "markdown",
   "metadata": {},
   "source": [
    "## Notice exp(B) is a rotation matrix: Rotates YZ Plane"
   ]
  },
  {
   "cell_type": "code",
   "execution_count": 16,
   "metadata": {},
   "outputs": [
    {
     "data": {
      "text/latex": [
       "$\\displaystyle \\left[\\begin{matrix}1.0 & 0 & 0\\\\0 & - 0.00139 t^{6} + 0.0417 t^{4} - 0.5 t^{2} + 1.0 & - 0.00833 t^{5} + 0.167 t^{3} - 1.0 t\\\\0 & 0.00833 t^{5} - 0.167 t^{3} + 1.0 t & - 0.00139 t^{6} + 0.0417 t^{4} - 0.5 t^{2} + 1.0\\end{matrix}\\right]$"
      ],
      "text/plain": [
       "Matrix([\n",
       "[1.0,                                            0,                                            0],\n",
       "[  0, -0.00139*t**6 + 0.0417*t**4 - 0.5*t**2 + 1.0,           -0.00833*t**5 + 0.167*t**3 - 1.0*t],\n",
       "[  0,            0.00833*t**5 - 0.167*t**3 + 1.0*t, -0.00139*t**6 + 0.0417*t**4 - 0.5*t**2 + 1.0]])"
      ]
     },
     "execution_count": 16,
     "metadata": {},
     "output_type": "execute_result"
    }
   ],
   "source": [
    "exp(B)"
   ]
  },
  {
   "cell_type": "code",
   "execution_count": 17,
   "metadata": {},
   "outputs": [
    {
     "name": "stdout",
     "output_type": "stream",
     "text": [
      "exp(Bt) =\n"
     ]
    },
    {
     "data": {
      "text/latex": [
       "$\\displaystyle \\left[\\begin{matrix}1 & 0 & 0\\\\0 & \\cos{\\left(t \\right)} & - \\sin{\\left(t \\right)}\\\\0 & \\sin{\\left(t \\right)} & \\cos{\\left(t \\right)}\\end{matrix}\\right]$"
      ],
      "text/plain": [
       "Matrix([\n",
       "[1,      0,       0],\n",
       "[0, cos(t), -sin(t)],\n",
       "[0, sin(t),  cos(t)]])"
      ]
     },
     "execution_count": 17,
     "metadata": {},
     "output_type": "execute_result"
    }
   ],
   "source": [
    "print('exp(Bt) =')\n",
    "sym.Matrix([[1,0,0],[0,sym.cos(t),-sym.sin(t)],[0,sym.sin(t),sym.cos(t)]])"
   ]
  },
  {
   "cell_type": "markdown",
   "metadata": {},
   "source": [
    "## Notice exp(A) is a rotation matrix: Rotates XZ Plane"
   ]
  },
  {
   "cell_type": "code",
   "execution_count": 18,
   "metadata": {},
   "outputs": [
    {
     "data": {
      "text/latex": [
       "$\\displaystyle \\left[\\begin{matrix}- 0.00139 t^{6} + 0.0417 t^{4} - 0.5 t^{2} + 1.0 & 0 & 0.00833 t^{5} - 0.167 t^{3} + 1.0 t\\\\0 & 1.0 & 0\\\\- 0.00833 t^{5} + 0.167 t^{3} - 1.0 t & 0 & - 0.00139 t^{6} + 0.0417 t^{4} - 0.5 t^{2} + 1.0\\end{matrix}\\right]$"
      ],
      "text/plain": [
       "Matrix([\n",
       "[-0.00139*t**6 + 0.0417*t**4 - 0.5*t**2 + 1.0,   0,            0.00833*t**5 - 0.167*t**3 + 1.0*t],\n",
       "[                                           0, 1.0,                                            0],\n",
       "[          -0.00833*t**5 + 0.167*t**3 - 1.0*t,   0, -0.00139*t**6 + 0.0417*t**4 - 0.5*t**2 + 1.0]])"
      ]
     },
     "execution_count": 18,
     "metadata": {},
     "output_type": "execute_result"
    }
   ],
   "source": [
    "exp(C)"
   ]
  },
  {
   "cell_type": "code",
   "execution_count": 19,
   "metadata": {},
   "outputs": [
    {
     "name": "stdout",
     "output_type": "stream",
     "text": [
      "exp(Ct) =\n"
     ]
    },
    {
     "data": {
      "text/latex": [
       "$\\displaystyle \\left[\\begin{matrix}\\cos{\\left(t \\right)} & 0 & \\sin{\\left(t \\right)}\\\\0 & 1 & 0\\\\- \\sin{\\left(t \\right)} & 0 & \\cos{\\left(t \\right)}\\end{matrix}\\right]$"
      ],
      "text/plain": [
       "Matrix([\n",
       "[ cos(t), 0, sin(t)],\n",
       "[      0, 1,      0],\n",
       "[-sin(t), 0, cos(t)]])"
      ]
     },
     "execution_count": 19,
     "metadata": {},
     "output_type": "execute_result"
    }
   ],
   "source": [
    "print('exp(Ct) =')\n",
    "sym.Matrix([[sym.cos(t),0,sym.sin(t)],[0,1,0],[-sym.sin(t),0,sym.cos(t)]])"
   ]
  },
  {
   "cell_type": "markdown",
   "metadata": {},
   "source": [
    "## Question 4"
   ]
  },
  {
   "cell_type": "code",
   "execution_count": 53,
   "metadata": {},
   "outputs": [],
   "source": [
    "def expA(t):\n",
    "    return sym.Matrix([[sym.cos(t),-sym.sin(t),0],[sym.sin(t),sym.cos(t),0],[0,0,1]])"
   ]
  },
  {
   "cell_type": "code",
   "execution_count": 54,
   "metadata": {},
   "outputs": [],
   "source": [
    "def expB(t):\n",
    "    return sym.Matrix([[1,0,0],[0,sym.cos(t),-sym.sin(t)],[0,sym.sin(t),sym.cos(t)]])"
   ]
  },
  {
   "cell_type": "code",
   "execution_count": 55,
   "metadata": {},
   "outputs": [],
   "source": [
    "def expC(t):\n",
    "    return sym.Matrix([[sym.cos(t),0,sym.sin(t)],[0,1,0],[-sym.sin(t),0,sym.cos(t)]])"
   ]
  },
  {
   "cell_type": "code",
   "execution_count": 56,
   "metadata": {},
   "outputs": [
    {
     "data": {
      "text/latex": [
       "$\\displaystyle \\left[\\begin{matrix}- \\sin^{2}{\\left(t \\right)} + \\cos^{2}{\\left(t \\right)} & - 2 \\sin{\\left(t \\right)} \\cos{\\left(t \\right)} & 0\\\\2 \\sin{\\left(t \\right)} \\cos{\\left(t \\right)} & - \\sin^{2}{\\left(t \\right)} + \\cos^{2}{\\left(t \\right)} & 0\\\\0 & 0 & 1\\end{matrix}\\right]$"
      ],
      "text/plain": [
       "Matrix([\n",
       "[-sin(t)**2 + cos(t)**2,       -2*sin(t)*cos(t), 0],\n",
       "[       2*sin(t)*cos(t), -sin(t)**2 + cos(t)**2, 0],\n",
       "[                     0,                      0, 1]])"
      ]
     },
     "execution_count": 56,
     "metadata": {},
     "output_type": "execute_result"
    }
   ],
   "source": [
    "expA(t)*expA(t)"
   ]
  },
  {
   "cell_type": "markdown",
   "metadata": {},
   "source": [
    "## Simplified:"
   ]
  },
  {
   "cell_type": "code",
   "execution_count": 57,
   "metadata": {},
   "outputs": [
    {
     "data": {
      "text/latex": [
       "$\\displaystyle \\left[\\begin{matrix}\\cos{\\left(2 t \\right)} & - \\sin{\\left(2 t \\right)} & 0\\\\\\sin{\\left(2 t \\right)} & \\cos{\\left(2 t \\right)} & 0\\\\0 & 0 & 1\\end{matrix}\\right]$"
      ],
      "text/plain": [
       "Matrix([\n",
       "[cos(2*t), -sin(2*t), 0],\n",
       "[sin(2*t),  cos(2*t), 0],\n",
       "[       0,         0, 1]])"
      ]
     },
     "execution_count": 57,
     "metadata": {},
     "output_type": "execute_result"
    }
   ],
   "source": [
    "sym.simplify(expA(t)*expA(t))"
   ]
  },
  {
   "cell_type": "code",
   "execution_count": 58,
   "metadata": {},
   "outputs": [
    {
     "data": {
      "text/latex": [
       "$\\displaystyle \\left[\\begin{matrix}\\cos{\\left(2 t \\right)} & - \\sin{\\left(2 t \\right)} & 0\\\\\\sin{\\left(2 t \\right)} & \\cos{\\left(2 t \\right)} & 0\\\\0 & 0 & 1\\end{matrix}\\right]$"
      ],
      "text/plain": [
       "Matrix([\n",
       "[cos(2*t), -sin(2*t), 0],\n",
       "[sin(2*t),  cos(2*t), 0],\n",
       "[       0,         0, 1]])"
      ]
     },
     "execution_count": 58,
     "metadata": {},
     "output_type": "execute_result"
    }
   ],
   "source": [
    "expA(2*t)"
   ]
  },
  {
   "cell_type": "code",
   "execution_count": 61,
   "metadata": {},
   "outputs": [
    {
     "data": {
      "text/latex": [
       "$\\displaystyle \\left[\\begin{matrix}\\sin^{2}{\\left(t \\right)} \\cos{\\left(t \\right)} + \\cos^{2}{\\left(t \\right)} & \\sin{\\left(t \\right)} \\cos^{2}{\\left(t \\right)} - \\sin{\\left(t \\right)} \\cos{\\left(t \\right)} & - \\sin^{2}{\\left(t \\right)}\\\\\\left(\\sin^{2}{\\left(t \\right)} + \\cos^{3}{\\left(t \\right)}\\right) \\sin{\\left(t \\right)} - \\sin{\\left(t \\right)} \\cos^{2}{\\left(t \\right)} & \\left(\\sin^{2}{\\left(t \\right)} + \\cos^{3}{\\left(t \\right)}\\right) \\cos{\\left(t \\right)} + \\sin^{2}{\\left(t \\right)} \\cos{\\left(t \\right)} & - \\sin{\\left(t \\right)} \\cos^{2}{\\left(t \\right)} + \\sin{\\left(t \\right)} \\cos{\\left(t \\right)}\\\\\\left(- \\sin{\\left(t \\right)} \\cos^{2}{\\left(t \\right)} + \\sin{\\left(t \\right)} \\cos{\\left(t \\right)}\\right) \\sin{\\left(t \\right)} + \\sin^{2}{\\left(t \\right)} \\cos{\\left(t \\right)} & \\left(- \\sin{\\left(t \\right)} \\cos^{2}{\\left(t \\right)} + \\sin{\\left(t \\right)} \\cos{\\left(t \\right)}\\right) \\cos{\\left(t \\right)} - \\sin^{3}{\\left(t \\right)} & \\sin^{2}{\\left(t \\right)} \\cos{\\left(t \\right)} + \\cos^{2}{\\left(t \\right)}\\end{matrix}\\right]$"
      ],
      "text/plain": [
       "Matrix([\n",
       "[                                 sin(t)**2*cos(t) + cos(t)**2,                       sin(t)*cos(t)**2 - sin(t)*cos(t),                        -sin(t)**2],\n",
       "[            (sin(t)**2 + cos(t)**3)*sin(t) - sin(t)*cos(t)**2,      (sin(t)**2 + cos(t)**3)*cos(t) + sin(t)**2*cos(t), -sin(t)*cos(t)**2 + sin(t)*cos(t)],\n",
       "[(-sin(t)*cos(t)**2 + sin(t)*cos(t))*sin(t) + sin(t)**2*cos(t), (-sin(t)*cos(t)**2 + sin(t)*cos(t))*cos(t) - sin(t)**3,      sin(t)**2*cos(t) + cos(t)**2]])"
      ]
     },
     "execution_count": 61,
     "metadata": {},
     "output_type": "execute_result"
    }
   ],
   "source": [
    "expB(-t)*expA(-t)*expB(t)*expA(t)"
   ]
  },
  {
   "cell_type": "code",
   "execution_count": 100,
   "metadata": {},
   "outputs": [],
   "source": [
    "def Q(t):\n",
    "    return expB(-t)*expA(-t)*expB(t)*expA(t)"
   ]
  },
  {
   "cell_type": "code",
   "execution_count": 101,
   "metadata": {},
   "outputs": [
    {
     "data": {
      "text/latex": [
       "$\\displaystyle \\left[\\begin{matrix}6.12323399573677 \\cdot 10^{-17} & -6.12323399573677 \\cdot 10^{-17} & -1.0\\\\1.0 & 1.22464679914735 \\cdot 10^{-16} & 6.12323399573677 \\cdot 10^{-17}\\\\1.22464679914735 \\cdot 10^{-16} & -1.0 & 6.12323399573677 \\cdot 10^{-17}\\end{matrix}\\right]$"
      ],
      "text/plain": [
       "Matrix([\n",
       "[6.12323399573677e-17, -6.12323399573677e-17,                 -1.0],\n",
       "[                 1.0,  1.22464679914735e-16, 6.12323399573677e-17],\n",
       "[1.22464679914735e-16,                  -1.0, 6.12323399573677e-17]])"
      ]
     },
     "execution_count": 101,
     "metadata": {},
     "output_type": "execute_result"
    }
   ],
   "source": [
    "Q(np.pi/2)"
   ]
  },
  {
   "cell_type": "markdown",
   "metadata": {},
   "source": [
    "## Test 90 degree rotation: X rotated to Y"
   ]
  },
  {
   "cell_type": "code",
   "execution_count": 102,
   "metadata": {},
   "outputs": [
    {
     "data": {
      "text/latex": [
       "$\\displaystyle \\left[\\begin{matrix}6.12323399573677 \\cdot 10^{-17}\\\\1.0\\\\1.22464679914735 \\cdot 10^{-16}\\end{matrix}\\right]$"
      ],
      "text/plain": [
       "Matrix([\n",
       "[6.12323399573677e-17],\n",
       "[                 1.0],\n",
       "[1.22464679914735e-16]])"
      ]
     },
     "execution_count": 102,
     "metadata": {},
     "output_type": "execute_result"
    }
   ],
   "source": [
    "Q(np.pi/2)*v_1"
   ]
  },
  {
   "cell_type": "markdown",
   "metadata": {},
   "source": [
    "## Test 90 degree rotation: Y rotated to -Z"
   ]
  },
  {
   "cell_type": "code",
   "execution_count": 103,
   "metadata": {},
   "outputs": [
    {
     "data": {
      "text/latex": [
       "$\\displaystyle \\left[\\begin{matrix}-6.12323399573677 \\cdot 10^{-17}\\\\1.22464679914735 \\cdot 10^{-16}\\\\-1.0\\end{matrix}\\right]$"
      ],
      "text/plain": [
       "Matrix([\n",
       "[-6.12323399573677e-17],\n",
       "[ 1.22464679914735e-16],\n",
       "[                 -1.0]])"
      ]
     },
     "execution_count": 103,
     "metadata": {},
     "output_type": "execute_result"
    }
   ],
   "source": [
    "Q(np.pi/2)*v_2"
   ]
  },
  {
   "cell_type": "markdown",
   "metadata": {},
   "source": [
    "## Test 90 degree rotation: Z rotated to -X"
   ]
  },
  {
   "cell_type": "code",
   "execution_count": 104,
   "metadata": {},
   "outputs": [
    {
     "data": {
      "text/latex": [
       "$\\displaystyle \\left[\\begin{matrix}-1.0\\\\6.12323399573677 \\cdot 10^{-17}\\\\6.12323399573677 \\cdot 10^{-17}\\end{matrix}\\right]$"
      ],
      "text/plain": [
       "Matrix([\n",
       "[                -1.0],\n",
       "[6.12323399573677e-17],\n",
       "[6.12323399573677e-17]])"
      ]
     },
     "execution_count": 104,
     "metadata": {},
     "output_type": "execute_result"
    }
   ],
   "source": [
    "Q(np.pi/2)*v_3"
   ]
  },
  {
   "cell_type": "markdown",
   "metadata": {},
   "source": [
    "## Question 6"
   ]
  },
  {
   "cell_type": "code",
   "execution_count": 88,
   "metadata": {},
   "outputs": [],
   "source": [
    "def expA_1d(t):\n",
    "    return sym.diff(expA(t))"
   ]
  },
  {
   "cell_type": "code",
   "execution_count": 107,
   "metadata": {},
   "outputs": [
    {
     "data": {
      "text/latex": [
       "$\\displaystyle \\left[\\begin{matrix}0 & -1.0 & 0\\\\1.0 & 0 & 0\\\\0 & 0 & 0\\end{matrix}\\right]$"
      ],
      "text/plain": [
       "Matrix([\n",
       "[  0, -1.0, 0],\n",
       "[1.0,    0, 0],\n",
       "[  0,    0, 0]])"
      ]
     },
     "execution_count": 107,
     "metadata": {},
     "output_type": "execute_result"
    }
   ],
   "source": [
    "sym.diff(expA(t)).evalf(subs={t:0})"
   ]
  },
  {
   "cell_type": "code",
   "execution_count": 95,
   "metadata": {},
   "outputs": [
    {
     "data": {
      "text/latex": [
       "$\\displaystyle \\left[\\begin{matrix}0 & 0 & 0\\\\0 & - \\sin{\\left(t \\right)} & - \\cos{\\left(t \\right)}\\\\0 & \\cos{\\left(t \\right)} & - \\sin{\\left(t \\right)}\\end{matrix}\\right]$"
      ],
      "text/plain": [
       "Matrix([\n",
       "[0,       0,       0],\n",
       "[0, -sin(t), -cos(t)],\n",
       "[0,  cos(t), -sin(t)]])"
      ]
     },
     "execution_count": 95,
     "metadata": {},
     "output_type": "execute_result"
    }
   ],
   "source": [
    "sym.diff(expB(t)).evalf(subs={t:0})"
   ]
  },
  {
   "cell_type": "code",
   "execution_count": 108,
   "metadata": {},
   "outputs": [
    {
     "data": {
      "text/latex": [
       "$\\displaystyle \\left[\\begin{matrix}0 & 0 & 1.0\\\\0 & 0 & 0\\\\-1.0 & 0 & 0\\end{matrix}\\right]$"
      ],
      "text/plain": [
       "Matrix([\n",
       "[   0, 0, 1.0],\n",
       "[   0, 0,   0],\n",
       "[-1.0, 0,   0]])"
      ]
     },
     "execution_count": 108,
     "metadata": {},
     "output_type": "execute_result"
    }
   ],
   "source": [
    "sym.diff(expC(t)).evalf(subs={t:0})"
   ]
  },
  {
   "cell_type": "code",
   "execution_count": 111,
   "metadata": {},
   "outputs": [
    {
     "data": {
      "text/latex": [
       "$\\displaystyle \\left[\\begin{matrix}5.0 \\cdot 10^{-125} & 0 & -2.0\\\\0 & 5.0 \\cdot 10^{-125} & 0\\\\2.0 & 0 & 5.0 \\cdot 10^{-125}\\end{matrix}\\right]$"
      ],
      "text/plain": [
       "Matrix([\n",
       "[0.e-125,       0,    -2.0],\n",
       "[      0, 0.e-125,       0],\n",
       "[    2.0,       0, 0.e-125]])"
      ]
     },
     "execution_count": 111,
     "metadata": {},
     "output_type": "execute_result"
    }
   ],
   "source": [
    "sym.diff(sym.diff(Q(t))).evalf(subs={t:0})"
   ]
  },
  {
   "cell_type": "markdown",
   "metadata": {},
   "source": [
    "## Question 7"
   ]
  },
  {
   "cell_type": "markdown",
   "metadata": {},
   "source": [
    "## Notice: AB-BA = 'sym.diff(expC(0))'"
   ]
  },
  {
   "cell_type": "code",
   "execution_count": 113,
   "metadata": {},
   "outputs": [
    {
     "data": {
      "text/latex": [
       "$\\displaystyle \\left[\\begin{matrix}0 & 0 & 1\\\\0 & 0 & 0\\\\-1 & 0 & 0\\end{matrix}\\right]$"
      ],
      "text/plain": [
       "Matrix([\n",
       "[ 0, 0, 1],\n",
       "[ 0, 0, 0],\n",
       "[-1, 0, 0]])"
      ]
     },
     "execution_count": 113,
     "metadata": {},
     "output_type": "execute_result"
    }
   ],
   "source": [
    "A*B-B*A"
   ]
  },
  {
   "cell_type": "markdown",
   "metadata": {
    "colab_type": "text",
    "id": "hPTaQg2aHT_L"
   },
   "source": [
    "# Executive Summary\n",
    "\n",
    "In this section, your goal is to write a 2 page report giving an overview of the project given above.  This does not mean provide the answers to each question above.  Instead, think of the important relationships between the matrices, the continuous maps, tangent vectors, and transformations that you found above.  Those pieces fit together into one coherent story.\n",
    "\n",
    "In your executive summary, describe that story.  Your executive summary does not need to include complex computations, but it should include the results of relevant computations using math objects like matrices, derivatives, or tangent vectors.\n",
    "\n",
    "At  the end of your executive summary, you should also include two short paragraphs detailing (1) an important or unexpected result, and (2) a challenge you faced in the project and how you dealt with that challenge."
   ]
  },
  {
   "cell_type": "code",
   "execution_count": null,
   "metadata": {},
   "outputs": [],
   "source": []
  }
 ],
 "metadata": {
  "colab": {
   "authorship_tag": "ABX9TyNSNFKX7T75az+ZsbIVNLOw",
   "include_colab_link": true,
   "name": "Project 1:  Tangent vectors and transformations ",
   "provenance": []
  },
  "kernelspec": {
   "display_name": "Python 3",
   "language": "python",
   "name": "python3"
  },
  "language_info": {
   "codemirror_mode": {
    "name": "ipython",
    "version": 3
   },
   "file_extension": ".py",
   "mimetype": "text/x-python",
   "name": "python",
   "nbconvert_exporter": "python",
   "pygments_lexer": "ipython3",
   "version": "3.7.4"
  }
 },
 "nbformat": 4,
 "nbformat_minor": 1
}
