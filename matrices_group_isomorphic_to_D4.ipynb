{
 "cells": [
  {
   "cell_type": "code",
   "execution_count": 1,
   "metadata": {},
   "outputs": [],
   "source": [
    "import numpy as np"
   ]
  },
  {
   "cell_type": "code",
   "execution_count": 2,
   "metadata": {},
   "outputs": [],
   "source": [
    "top_left = np.matrix([[-1],[1]])"
   ]
  },
  {
   "cell_type": "code",
   "execution_count": 3,
   "metadata": {},
   "outputs": [],
   "source": [
    "top_right = np.matrix([[1],[1]])"
   ]
  },
  {
   "cell_type": "code",
   "execution_count": 4,
   "metadata": {},
   "outputs": [],
   "source": [
    "bottom_left = np.matrix([[-1],[-1]])"
   ]
  },
  {
   "cell_type": "code",
   "execution_count": 5,
   "metadata": {},
   "outputs": [],
   "source": [
    "bottom_right = np.matrix([[1],[-1]])"
   ]
  },
  {
   "cell_type": "code",
   "execution_count": 6,
   "metadata": {},
   "outputs": [],
   "source": [
    "def transformation(transform_matrix):\n",
    "    if np.array_equal(transform_matrix*top_left,top_left) == False:\n",
    "        print('top_left changed to')\n",
    "        print(transform_matrix*top_left)\n",
    "    if np.array_equal(transform_matrix*top_right,top_right) == False:\n",
    "        print('top_right changed to')\n",
    "        print(transform_matrix*top_right)\n",
    "    if np.array_equal(transform_matrix*bottom_right,bottom_right) == False:\n",
    "        print('bottom_right changed to')\n",
    "        print(transform_matrix*bottom_right)\n",
    "    if np.array_equal(transform_matrix*bottom_left,bottom_left) == False:\n",
    "        print('bottom_left changed to')\n",
    "        print(transform_matrix*bottom_left)"
   ]
  },
  {
   "cell_type": "code",
   "execution_count": 7,
   "metadata": {},
   "outputs": [],
   "source": [
    "#R_n is rotation by n degrees\n",
    "#F_ is flip over one of 4 axes of a square (horizontal, vertical, positive slope, negative slope axes)"
   ]
  },
  {
   "cell_type": "code",
   "execution_count": 8,
   "metadata": {},
   "outputs": [],
   "source": [
    "R_0 = np.matrix([[1,0],[0,1]])"
   ]
  },
  {
   "cell_type": "code",
   "execution_count": 9,
   "metadata": {},
   "outputs": [],
   "source": [
    "R_90 = np.matrix([[0,-1],[1,0]])"
   ]
  },
  {
   "cell_type": "code",
   "execution_count": 10,
   "metadata": {},
   "outputs": [],
   "source": [
    "R_180 = np.matrix([[-1,0],[0,-1]])"
   ]
  },
  {
   "cell_type": "code",
   "execution_count": 11,
   "metadata": {},
   "outputs": [],
   "source": [
    "R_270 = np.matrix([[0,1],[-1,0]])"
   ]
  },
  {
   "cell_type": "code",
   "execution_count": 12,
   "metadata": {},
   "outputs": [],
   "source": [
    "F_horiz = np.matrix([[1,0],[0,-1]])"
   ]
  },
  {
   "cell_type": "code",
   "execution_count": 13,
   "metadata": {},
   "outputs": [],
   "source": [
    "F_vert = np.matrix([[-1,0],[0,1]])"
   ]
  },
  {
   "cell_type": "code",
   "execution_count": 14,
   "metadata": {},
   "outputs": [],
   "source": [
    "F_neg = np.matrix([[0,-1],[-1,0]])"
   ]
  },
  {
   "cell_type": "code",
   "execution_count": 15,
   "metadata": {},
   "outputs": [],
   "source": [
    "F_pos = np.matrix([[0,1],[1,0]])"
   ]
  },
  {
   "cell_type": "code",
   "execution_count": 16,
   "metadata": {},
   "outputs": [],
   "source": [
    "transformation(R_0)"
   ]
  },
  {
   "cell_type": "code",
   "execution_count": 17,
   "metadata": {},
   "outputs": [
    {
     "name": "stdout",
     "output_type": "stream",
     "text": [
      "top_left changed to\n",
      "[[-1]\n",
      " [-1]]\n",
      "top_right changed to\n",
      "[[-1]\n",
      " [ 1]]\n",
      "bottom_right changed to\n",
      "[[1]\n",
      " [1]]\n",
      "bottom_left changed to\n",
      "[[ 1]\n",
      " [-1]]\n"
     ]
    }
   ],
   "source": [
    "transformation(R_90)"
   ]
  },
  {
   "cell_type": "code",
   "execution_count": 18,
   "metadata": {},
   "outputs": [
    {
     "name": "stdout",
     "output_type": "stream",
     "text": [
      "top_left changed to\n",
      "[[ 1]\n",
      " [-1]]\n",
      "top_right changed to\n",
      "[[-1]\n",
      " [-1]]\n",
      "bottom_right changed to\n",
      "[[-1]\n",
      " [ 1]]\n",
      "bottom_left changed to\n",
      "[[1]\n",
      " [1]]\n"
     ]
    }
   ],
   "source": [
    "transformation(R_180)"
   ]
  },
  {
   "cell_type": "code",
   "execution_count": 19,
   "metadata": {},
   "outputs": [
    {
     "name": "stdout",
     "output_type": "stream",
     "text": [
      "top_left changed to\n",
      "[[1]\n",
      " [1]]\n",
      "top_right changed to\n",
      "[[ 1]\n",
      " [-1]]\n",
      "bottom_right changed to\n",
      "[[-1]\n",
      " [-1]]\n",
      "bottom_left changed to\n",
      "[[-1]\n",
      " [ 1]]\n"
     ]
    }
   ],
   "source": [
    "transformation(R_270)"
   ]
  },
  {
   "cell_type": "code",
   "execution_count": 20,
   "metadata": {},
   "outputs": [
    {
     "name": "stdout",
     "output_type": "stream",
     "text": [
      "top_left changed to\n",
      "[[-1]\n",
      " [-1]]\n",
      "top_right changed to\n",
      "[[ 1]\n",
      " [-1]]\n",
      "bottom_right changed to\n",
      "[[1]\n",
      " [1]]\n",
      "bottom_left changed to\n",
      "[[-1]\n",
      " [ 1]]\n"
     ]
    }
   ],
   "source": [
    "transformation(F_horiz)"
   ]
  },
  {
   "cell_type": "code",
   "execution_count": 21,
   "metadata": {},
   "outputs": [
    {
     "name": "stdout",
     "output_type": "stream",
     "text": [
      "top_left changed to\n",
      "[[1]\n",
      " [1]]\n",
      "top_right changed to\n",
      "[[-1]\n",
      " [ 1]]\n",
      "bottom_right changed to\n",
      "[[-1]\n",
      " [-1]]\n",
      "bottom_left changed to\n",
      "[[ 1]\n",
      " [-1]]\n"
     ]
    }
   ],
   "source": [
    "transformation(F_vert)"
   ]
  },
  {
   "cell_type": "code",
   "execution_count": 22,
   "metadata": {},
   "outputs": [
    {
     "name": "stdout",
     "output_type": "stream",
     "text": [
      "top_right changed to\n",
      "[[-1]\n",
      " [-1]]\n",
      "bottom_left changed to\n",
      "[[1]\n",
      " [1]]\n"
     ]
    }
   ],
   "source": [
    "transformation(F_neg)"
   ]
  },
  {
   "cell_type": "code",
   "execution_count": 23,
   "metadata": {},
   "outputs": [
    {
     "name": "stdout",
     "output_type": "stream",
     "text": [
      "top_left changed to\n",
      "[[ 1]\n",
      " [-1]]\n",
      "bottom_right changed to\n",
      "[[-1]\n",
      " [ 1]]\n"
     ]
    }
   ],
   "source": [
    "transformation(F_pos)"
   ]
  }
 ],
 "metadata": {
  "kernelspec": {
   "display_name": "Python 3",
   "language": "python",
   "name": "python3"
  },
  "language_info": {
   "codemirror_mode": {
    "name": "ipython",
    "version": 3
   },
   "file_extension": ".py",
   "mimetype": "text/x-python",
   "name": "python",
   "nbconvert_exporter": "python",
   "pygments_lexer": "ipython3",
   "version": "3.7.4"
  }
 },
 "nbformat": 4,
 "nbformat_minor": 2
}
