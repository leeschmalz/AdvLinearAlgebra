{
 "cells": [
  {
   "cell_type": "markdown",
   "metadata": {
    "colab_type": "text",
    "id": "57j2zq31_0qa"
   },
   "source": [
    "# Project 1:  Tangent vectors and transformations"
   ]
  },
  {
   "cell_type": "markdown",
   "metadata": {
    "colab_type": "text",
    "id": "ngQ6BrES_7-Y"
   },
   "source": [
    "For this project, we'll look at the transformations arising from each of the matrices below:\n",
    "\n",
    "$$ A = \\left( \\begin{array}{ccc} 0 & -1 & 0 \\\\ 1 & 0 & 0 \\\\ 0 & 0 & 0 \\\\ \\end{array} \\right) \\hspace{2cm}\n",
    "B = \\left( \\begin{array}{ccc} 0 & 0 & 0 \\\\ 0 & 0 & -1 \\\\ 0 & 1 & 0 \\\\ \\end{array} \\right) \\hspace{2cm}\n",
    "C = \\left( \\begin{array}{ccc} 0 & 0 & 1 \\\\ 0 & 0 & 0 \\\\ -1 & 0 & 0 \\\\ \\end{array} \\right) \\hspace{2cm}\n",
    "$$\n",
    "\n",
    "The computational part of this project involves the following steps:\n",
    "\n",
    "1.  The columns of a matrix tell us what happens to the basis vectors in a vector space.  Explain what matrices $A$, $B$, and $C$ do to the standard basis elements for $\\mathbb{R}^3$.  (Note:  Bonus points for creating a graph showing what happens to each basis vector.  e.g. For A, the initial vector $e_1$ is sent in the direction $(0, 1, 0)$, so draw an arrow from $(1, 0, 0)$ to $(1, 1, 0)$. )\n",
    "\n",
    "2.  Compute $exp(t\\,A), exp(t\\,B)$, and $exp(t\\,C)$ for each matrix, which is defined as\n",
    "  $$ exp(M) = I_n + M + \\frac{1}{2!} M^2 + \\frac{1}{3!} M^3 + \\cdots + \\frac{1}{m!} M^m + \\cdots $$\n",
    "\n",
    "  To do this, separately compute $$(Mt)^0, (Mt)^1, (Mt)^2, (Mt)^3, (Mt)^4, (Mt)^5, (Mt)^6$$ and combine them to form the first several terms of $exp(Mt)$ for each of your three matrices.\n",
    "\n",
    "  \n",
    "3.  We can think of each of the $3 \\times 3$ matrices in part 2 as maps, or transformations $\\gamma: \\mathbb{R} \\to \\mathbb{M}_{3\\times3}$, which depending on $t$ and which act on the space $\\mathbb{R}^3$:\n",
    "\n",
    "$$ \\gamma_A(t) = exp(t\\,A) \\hspace{2cm} \\gamma_B(t) = exp(t\\, B) \\hspace{2cm} \\gamma_C(t) = exp(t\\,C)$$\n",
    "What do each of these matrices do to the space $\\mathbb{R}^3$?\n",
    "\n",
    "4.  What causes more rotation, $\\gamma_A(t) \\circ \\gamma_A(t)$ or  $\\gamma_A(2t)$?\n",
    "\n",
    "5. If we pick two of the transformations, say $\\gamma_A(t)$ and $\\gamma_B(t)$, and then apply them like so:\n",
    "$$  Q = \\gamma_B(-t) \\circ \\gamma_A(-t) \\circ \\gamma_B(t) \\circ \\gamma_A(t)$$\n",
    "the result is <b>not necessarily</b> the identity transformation!  Find this transformation $Q$ and describe what it does to $\\mathbb{R}^3$.\n",
    "\n",
    "6.  A tangent vector is found by taking a derivative (with respect to $t$) and evaluating that derivative (at $t = 0$).  Find the tangent vector of:\n",
    "\n",
    "$$  \\gamma_A(t)  \\hspace{2cm}  \\gamma_B(t) \\hspace{2cm}  \\gamma_C(t) \\hspace{2cm} Q$$\n",
    "\n",
    "** Note 1:  The `sym.diff(M, t)` code will take the derivative of matrix $M$ with respect to variable $t$.  Then, evaluate the result with $t=0$.\n",
    "\n",
    "** Note 2: The tangent vector of $Q$ will be the 0 matrix; In this case, use the second derivative of $Q$ to form the tangent vector.\n",
    "\n",
    "\n",
    "\n",
    "7.  Compute the product $[ A, B ] = AB - BA$.  Compare this result to the tangent vectors in the previous problem.\n"
   ]
  },
  {
   "cell_type": "markdown",
   "metadata": {
    "colab_type": "text",
    "id": "0nfOKjAOHMul"
   },
   "source": [
    "# Code\n",
    "Put your code in this section. \n",
    "We'll use the package sympy to do symbolic computations in our code.\n",
    "\n",
    "Be sure to write comments in your code.\n",
    "Comments start with # symbols.\n",
    "\n",
    "Lastly, create an organization for your code.  (This organization is up to you!  )"
   ]
  },
  {
   "cell_type": "code",
   "execution_count": 1,
   "metadata": {
    "colab": {
     "base_uri": "https://localhost:8080/",
     "height": 34
    },
    "colab_type": "code",
    "id": "dNAjzxLD2rlL",
    "outputId": "a9063b15-b9d2-415c-99de-ec425bd48b73"
   },
   "outputs": [
    {
     "name": "stdout",
     "output_type": "stream",
     "text": [
      "\\left[\\begin{matrix}0 & t & 0\\\\t & 0 & 0\\\\0 & 0 & t\\end{matrix}\\right]\n"
     ]
    }
   ],
   "source": [
    "import matplotlib.pyplot as plt\n",
    "import sympy as sym\n",
    "import numpy as np\n",
    "from sympy import *\n",
    "%matplotlib inline\n",
    "\n",
    "# We'll specify that x and t are variables:\n",
    "x, t = sym.symbols('x, t')\n",
    "\n",
    "# this is a expression:\n",
    "expr = (x + t)**2\n",
    "\n",
    "# Use 'sym.latex(...) to produce the math expression in latex.  \n",
    "# Then, copy and paste the latex into a text field \n",
    "# Put it inside single dollar signs $ ... $ to typeset the mathematics inline,\n",
    "# or inside double dollar signs $$ ... $$ to center the math on its own line. \n",
    "sym.latex(expr.expand())\n",
    "\n",
    "# How to create a matrix S:\n",
    "S = sym.Matrix([[0, 1, 0], [1, 0, 0], [0, 0, 1]])\n",
    "# or a 3x3 identity matrix:\n",
    "I3 = sym.eye(3)\n",
    "\n",
    "# How to multiply the matrix S by the variable t:\n",
    "St = S*t\n",
    "\n",
    "# How to output the latex so the matrix looks nice:\n",
    "print(sym.latex(St))\n",
    "\n"
   ]
  },
  {
   "cell_type": "markdown",
   "metadata": {
    "colab_type": "text",
    "id": "5wMQ0SGi5_aP"
   },
   "source": [
    "This is the matrix, but two things need to be fixed:\n",
    "\n",
    "$$ \\\\left[\\\\begin{matrix}0 & t & 0\\\\\\\\t & 0 & 0\\\\\\\\0 & 0 & t\\\\end{matrix}\\\\right] $$\n",
    "\n",
    "1)  Replace every \\\\ with a single \\\n",
    "2)  Put some space before the \\ marks, or after the \\\\ marks\n",
    "\n",
    "$$ \\left[ \\begin{matrix}0 & t & 0 \\\\ t & 0 & 0 \\\\ 0 & 0 & t \\end{matrix} \\right] $$\n"
   ]
  },
  {
   "cell_type": "code",
   "execution_count": 2,
   "metadata": {},
   "outputs": [],
   "source": [
    "A = sym.Matrix([[0, -1, 0], [1, 0, 0], [0, 0, 0]])\n",
    "B = sym.Matrix([[0, 0, 0], [0, 0, -1], [0, 1, 0]])\n",
    "C = sym.Matrix([[0,0,1],[0,0,0],[-1,0,0]])"
   ]
  },
  {
   "cell_type": "code",
   "execution_count": 3,
   "metadata": {},
   "outputs": [],
   "source": [
    "v_1 = sym.Matrix([[1],[0],[0]])\n",
    "v_2 = sym.Matrix([[0],[1],[0]])\n",
    "v_3 = sym.Matrix([[0],[0],[1]])"
   ]
  },
  {
   "cell_type": "markdown",
   "metadata": {},
   "source": [
    "## Matrix A times each basis vector"
   ]
  },
  {
   "cell_type": "code",
   "execution_count": 4,
   "metadata": {},
   "outputs": [
    {
     "data": {
      "text/latex": [
       "$\\displaystyle \\left[\\begin{matrix}0\\\\1\\\\0\\end{matrix}\\right]$"
      ],
      "text/plain": [
       "Matrix([\n",
       "[0],\n",
       "[1],\n",
       "[0]])"
      ]
     },
     "execution_count": 4,
     "metadata": {},
     "output_type": "execute_result"
    }
   ],
   "source": [
    "A*v_1"
   ]
  },
  {
   "cell_type": "code",
   "execution_count": 5,
   "metadata": {},
   "outputs": [
    {
     "data": {
      "text/plain": [
       "Text(0.5, 1.0, 'A*v_1')"
      ]
     },
     "execution_count": 5,
     "metadata": {},
     "output_type": "execute_result"
    },
    {
     "data": {
      "image/png": "[encoded data removed]",
      "text/plain": [
       "<Figure size 432x288 with 1 Axes>"
      ]
     },
     "metadata": {
      "needs_background": "light"
     },
     "output_type": "display_data"
    }
   ],
   "source": [
    "ax = plt.axes()\n",
    "\n",
    "ax.arrow(0.0, 0.0, 1.0, 0.0, head_width=0.2, head_length=0.2, fc='blue', ec='black')\n",
    "ax.arrow(0.0, 0.0, 0.0, 1.0, head_width=0.2, head_length=0.2, fc='blue', ec='black')\n",
    "ax.arrow(0.8, 0.05, -.55, .75, head_width=0.1, head_length=0.1, fc='red', ec='red')\n",
    "plt.grid()\n",
    "\n",
    "plt.xlim(-2,2)\n",
    "plt.ylim(-2,2)\n",
    "\n",
    "plt.xlabel('x')\n",
    "plt.ylabel('y')\n",
    "\n",
    "plt.gca().set_aspect('equal', adjustable='box')\n",
    "\n",
    "plt.title('A*v_1',fontsize=10)"
   ]
  },
  {
   "cell_type": "code",
   "execution_count": 6,
   "metadata": {},
   "outputs": [
    {
     "data": {
      "text/latex": [
       "$\\displaystyle \\left[\\begin{matrix}-1\\\\0\\\\0\\end{matrix}\\right]$"
      ],
      "text/plain": [
       "Matrix([\n",
       "[-1],\n",
       "[ 0],\n",
       "[ 0]])"
      ]
     },
     "execution_count": 6,
     "metadata": {},
     "output_type": "execute_result"
    }
   ],
   "source": [
    "A*v_2"
   ]
  },
  {
   "cell_type": "code",
   "execution_count": 7,
   "metadata": {},
   "outputs": [
    {
     "data": {
      "text/plain": [
       "Text(0.5, 1.0, 'A*v_2')"
      ]
     },
     "execution_count": 7,
     "metadata": {},
     "output_type": "execute_result"
    },
    {
     "data": {
      "image/png": "[encoded data removed]",
      "text/plain": [
       "<Figure size 432x288 with 1 Axes>"
      ]
     },
     "metadata": {
      "needs_background": "light"
     },
     "output_type": "display_data"
    }
   ],
   "source": [
    "ax1 = plt.axes()\n",
    "\n",
    "ax1.arrow(0.0, 0.0, 0.0, 1.0, head_width=0.2, head_length=0.2, fc='blue', ec='black')\n",
    "ax1.arrow(0.0, 0.0, -1.0, 0.0, head_width=0.2, head_length=0.2, fc='blue', ec='black')\n",
    "ax1.arrow(-0.1, .8, -.6, -.65, head_width=0.1, head_length=0.1, fc='red', ec='red')\n",
    "plt.grid()\n",
    "\n",
    "plt.xlim(-2,2)\n",
    "plt.ylim(-2,2)\n",
    "\n",
    "plt.xlabel('x')\n",
    "plt.ylabel('y')\n",
    "\n",
    "plt.gca().set_aspect('equal', adjustable='box')\n",
    "\n",
    "plt.title('A*v_2',fontsize=10)"
   ]
  },
  {
   "cell_type": "code",
   "execution_count": 8,
   "metadata": {},
   "outputs": [
    {
     "data": {
      "text/latex": [
       "$\\displaystyle \\left[\\begin{matrix}0\\\\0\\\\0\\end{matrix}\\right]$"
      ],
      "text/plain": [
       "Matrix([\n",
       "[0],\n",
       "[0],\n",
       "[0]])"
      ]
     },
     "execution_count": 8,
     "metadata": {},
     "output_type": "execute_result"
    }
   ],
   "source": [
    "#Takes v_3 to the 0 vector\n",
    "A*v_3"
   ]
  },
  {
   "cell_type": "markdown",
   "metadata": {},
   "source": [
    "## Matrix B times each basis vector"
   ]
  },
  {
   "cell_type": "code",
   "execution_count": 9,
   "metadata": {},
   "outputs": [
    {
     "data": {
      "text/latex": [
       "$\\displaystyle \\left[\\begin{matrix}0\\\\0\\\\0\\end{matrix}\\right]$"
      ],
      "text/plain": [
       "Matrix([\n",
       "[0],\n",
       "[0],\n",
       "[0]])"
      ]
     },
     "execution_count": 9,
     "metadata": {},
     "output_type": "execute_result"
    }
   ],
   "source": [
    "#Takes v_1 to the 0 vector\n",
    "B*v_1"
   ]
  },
  {
   "cell_type": "code",
   "execution_count": 10,
   "metadata": {},
   "outputs": [
    {
     "data": {
      "text/latex": [
       "$\\displaystyle \\left[\\begin{matrix}0\\\\0\\\\1\\end{matrix}\\right]$"
      ],
      "text/plain": [
       "Matrix([\n",
       "[0],\n",
       "[0],\n",
       "[1]])"
      ]
     },
     "execution_count": 10,
     "metadata": {},
     "output_type": "execute_result"
    }
   ],
   "source": [
    "B*v_2"
   ]
  },
  {
   "cell_type": "code",
   "execution_count": 11,
   "metadata": {},
   "outputs": [
    {
     "data": {
      "text/plain": [
       "Text(0.5, 1.0, 'B*v_2')"
      ]
     },
     "execution_count": 11,
     "metadata": {},
     "output_type": "execute_result"
    },
    {
     "data": {
      "image/png": "[encoded data removed]",
      "text/plain": [
       "<Figure size 432x288 with 1 Axes>"
      ]
     },
     "metadata": {
      "needs_background": "light"
     },
     "output_type": "display_data"
    }
   ],
   "source": [
    "ax2 = plt.axes()\n",
    "\n",
    "ax2.arrow(0.0, 0.0, 1.0, 0.0, head_width=0.2, head_length=0.2, fc='blue', ec='black')\n",
    "ax2.arrow(0.0, 0.0, 0.0, 1.0, head_width=0.2, head_length=0.2, fc='blue', ec='black')\n",
    "ax2.arrow(0.8, 0.05, -.55, .75, head_width=0.1, head_length=0.1, fc='red', ec='red')\n",
    "plt.grid()\n",
    "\n",
    "plt.xlim(-2,2)\n",
    "plt.ylim(-2,2)\n",
    "\n",
    "plt.xlabel('y')\n",
    "plt.ylabel('z')\n",
    "\n",
    "plt.gca().set_aspect('equal', adjustable='box')\n",
    "\n",
    "plt.title('B*v_2',fontsize=10)"
   ]
  },
  {
   "cell_type": "code",
   "execution_count": 12,
   "metadata": {},
   "outputs": [
    {
     "data": {
      "text/latex": [
       "$\\displaystyle \\left[\\begin{matrix}0\\\\-1\\\\0\\end{matrix}\\right]$"
      ],
      "text/plain": [
       "Matrix([\n",
       "[ 0],\n",
       "[-1],\n",
       "[ 0]])"
      ]
     },
     "execution_count": 12,
     "metadata": {},
     "output_type": "execute_result"
    }
   ],
   "source": [
    "B*v_3"
   ]
  },
  {
   "cell_type": "code",
   "execution_count": 13,
   "metadata": {},
   "outputs": [
    {
     "data": {
      "text/plain": [
       "Text(0.5, 1.0, 'B*v_3')"
      ]
     },
     "execution_count": 13,
     "metadata": {},
     "output_type": "execute_result"
    },
    {
     "data": {
      "image/png": "[encoded data removed]",
      "text/plain": [
       "<Figure size 432x288 with 1 Axes>"
      ]
     },
     "metadata": {
      "needs_background": "light"
     },
     "output_type": "display_data"
    }
   ],
   "source": [
    "ax3 = plt.axes()\n",
    "\n",
    "ax3.arrow(0.0, 0.0, 1.0, 0.0, head_width=0.2, head_length=0.2, fc='blue', ec='black')\n",
    "ax3.arrow(0.0, 0.0, 0.0, -1.0, head_width=0.2, head_length=0.2, fc='blue', ec='black')\n",
    "ax3.arrow(0.8, -0.05, -.55, -.75, head_width=0.1, head_length=0.1, fc='red', ec='red')\n",
    "plt.grid()\n",
    "\n",
    "plt.xlim(-2,2)\n",
    "plt.ylim(-2,2)\n",
    "\n",
    "plt.xlabel('y')\n",
    "plt.ylabel('z')\n",
    "\n",
    "plt.gca().set_aspect('equal', adjustable='box')\n",
    "\n",
    "plt.title('B*v_3',fontsize=10)"
   ]
  },
  {
   "cell_type": "markdown",
   "metadata": {},
   "source": [
    "## Matrix C times each basis vector"
   ]
  },
  {
   "cell_type": "code",
   "execution_count": 14,
   "metadata": {},
   "outputs": [
    {
     "data": {
      "text/latex": [
       "$\\displaystyle \\left[\\begin{matrix}0\\\\0\\\\-1\\end{matrix}\\right]$"
      ],
      "text/plain": [
       "Matrix([\n",
       "[ 0],\n",
       "[ 0],\n",
       "[-1]])"
      ]
     },
     "execution_count": 14,
     "metadata": {},
     "output_type": "execute_result"
    }
   ],
   "source": [
    "C*v_1"
   ]
  },
  {
   "cell_type": "code",
   "execution_count": 15,
   "metadata": {},
   "outputs": [
    {
     "data": {
      "text/plain": [
       "Text(0.5, 1.0, 'C*v_1')"
      ]
     },
     "execution_count": 15,
     "metadata": {},
     "output_type": "execute_result"
    },
    {
     "data": {
      "image/png": "[encoded data removed]",
      "text/plain": [
       "<Figure size 432x288 with 1 Axes>"
      ]
     },
     "metadata": {
      "needs_background": "light"
     },
     "output_type": "display_data"
    }
   ],
   "source": [
    "ax4 = plt.axes()\n",
    "\n",
    "ax4.arrow(0.0, 0.0, 1.0, 0.0, head_width=0.2, head_length=0.2, fc='blue', ec='black')\n",
    "ax4.arrow(0.0, 0.0, 0.0, -1.0, head_width=0.2, head_length=0.2, fc='blue', ec='black')\n",
    "ax4.arrow(0.8, -0.05, -.55, -.75, head_width=0.1, head_length=0.1, fc='red', ec='red')\n",
    "plt.grid()\n",
    "\n",
    "plt.xlim(-2,2)\n",
    "plt.ylim(-2,2)\n",
    "\n",
    "plt.xlabel('x')\n",
    "plt.ylabel('z')\n",
    "\n",
    "plt.gca().set_aspect('equal', adjustable='box')\n",
    "\n",
    "plt.title('C*v_1',fontsize=10)"
   ]
  },
  {
   "cell_type": "code",
   "execution_count": 16,
   "metadata": {},
   "outputs": [
    {
     "data": {
      "text/latex": [
       "$\\displaystyle \\left[\\begin{matrix}0\\\\0\\\\0\\end{matrix}\\right]$"
      ],
      "text/plain": [
       "Matrix([\n",
       "[0],\n",
       "[0],\n",
       "[0]])"
      ]
     },
     "execution_count": 16,
     "metadata": {},
     "output_type": "execute_result"
    }
   ],
   "source": [
    "#Takes v_2 to the zero vector\n",
    "C*v_2"
   ]
  },
  {
   "cell_type": "code",
   "execution_count": 17,
   "metadata": {},
   "outputs": [
    {
     "data": {
      "text/latex": [
       "$\\displaystyle \\left[\\begin{matrix}1\\\\0\\\\0\\end{matrix}\\right]$"
      ],
      "text/plain": [
       "Matrix([\n",
       "[1],\n",
       "[0],\n",
       "[0]])"
      ]
     },
     "execution_count": 17,
     "metadata": {},
     "output_type": "execute_result"
    }
   ],
   "source": [
    "C*v_3"
   ]
  },
  {
   "cell_type": "code",
   "execution_count": 18,
   "metadata": {},
   "outputs": [
    {
     "data": {
      "text/plain": [
       "Text(0.5, 1.0, 'C*v_3')"
      ]
     },
     "execution_count": 18,
     "metadata": {},
     "output_type": "execute_result"
    },
    {
     "data": {
      "image/png": "[encoded data removed]",
      "text/plain": [
       "<Figure size 432x288 with 1 Axes>"
      ]
     },
     "metadata": {
      "needs_background": "light"
     },
     "output_type": "display_data"
    }
   ],
   "source": [
    "ax5 = plt.axes()\n",
    "\n",
    "ax5.arrow(0.0, 0.0, 0.0, 1.0, head_width=0.2, head_length=0.2, fc='blue', ec='black')\n",
    "ax5.arrow(0.0, 0.0, 1.0, 0.0, head_width=0.2, head_length=0.2, fc='blue', ec='black')\n",
    "ax5.arrow(0.1, 0.85, .7, -.6, head_width=0.1, head_length=0.1, fc='red', ec='red')\n",
    "plt.grid()\n",
    "\n",
    "plt.xlim(-2,2)\n",
    "plt.ylim(-2,2)\n",
    "\n",
    "plt.xlabel('x')\n",
    "plt.ylabel('z')\n",
    "\n",
    "plt.gca().set_aspect('equal', adjustable='box')\n",
    "\n",
    "plt.title('C*v_3',fontsize=10)"
   ]
  },
  {
   "cell_type": "markdown",
   "metadata": {},
   "source": [
    "## Question 2 and Question 3"
   ]
  },
  {
   "cell_type": "code",
   "execution_count": 19,
   "metadata": {},
   "outputs": [],
   "source": [
    "def exp(M):\n",
    "    I = sym.Matrix([[1,0,0],[0,1,0],[0,0,1]])\n",
    "    sum_list = I\n",
    "    for i in range(1,7):\n",
    "        sum_list = sum_list + (1/(np.math.factorial(i))*((M*t)**i))\n",
    "    return sum_list.evalf(3)"
   ]
  },
  {
   "cell_type": "markdown",
   "metadata": {},
   "source": [
    "## Notice exp(A) is a rotation matrix: Rotates XY Plane"
   ]
  },
  {
   "cell_type": "code",
   "execution_count": 20,
   "metadata": {},
   "outputs": [
    {
     "data": {
      "text/latex": [
       "$\\displaystyle \\left[\\begin{matrix}- 0.00139 t^{6} + 0.0417 t^{4} - 0.5 t^{2} + 1.0 & - 0.00833 t^{5} + 0.167 t^{3} - 1.0 t & 0\\\\0.00833 t^{5} - 0.167 t^{3} + 1.0 t & - 0.00139 t^{6} + 0.0417 t^{4} - 0.5 t^{2} + 1.0 & 0\\\\0 & 0 & 1.0\\end{matrix}\\right]$"
      ],
      "text/plain": [
       "Matrix([\n",
       "[-0.00139*t**6 + 0.0417*t**4 - 0.5*t**2 + 1.0,           -0.00833*t**5 + 0.167*t**3 - 1.0*t,   0],\n",
       "[           0.00833*t**5 - 0.167*t**3 + 1.0*t, -0.00139*t**6 + 0.0417*t**4 - 0.5*t**2 + 1.0,   0],\n",
       "[                                           0,                                            0, 1.0]])"
      ]
     },
     "execution_count": 20,
     "metadata": {},
     "output_type": "execute_result"
    }
   ],
   "source": [
    "exp(A)"
   ]
  },
  {
   "cell_type": "code",
   "execution_count": 21,
   "metadata": {},
   "outputs": [
    {
     "name": "stdout",
     "output_type": "stream",
     "text": [
      "exp(At) =\n"
     ]
    },
    {
     "data": {
      "text/latex": [
       "$\\displaystyle \\left[\\begin{matrix}\\cos{\\left(t \\right)} & - \\sin{\\left(t \\right)} & 0\\\\\\sin{\\left(t \\right)} & \\cos{\\left(t \\right)} & 0\\\\0 & 0 & 1\\end{matrix}\\right]$"
      ],
      "text/plain": [
       "Matrix([\n",
       "[cos(t), -sin(t), 0],\n",
       "[sin(t),  cos(t), 0],\n",
       "[     0,       0, 1]])"
      ]
     },
     "execution_count": 21,
     "metadata": {},
     "output_type": "execute_result"
    }
   ],
   "source": [
    "print('exp(At) =')\n",
    "sym.Matrix([[sym.cos(t),-sym.sin(t),0],[sym.sin(t),sym.cos(t),0],[0,0,1]])"
   ]
  },
  {
   "cell_type": "markdown",
   "metadata": {},
   "source": [
    "## Notice exp(B) is a rotation matrix: Rotates YZ Plane"
   ]
  },
  {
   "cell_type": "code",
   "execution_count": 22,
   "metadata": {},
   "outputs": [
    {
     "data": {
      "text/latex": [
       "$\\displaystyle \\left[\\begin{matrix}1.0 & 0 & 0\\\\0 & - 0.00139 t^{6} + 0.0417 t^{4} - 0.5 t^{2} + 1.0 & - 0.00833 t^{5} + 0.167 t^{3} - 1.0 t\\\\0 & 0.00833 t^{5} - 0.167 t^{3} + 1.0 t & - 0.00139 t^{6} + 0.0417 t^{4} - 0.5 t^{2} + 1.0\\end{matrix}\\right]$"
      ],
      "text/plain": [
       "Matrix([\n",
       "[1.0,                                            0,                                            0],\n",
       "[  0, -0.00139*t**6 + 0.0417*t**4 - 0.5*t**2 + 1.0,           -0.00833*t**5 + 0.167*t**3 - 1.0*t],\n",
       "[  0,            0.00833*t**5 - 0.167*t**3 + 1.0*t, -0.00139*t**6 + 0.0417*t**4 - 0.5*t**2 + 1.0]])"
      ]
     },
     "execution_count": 22,
     "metadata": {},
     "output_type": "execute_result"
    }
   ],
   "source": [
    "exp(B)"
   ]
  },
  {
   "cell_type": "code",
   "execution_count": 23,
   "metadata": {},
   "outputs": [
    {
     "name": "stdout",
     "output_type": "stream",
     "text": [
      "exp(Bt) =\n"
     ]
    },
    {
     "data": {
      "text/latex": [
       "$\\displaystyle \\left[\\begin{matrix}1 & 0 & 0\\\\0 & \\cos{\\left(t \\right)} & - \\sin{\\left(t \\right)}\\\\0 & \\sin{\\left(t \\right)} & \\cos{\\left(t \\right)}\\end{matrix}\\right]$"
      ],
      "text/plain": [
       "Matrix([\n",
       "[1,      0,       0],\n",
       "[0, cos(t), -sin(t)],\n",
       "[0, sin(t),  cos(t)]])"
      ]
     },
     "execution_count": 23,
     "metadata": {},
     "output_type": "execute_result"
    }
   ],
   "source": [
    "print('exp(Bt) =')\n",
    "sym.Matrix([[1,0,0],[0,sym.cos(t),-sym.sin(t)],[0,sym.sin(t),sym.cos(t)]])"
   ]
  },
  {
   "cell_type": "markdown",
   "metadata": {},
   "source": [
    "## Notice exp(C) is a rotation matrix: Rotates XZ Plane"
   ]
  },
  {
   "cell_type": "code",
   "execution_count": 24,
   "metadata": {},
   "outputs": [
    {
     "data": {
      "text/latex": [
       "$\\displaystyle \\left[\\begin{matrix}- 0.00139 t^{6} + 0.0417 t^{4} - 0.5 t^{2} + 1.0 & 0 & 0.00833 t^{5} - 0.167 t^{3} + 1.0 t\\\\0 & 1.0 & 0\\\\- 0.00833 t^{5} + 0.167 t^{3} - 1.0 t & 0 & - 0.00139 t^{6} + 0.0417 t^{4} - 0.5 t^{2} + 1.0\\end{matrix}\\right]$"
      ],
      "text/plain": [
       "Matrix([\n",
       "[-0.00139*t**6 + 0.0417*t**4 - 0.5*t**2 + 1.0,   0,            0.00833*t**5 - 0.167*t**3 + 1.0*t],\n",
       "[                                           0, 1.0,                                            0],\n",
       "[          -0.00833*t**5 + 0.167*t**3 - 1.0*t,   0, -0.00139*t**6 + 0.0417*t**4 - 0.5*t**2 + 1.0]])"
      ]
     },
     "execution_count": 24,
     "metadata": {},
     "output_type": "execute_result"
    }
   ],
   "source": [
    "exp(C)"
   ]
  },
  {
   "cell_type": "code",
   "execution_count": 25,
   "metadata": {},
   "outputs": [
    {
     "name": "stdout",
     "output_type": "stream",
     "text": [
      "exp(Ct) =\n"
     ]
    },
    {
     "data": {
      "text/latex": [
       "$\\displaystyle \\left[\\begin{matrix}\\cos{\\left(t \\right)} & 0 & \\sin{\\left(t \\right)}\\\\0 & 1 & 0\\\\- \\sin{\\left(t \\right)} & 0 & \\cos{\\left(t \\right)}\\end{matrix}\\right]$"
      ],
      "text/plain": [
       "Matrix([\n",
       "[ cos(t), 0, sin(t)],\n",
       "[      0, 1,      0],\n",
       "[-sin(t), 0, cos(t)]])"
      ]
     },
     "execution_count": 25,
     "metadata": {},
     "output_type": "execute_result"
    }
   ],
   "source": [
    "print('exp(Ct) =')\n",
    "sym.Matrix([[sym.cos(t),0,sym.sin(t)],[0,1,0],[-sym.sin(t),0,sym.cos(t)]])"
   ]
  },
  {
   "cell_type": "markdown",
   "metadata": {},
   "source": [
    "## Question 4"
   ]
  },
  {
   "cell_type": "code",
   "execution_count": 26,
   "metadata": {},
   "outputs": [],
   "source": [
    "def expA(t):\n",
    "    return sym.Matrix([[sym.cos(t),-sym.sin(t),0],[sym.sin(t),sym.cos(t),0],[0,0,1]])"
   ]
  },
  {
   "cell_type": "code",
   "execution_count": 27,
   "metadata": {},
   "outputs": [],
   "source": [
    "def expB(t):\n",
    "    return sym.Matrix([[1,0,0],[0,sym.cos(t),-sym.sin(t)],[0,sym.sin(t),sym.cos(t)]])"
   ]
  },
  {
   "cell_type": "code",
   "execution_count": 28,
   "metadata": {},
   "outputs": [],
   "source": [
    "def expC(t):\n",
    "    return sym.Matrix([[sym.cos(t),0,sym.sin(t)],[0,1,0],[-sym.sin(t),0,sym.cos(t)]])"
   ]
  },
  {
   "cell_type": "code",
   "execution_count": 29,
   "metadata": {},
   "outputs": [
    {
     "data": {
      "text/latex": [
       "$\\displaystyle \\left[\\begin{matrix}- \\sin^{2}{\\left(t \\right)} + \\cos^{2}{\\left(t \\right)} & - 2 \\sin{\\left(t \\right)} \\cos{\\left(t \\right)} & 0\\\\2 \\sin{\\left(t \\right)} \\cos{\\left(t \\right)} & - \\sin^{2}{\\left(t \\right)} + \\cos^{2}{\\left(t \\right)} & 0\\\\0 & 0 & 1\\end{matrix}\\right]$"
      ],
      "text/plain": [
       "Matrix([\n",
       "[-sin(t)**2 + cos(t)**2,       -2*sin(t)*cos(t), 0],\n",
       "[       2*sin(t)*cos(t), -sin(t)**2 + cos(t)**2, 0],\n",
       "[                     0,                      0, 1]])"
      ]
     },
     "execution_count": 29,
     "metadata": {},
     "output_type": "execute_result"
    }
   ],
   "source": [
    "expA(t)*expA(t)"
   ]
  },
  {
   "cell_type": "markdown",
   "metadata": {},
   "source": [
    "## Simplified:"
   ]
  },
  {
   "cell_type": "code",
   "execution_count": 30,
   "metadata": {},
   "outputs": [
    {
     "data": {
      "text/latex": [
       "$\\displaystyle \\left[\\begin{matrix}\\cos{\\left(2 t \\right)} & - \\sin{\\left(2 t \\right)} & 0\\\\\\sin{\\left(2 t \\right)} & \\cos{\\left(2 t \\right)} & 0\\\\0 & 0 & 1\\end{matrix}\\right]$"
      ],
      "text/plain": [
       "Matrix([\n",
       "[cos(2*t), -sin(2*t), 0],\n",
       "[sin(2*t),  cos(2*t), 0],\n",
       "[       0,         0, 1]])"
      ]
     },
     "execution_count": 30,
     "metadata": {},
     "output_type": "execute_result"
    }
   ],
   "source": [
    "sym.simplify(expA(t)*expA(t))"
   ]
  },
  {
   "cell_type": "code",
   "execution_count": 31,
   "metadata": {},
   "outputs": [
    {
     "data": {
      "text/latex": [
       "$\\displaystyle \\left[\\begin{matrix}\\cos{\\left(2 t \\right)} & - \\sin{\\left(2 t \\right)} & 0\\\\\\sin{\\left(2 t \\right)} & \\cos{\\left(2 t \\right)} & 0\\\\0 & 0 & 1\\end{matrix}\\right]$"
      ],
      "text/plain": [
       "Matrix([\n",
       "[cos(2*t), -sin(2*t), 0],\n",
       "[sin(2*t),  cos(2*t), 0],\n",
       "[       0,         0, 1]])"
      ]
     },
     "execution_count": 31,
     "metadata": {},
     "output_type": "execute_result"
    }
   ],
   "source": [
    "expA(2*t)"
   ]
  },
  {
   "cell_type": "code",
   "execution_count": 32,
   "metadata": {},
   "outputs": [
    {
     "data": {
      "text/plain": [
       "True"
      ]
     },
     "execution_count": 32,
     "metadata": {},
     "output_type": "execute_result"
    }
   ],
   "source": [
    "expA(2*t) == sym.simplify(expA(t)*expA(t))"
   ]
  },
  {
   "cell_type": "markdown",
   "metadata": {},
   "source": [
    "## Question 5"
   ]
  },
  {
   "cell_type": "code",
   "execution_count": null,
   "metadata": {},
   "outputs": [],
   "source": [
    "#Notice these do not result in the identity transformation as they would if the transformations of each axis were seperate."
   ]
  },
  {
   "cell_type": "code",
   "execution_count": 33,
   "metadata": {},
   "outputs": [
    {
     "data": {
      "text/latex": [
       "$\\displaystyle \\left[\\begin{matrix}\\sin^{2}{\\left(t \\right)} \\cos{\\left(t \\right)} + \\cos^{2}{\\left(t \\right)} & \\sin{\\left(t \\right)} \\cos^{2}{\\left(t \\right)} - \\sin{\\left(t \\right)} \\cos{\\left(t \\right)} & - \\sin^{2}{\\left(t \\right)}\\\\\\left(\\sin^{2}{\\left(t \\right)} + \\cos^{3}{\\left(t \\right)}\\right) \\sin{\\left(t \\right)} - \\sin{\\left(t \\right)} \\cos^{2}{\\left(t \\right)} & \\left(\\sin^{2}{\\left(t \\right)} + \\cos^{3}{\\left(t \\right)}\\right) \\cos{\\left(t \\right)} + \\sin^{2}{\\left(t \\right)} \\cos{\\left(t \\right)} & - \\sin{\\left(t \\right)} \\cos^{2}{\\left(t \\right)} + \\sin{\\left(t \\right)} \\cos{\\left(t \\right)}\\\\\\left(- \\sin{\\left(t \\right)} \\cos^{2}{\\left(t \\right)} + \\sin{\\left(t \\right)} \\cos{\\left(t \\right)}\\right) \\sin{\\left(t \\right)} + \\sin^{2}{\\left(t \\right)} \\cos{\\left(t \\right)} & \\left(- \\sin{\\left(t \\right)} \\cos^{2}{\\left(t \\right)} + \\sin{\\left(t \\right)} \\cos{\\left(t \\right)}\\right) \\cos{\\left(t \\right)} - \\sin^{3}{\\left(t \\right)} & \\sin^{2}{\\left(t \\right)} \\cos{\\left(t \\right)} + \\cos^{2}{\\left(t \\right)}\\end{matrix}\\right]$"
      ],
      "text/plain": [
       "Matrix([\n",
       "[                                 sin(t)**2*cos(t) + cos(t)**2,                       sin(t)*cos(t)**2 - sin(t)*cos(t),                        -sin(t)**2],\n",
       "[            (sin(t)**2 + cos(t)**3)*sin(t) - sin(t)*cos(t)**2,      (sin(t)**2 + cos(t)**3)*cos(t) + sin(t)**2*cos(t), -sin(t)*cos(t)**2 + sin(t)*cos(t)],\n",
       "[(-sin(t)*cos(t)**2 + sin(t)*cos(t))*sin(t) + sin(t)**2*cos(t), (-sin(t)*cos(t)**2 + sin(t)*cos(t))*cos(t) - sin(t)**3,      sin(t)**2*cos(t) + cos(t)**2]])"
      ]
     },
     "execution_count": 33,
     "metadata": {},
     "output_type": "execute_result"
    }
   ],
   "source": [
    "expB(-t)*expA(-t)*expB(t)*expA(t)"
   ]
  },
  {
   "cell_type": "code",
   "execution_count": 34,
   "metadata": {},
   "outputs": [],
   "source": [
    "def Q(t):\n",
    "    return expB(-t)*expA(-t)*expB(t)*expA(t)"
   ]
  },
  {
   "cell_type": "code",
   "execution_count": 35,
   "metadata": {},
   "outputs": [
    {
     "data": {
      "text/latex": [
       "$\\displaystyle \\left[\\begin{matrix}6.12323399573677 \\cdot 10^{-17} & -6.12323399573677 \\cdot 10^{-17} & -1.0\\\\1.0 & 1.22464679914735 \\cdot 10^{-16} & 6.12323399573677 \\cdot 10^{-17}\\\\1.22464679914735 \\cdot 10^{-16} & -1.0 & 6.12323399573677 \\cdot 10^{-17}\\end{matrix}\\right]$"
      ],
      "text/plain": [
       "Matrix([\n",
       "[6.12323399573677e-17, -6.12323399573677e-17,                 -1.0],\n",
       "[                 1.0,  1.22464679914735e-16, 6.12323399573677e-17],\n",
       "[1.22464679914735e-16,                  -1.0, 6.12323399573677e-17]])"
      ]
     },
     "execution_count": 35,
     "metadata": {},
     "output_type": "execute_result"
    }
   ],
   "source": [
    "Q(np.pi/2)"
   ]
  },
  {
   "cell_type": "markdown",
   "metadata": {},
   "source": [
    "## Test 90 degree rotation: X rotated to Y"
   ]
  },
  {
   "cell_type": "code",
   "execution_count": 36,
   "metadata": {},
   "outputs": [
    {
     "data": {
      "text/latex": [
       "$\\displaystyle \\left[\\begin{matrix}6.12323399573677 \\cdot 10^{-17}\\\\1.0\\\\1.22464679914735 \\cdot 10^{-16}\\end{matrix}\\right]$"
      ],
      "text/plain": [
       "Matrix([\n",
       "[6.12323399573677e-17],\n",
       "[                 1.0],\n",
       "[1.22464679914735e-16]])"
      ]
     },
     "execution_count": 36,
     "metadata": {},
     "output_type": "execute_result"
    }
   ],
   "source": [
    "Q(np.pi/2)*v_1"
   ]
  },
  {
   "cell_type": "markdown",
   "metadata": {},
   "source": [
    "## Test 90 degree rotation: Y rotated to -Z"
   ]
  },
  {
   "cell_type": "code",
   "execution_count": 37,
   "metadata": {},
   "outputs": [
    {
     "data": {
      "text/latex": [
       "$\\displaystyle \\left[\\begin{matrix}-6.12323399573677 \\cdot 10^{-17}\\\\1.22464679914735 \\cdot 10^{-16}\\\\-1.0\\end{matrix}\\right]$"
      ],
      "text/plain": [
       "Matrix([\n",
       "[-6.12323399573677e-17],\n",
       "[ 1.22464679914735e-16],\n",
       "[                 -1.0]])"
      ]
     },
     "execution_count": 37,
     "metadata": {},
     "output_type": "execute_result"
    }
   ],
   "source": [
    "Q(np.pi/2)*v_2"
   ]
  },
  {
   "cell_type": "markdown",
   "metadata": {},
   "source": [
    "## Test 90 degree rotation: Z rotated to -X"
   ]
  },
  {
   "cell_type": "code",
   "execution_count": 38,
   "metadata": {},
   "outputs": [
    {
     "data": {
      "text/latex": [
       "$\\displaystyle \\left[\\begin{matrix}-1.0\\\\6.12323399573677 \\cdot 10^{-17}\\\\6.12323399573677 \\cdot 10^{-17}\\end{matrix}\\right]$"
      ],
      "text/plain": [
       "Matrix([\n",
       "[                -1.0],\n",
       "[6.12323399573677e-17],\n",
       "[6.12323399573677e-17]])"
      ]
     },
     "execution_count": 38,
     "metadata": {},
     "output_type": "execute_result"
    }
   ],
   "source": [
    "Q(np.pi/2)*v_3"
   ]
  },
  {
   "cell_type": "markdown",
   "metadata": {},
   "source": [
    "## Question 6"
   ]
  },
  {
   "cell_type": "code",
   "execution_count": 39,
   "metadata": {},
   "outputs": [],
   "source": [
    "def expA_1d(t):\n",
    "    return sym.diff(expA(t))"
   ]
  },
  {
   "cell_type": "code",
   "execution_count": 40,
   "metadata": {},
   "outputs": [
    {
     "data": {
      "text/latex": [
       "$\\displaystyle \\left[\\begin{matrix}0 & -1.0 & 0\\\\1.0 & 0 & 0\\\\0 & 0 & 0\\end{matrix}\\right]$"
      ],
      "text/plain": [
       "Matrix([\n",
       "[  0, -1.0, 0],\n",
       "[1.0,    0, 0],\n",
       "[  0,    0, 0]])"
      ]
     },
     "execution_count": 40,
     "metadata": {},
     "output_type": "execute_result"
    }
   ],
   "source": [
    "sym.diff(expA(t)).evalf(subs={t:0})"
   ]
  },
  {
   "cell_type": "code",
   "execution_count": 41,
   "metadata": {},
   "outputs": [
    {
     "data": {
      "text/latex": [
       "$\\displaystyle \\left[\\begin{matrix}0 & 0 & 0\\\\0 & 0 & -1.0\\\\0 & 1.0 & 0\\end{matrix}\\right]$"
      ],
      "text/plain": [
       "Matrix([\n",
       "[0,   0,    0],\n",
       "[0,   0, -1.0],\n",
       "[0, 1.0,    0]])"
      ]
     },
     "execution_count": 41,
     "metadata": {},
     "output_type": "execute_result"
    }
   ],
   "source": [
    "sym.diff(expB(t)).evalf(subs={t:0})"
   ]
  },
  {
   "cell_type": "code",
   "execution_count": 42,
   "metadata": {},
   "outputs": [
    {
     "data": {
      "text/latex": [
       "$\\displaystyle \\left[\\begin{matrix}0 & 0 & 1.0\\\\0 & 0 & 0\\\\-1.0 & 0 & 0\\end{matrix}\\right]$"
      ],
      "text/plain": [
       "Matrix([\n",
       "[   0, 0, 1.0],\n",
       "[   0, 0,   0],\n",
       "[-1.0, 0,   0]])"
      ]
     },
     "execution_count": 42,
     "metadata": {},
     "output_type": "execute_result"
    }
   ],
   "source": [
    "sym.diff(expC(t)).evalf(subs={t:0})"
   ]
  },
  {
   "cell_type": "code",
   "execution_count": 43,
   "metadata": {},
   "outputs": [
    {
     "data": {
      "text/latex": [
       "$\\displaystyle \\left[\\begin{matrix}5.0 \\cdot 10^{-125} & 0 & -2.0\\\\0 & 5.0 \\cdot 10^{-125} & 0\\\\2.0 & 0 & 5.0 \\cdot 10^{-125}\\end{matrix}\\right]$"
      ],
      "text/plain": [
       "Matrix([\n",
       "[0.e-125,       0,    -2.0],\n",
       "[      0, 0.e-125,       0],\n",
       "[    2.0,       0, 0.e-125]])"
      ]
     },
     "execution_count": 43,
     "metadata": {},
     "output_type": "execute_result"
    }
   ],
   "source": [
    "sym.diff(sym.diff(Q(t))).evalf(subs={t:0})"
   ]
  },
  {
   "cell_type": "markdown",
   "metadata": {},
   "source": [
    "## Question 7"
   ]
  },
  {
   "cell_type": "markdown",
   "metadata": {},
   "source": [
    "## Notice: AB-BA = 'sym.diff(expC(0))'"
   ]
  },
  {
   "cell_type": "code",
   "execution_count": 44,
   "metadata": {},
   "outputs": [
    {
     "data": {
      "text/latex": [
       "$\\displaystyle \\left[\\begin{matrix}0 & 0 & 1\\\\0 & 0 & 0\\\\-1 & 0 & 0\\end{matrix}\\right]$"
      ],
      "text/plain": [
       "Matrix([\n",
       "[ 0, 0, 1],\n",
       "[ 0, 0, 0],\n",
       "[-1, 0, 0]])"
      ]
     },
     "execution_count": 44,
     "metadata": {},
     "output_type": "execute_result"
    }
   ],
   "source": [
    "A*B-B*A"
   ]
  },
  {
   "cell_type": "markdown",
   "metadata": {
    "colab_type": "text",
    "id": "hPTaQg2aHT_L"
   },
   "source": [
    "# Executive Summary\n",
    "\n",
    "In this section, your goal is to write a 2 page report giving an overview of the project given above.  This does not mean provide the answers to each question above.  Instead, think of the important relationships between the matrices, the continuous maps, tangent vectors, and transformations that you found above.  Those pieces fit together into one coherent story.\n",
    "\n",
    "In your executive summary, describe that story.  Your executive summary does not need to include complex computations, but it should include the results of relevant computations using math objects like matrices, derivatives, or tangent vectors.\n",
    "\n",
    "At  the end of your executive summary, you should also include two short paragraphs detailing (1) an important or unexpected result, and (2) a challenge you faced in the project and how you dealt with that challenge."
   ]
  },
  {
   "cell_type": "code",
   "execution_count": null,
   "metadata": {},
   "outputs": [],
   "source": [
    "'''\n",
    "Overall summary:\n",
    "Question 1\n",
    "As shown in the computations it is apparent that the matrices A, B, and C map each of the basis vectors of R3 to either a\n",
    "different basis vector, or to the zero vector. For example, matrix A maps the X-direction to the Y-direction, the \n",
    "Y-direction to the negative X-direction, and collapses the Z-direction to the zero vector. This is shown by the matplotlib \n",
    "outputs.\n",
    "\n",
    "Question 2 and Question 3\n",
    "The main takeaway from question 2 and question 3 is to notice that putting these matrices into the series sum defined above \n",
    "results in the sin and cosine components properly located in the matrix to define what we have previously known as a \n",
    "rotation matrix. Notice in the code above the series was defined with a for-loop from 1 to 6. Based on the formulation of \n",
    "the matrix it is apparent the as we extend the exponential sum, or increase the length of the for-loop, the entries in the\n",
    "matrix that we recognize as a rotation matrix, infinitely approach the taylor polynomials of the sine and cosine functions.\n",
    "Just below this approximation, the actual sine and cosine functions were added as if we extended the for-loop to infinity. \n",
    "Further, we notice the comparison to question 1. For example, in question 1 we noticed matrix A, switches the X and Y \n",
    "directions as a rotation matrix. Using the formulation of the exponential infinite sum, we notice that exp(At) resulted \n",
    "in a rotation matrix that rotates the XY-plane. This pattern followed in matrices B and C with the YZ and XZ planes, \n",
    "respectively.\n",
    "\n",
    "Question 4\n",
    "In Question 4 we define the functions expA(t),expB(t), and expC(t) and we illustrate that the composition of expA(t)*expA(t)\n",
    "is equal to expA(2t). This makes sense because as previously stated, expA(t) is simply a rotation of the XY plane by an\n",
    "angle of t. Likewise expA(2t) is a rotation of the XY plane by an angle of 2t. Based on these facts, it is obvious that \n",
    "2 rotations of the XY plane by an angle of t is equal to a rotation of the XY plane by 2t. The fact that we are rotating\n",
    "along the same axis is required; rotating on different axes in different orders will sometimes result in a different \n",
    "transformation, as demonstrated by question 5.\n",
    "\n",
    "Question 5\n",
    "We wanted to create a matrix 𝑄 that is equal to exp𝐵(−𝑡)*exp𝐴(−𝑡)*exp𝐵(𝑡)*exp𝐴(𝑡).\n",
    "This calcualtion was done above, and it created a matrix that was similar to the identity matrix, except the collumns were \n",
    "rearranged. Instead of each basis vector going to itself, they each went somewhere else. The first basis applied to the \n",
    "matrix shows that X is sent to Y. The second basis vector shows applied to the matrix shows that Y gets sent to -Z. \n",
    "Finally, the third basis vector applied to the matrix shows that Z gets sent to -X. A main takeaway from this question is\n",
    "that even though expA(t)*expA(-t) is the identity transformation, when inter-composed with the expB(t) and expB(-t) \n",
    "functions, we do not arrive at the identity due to the mixing of the axis of rotation.\n",
    "\n",
    "Question 6\n",
    "This problem reuired us to find the tangent vectors of each of these exponential matrices along with matrix Q.\n",
    "This was done by taking the first derivative of each of these matrices and evaluating at t equals to zero. This is shown \n",
    "above. The matrix Q ended up giving us the zero vector which was unexpected, so we had to take the second derivative of Q \n",
    "and evaluate it at t equals zero to obtain the tangent vector for Q. One thing to notice is that the tangent vectors we \n",
    "obtained for these exponential matrices were actually their respective unexpontiated matrices. This means that the \n",
    "exponential fucntion was actually creating tangent vectors to our matrices A, B, and C. The tangent vector to matrix Q was \n",
    "actually negative two times the matrix C. These tangent vector helped us form an important relationship between the \n",
    "transformation matrices and the exponential function.\n",
    "\n",
    "Question 7\n",
    "Our final problem was to analyze the function [A,B] = AB-BA. This surprisingly gave us the matrix C. This means that another \n",
    "way of expressing our tangent vectors is to use the combinations, such as [A,B]. These can be used to create the other \n",
    "combinations of the other matrices, and tangents of the exponential matrices. Taking negative two times [A,B] will give us \n",
    "the tangent of Q.\n",
    "\n",
    "Lee's takeaways:\n",
    "1) An unexpected result I noticed was in question 5. Thinking geometrically, my immediate reaction was that a rotation of\n",
    "one axis and another axis followed by the inverse rotations of both axes would result in the identity transformation. I\n",
    "remember in class when Professor Wangberg posed this rhetorical question, I answered it incorrectly; but then when we\n",
    "demonstrated it by turning the globe in the center of the classroom it became obvious that mixing the order in which you \n",
    "rotate each axis will result in an unpredictable overall transformation.\n",
    "2) A challenge throughout the project was figuring out how to evaluate an expression the involves the symbol, t, for a \n",
    "specific value of t. I was able to solve this challenge by searching for the correct approach on stackexchange, where I\n",
    "discovered the subs parameter of the evalf function in which a simple input of a dictionary solves the issue. For example,\n",
    "'.evalf(subs={t:0})' following the expression will evaluate the expression of t where t=0.\n",
    "\n",
    "Aaron's takeaways:\n",
    "1) The most unexpected result for me was overall relationship between the exponential functions and the unexponentiated \n",
    "matrices. I honestly wasn't expecting the derivative of these exponential fuctions evaluated at zero to be the original \n",
    "functions that we started with. It was a very important to discovery to understand that the exponential function has a \n",
    "tangent vector that is the original unexponentiated function. This created a deeper meaning matrices and their tangent \n",
    "vectors.\n",
    "2) The most challenging part was understanding that the matrices we formed by exponentiating our origninal matrices were \n",
    "actually in terms of sin and cosine. Without this observation, we would have been stuck with these ugly functions involving \n",
    "huge polynomials, and we would not have been able to apply identies of sin and cosin to reduce these gross expressions. This \n",
    "also simplified multiplications of matrices by limitng the amount of terms, and it allowed us to find derivatives of these \n",
    "functions fairly easily. It was also useful for the fact that we can now identify sin and cosine wrtitten in their \n",
    "polynomial functions."
   ]
  }
 ],
 "metadata": {
  "colab": {
   "authorship_tag": "ABX9TyNSNFKX7T75az+ZsbIVNLOw",
   "include_colab_link": true,
   "name": "Project 1:  Tangent vectors and transformations ",
   "provenance": []
  },
  "kernelspec": {
   "display_name": "Python 3",
   "language": "python",
   "name": "python3"
  },
  "language_info": {
   "codemirror_mode": {
    "name": "ipython",
    "version": 3
   },
   "file_extension": ".py",
   "mimetype": "text/x-python",
   "name": "python",
   "nbconvert_exporter": "python",
   "pygments_lexer": "ipython3",
   "version": "3.7.4"
  }
 },
 "nbformat": 4,
 "nbformat_minor": 1
}
