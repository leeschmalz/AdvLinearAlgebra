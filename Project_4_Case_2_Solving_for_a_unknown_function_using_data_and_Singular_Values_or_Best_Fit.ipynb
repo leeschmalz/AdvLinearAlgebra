{
 "cells": [
  {
   "cell_type": "code",
   "execution_count": 1,
   "metadata": {
    "colab": {},
    "colab_type": "code",
    "id": "Hn3gRnB-WZRA"
   },
   "outputs": [
    {
     "name": "stderr",
     "output_type": "stream",
     "text": [
      "\n",
      "Bad key \"text.kerning_factor\" on line 4 in\n",
      "C:\\Users\\leesc\\miniconda3\\envs\\AdvLinAlg\\lib\\site-packages\\matplotlib\\mpl-data\\stylelib\\_classic_test_patch.mplstyle.\n",
      "You probably need to get an updated matplotlibrc file from\n",
      "https://github.com/matplotlib/matplotlib/blob/v3.1.3/matplotlibrc.template\n",
      "or from the matplotlib source distribution\n"
     ]
    }
   ],
   "source": [
    "#  Libraries that we'll need:\n",
    "import numpy as np\n",
    "import sympy as sym\n",
    "#from scipy import misc\n",
    "from scipy import linalg\n",
    "#from PIL import Image\n",
    "#import imageio\n",
    "import matplotlib.pyplot as plt\n",
    "# importing \"random\" for random operations \n",
    "import random "
   ]
  },
  {
   "cell_type": "markdown",
   "metadata": {
    "colab_type": "text",
    "id": "M_EHZduVWm9l"
   },
   "source": [
    "#  Singular Value Decomposition and Best Fit\n",
    "\n",
    "We look at some data generated here from three sources:\n",
    "\n",
    "*   Case 0:  A known polynomial function $f(x) = 4 - 3x^2 + 5x^6$\n",
    "*   Case 1:  A known trigonometric function $f(x) = 4 - 2\\cos(x) + \\cos^2 (x)$\n",
    "*   Case 2:  A matrix of data $M$ (specified below) with unknown source function\n",
    "*   Case 3:  An interesting case."
   ]
  },
  {
   "cell_type": "markdown",
   "metadata": {
    "colab_type": "text",
    "id": "9ORrgx3nWz_D"
   },
   "source": [
    "# Overview for Case 2:  Best-fit polynomial of degree 3 from data of unknown source\n",
    "\n",
    "In this situation, the data for the underlying function has already been gathered, and is stored in the matrix *givenData*.  This matrix contains two columns.  The first is an x-coordinate, and the second is an output value.\n",
    "\n",
    "The data in the matrix came from an unknown underlying function $f(x)$.  So, if the 3rd row of the matrix is\n",
    "$$ [ -1.2376094..., -3.448414068... ]$$\n",
    "then it was generated from $$f(-1.2376094...) =  -3.448414068...$$\n",
    "\n",
    "Your task in the project is to uncover the underlying function using the method of best-fit and SVD."
   ]
  },
  {
   "cell_type": "code",
   "execution_count": 2,
   "metadata": {
    "colab": {},
    "colab_type": "code",
    "id": "hZ2yAtEAWj1W"
   },
   "outputs": [],
   "source": [
    "# The given data:\n",
    "\n",
    "givenData = np.matrix([[-0.5089311944969932, -2.997008799965525], [3.327488211195128, -3453.7808944274257], [-1.237609470172906, -3.448414068353971], [2.2958559720851195, -189.2901607053327], [2.532411423046172, -418.96127216944654], [1.3405346345538653, 2.546491821468372], [0.10426496119492867, 0.7242241444032073], [1.873893206052621, -31.60154297604621], [-2.6209761598859194, 550.2765944168342], [-4.869993332193264, 57293.33257004533], [-2.79570102459193, 912.1837362481141], [3.1432036480386607, -2244.0036951744164], [-1.5085874374805952, 0.9480325600081159], [-3.256509676471614, 2935.0556185427467], [4.699243005535804, -44216.37934554891]])\n",
    "\n",
    "# pull of the x-coordinates and the outputs from the data:\n",
    "actual_data_x = givenData[:,0]   # first column of the matrix\n",
    "actual_data_y = givenData[:,1]   # second column of the matrix"
   ]
  },
  {
   "cell_type": "markdown",
   "metadata": {
    "colab_type": "text",
    "id": "zADred7VLkmf"
   },
   "source": [
    "# 2.1  Setting up the system:\n",
    "\n",
    "We have the data points for our system stored in **actual_data_x** and **actual_data_y**.  We'll use the data to set up a system\n",
    "$$M \\vec{x} = \\vec{b}$$\n",
    "\n",
    "where **actual_data_x** is used to populate matrix $M$ and **actual_data_y** is used to populate $\\vec{b}$."
   ]
  },
  {
   "cell_type": "code",
   "execution_count": 3,
   "metadata": {
    "colab": {},
    "colab_type": "code",
    "id": "6Gqt4cB-L8Dn"
   },
   "outputs": [],
   "source": [
    "#Create the matrix M from the data in actual_data_x\n",
    "M_entries = []\n",
    "\n",
    "for i in actual_data_x:\n",
    "  x = i[0,0]\n",
    "  M_entries.append([1, x, x**2, x**3, x**4, x**5, x**6, x**7, x**8])\n",
    "\n",
    "M = []\n",
    "M = np.matrix(M_entries)\n",
    "\n",
    "\n",
    "#and create the vector b from the data in actual_data_y:\n",
    "b = []\n",
    "b = actual_data_y"
   ]
  },
  {
   "cell_type": "code",
   "execution_count": 4,
   "metadata": {
    "colab": {},
    "colab_type": "code",
    "id": "nXXDz4e4MLVF"
   },
   "outputs": [],
   "source": [
    "# Uncomment either line below to show the matrix M\n",
    "# or the first five entries of b\n",
    "\n",
    "#M\n",
    "#b[:5]"
   ]
  },
  {
   "cell_type": "markdown",
   "metadata": {
    "colab_type": "text",
    "id": "sfQf6wJ8M4-M"
   },
   "source": [
    "#2.2:  Plot the generated system:\n",
    "\n",
    "We'll create a plot showing the function (in red) and the data points sampled for the function (in blue).\n",
    "\n",
    "To generate the graph of the function $f(x)$, we first use $100$ data points from $0$ to $99$, then compress them into an interval of width $6$, and shift it left so that the 100 data points are equally spaced between $x = -3$ and $x=3$.\n"
   ]
  },
  {
   "cell_type": "code",
   "execution_count": 5,
   "metadata": {
    "colab": {
     "base_uri": "https://localhost:8080/",
     "height": 295
    },
    "colab_type": "code",
    "id": "x4SRzQbAK76X",
    "outputId": "52173f56-3065-46ba-f68a-e60bbce95fdb"
   },
   "outputs": [
    {
     "data": {
      "image/png": "[encoded data removed]",
      "text/plain": [
       "<Figure size 432x288 with 1 Axes>"
      ]
     },
     "metadata": {
      "needs_background": "light"
     },
     "output_type": "display_data"
    }
   ],
   "source": [
    "# Let's plot the data to see what it looks like:\n",
    "\n",
    "# We'll specify that x is a variable:\n",
    "x = sym.symbols('x')\n",
    "\n",
    "#  Create the plot of the given data in as red points:\n",
    "plt.plot(actual_data_x, actual_data_y, 'ro')\n",
    "\n",
    "#Widen or restrict the output values to this range:\n",
    "#You may have to adjust this to see more of the data points.\n",
    "#plt.ylim(-30,30)\n",
    "\n",
    "# Add a title\n",
    "plt.title('The given test data (in red)')\n",
    "\n",
    "# Add X and y Label\n",
    "plt.xlabel('x axis')\n",
    "plt.ylabel('output')\n",
    "\n",
    "# Add a grid\n",
    "plt.grid(alpha=.4,linestyle='--')"
   ]
  },
  {
   "cell_type": "markdown",
   "metadata": {
    "colab_type": "text",
    "id": "fWAsPZLGNZOl"
   },
   "source": [
    "#2.3:  Solving the system using the method of Best-Fit:\n",
    "\n",
    "Given a system \n",
    "$$ M \\vec{x} = \\vec{b}$$\n",
    "\n",
    "where matrix $M$ is **not necessarily square**, we can multiply by $M^T$ on the left to form the system\n",
    "\n",
    "$$ \\left( M^T M \\right) \\vec{x} = M^T \\vec{b} $$\n",
    "\n",
    "Now, $M^T M$ is a square matrix, so we can use it's inverse to solve for $\\vec{x}$:\n",
    "\n",
    "$$ \\vec{x} = \\left( M^T M \\right)^{-1} M^T \\vec{b}$$\n",
    "\n",
    "This solution method is called the method of Best-Fit.\n",
    "\n",
    "**A word of caution**:  We're initially trying to fit an 8th degree polynomial with 15 data points.  This might have a good solution..."
   ]
  },
  {
   "cell_type": "code",
   "execution_count": 6,
   "metadata": {
    "colab": {
     "base_uri": "https://localhost:8080/",
     "height": 91
    },
    "colab_type": "code",
    "id": "7u7r9UqlNsrH",
    "outputId": "3c6383b4-0039-4f0b-8f71-bad177951123"
   },
   "outputs": [
    {
     "data": {
      "text/plain": [
       "matrix([[ 2.57500687e-11],\n",
       "        [ 7.00000000e+00],\n",
       "        [ 1.10890142e-09],\n",
       "        [-5.00000000e+00],\n",
       "        [-7.47917284e-11],\n",
       "        [ 3.00000000e+00],\n",
       "        [ 6.64810429e-11],\n",
       "        [-1.00000000e+00],\n",
       "        [-4.42701431e-13]])"
      ]
     },
     "execution_count": 6,
     "metadata": {},
     "output_type": "execute_result"
    }
   ],
   "source": [
    "#  Find the solution to Mx = b using Best Fit:\n",
    "#  (We've already used 'x' as a variable, so we'll call the solution vector c.)\n",
    "c = linalg.inv(M.transpose() * M) * M.transpose() * b\n",
    "c"
   ]
  },
  {
   "cell_type": "markdown",
   "metadata": {
    "colab_type": "text",
    "id": "92zy2t8JPBns"
   },
   "source": [
    "We can test our solution against the output of our original system.\n",
    "\n",
    "The original output in our system is represented by $\\vec{b}$.\n",
    "\n",
    "Our suggested solution to $M\\vec{x} = \\vec{b}$ is $\\vec{c}$.  That is, we think\n",
    "\n",
    "$$ M \\vec{c} \\approx \\vec{b}$$\n",
    "\n",
    "If we have a good fit, then \n",
    "\n",
    "$$\\vec{b} - M \\vec{c} \\approx 0$$\n",
    "\n",
    "To test our solution, we find the) magnitude of $\\vec{b} - M\\vec{c}$:"
   ]
  },
  {
   "cell_type": "code",
   "execution_count": 7,
   "metadata": {
    "colab": {
     "base_uri": "https://localhost:8080/",
     "height": 35
    },
    "colab_type": "code",
    "id": "VR2_j9inbtG8",
    "outputId": "09b8b356-53ff-4ae7-ac05-200ac0aecede"
   },
   "outputs": [
    {
     "data": {
      "text/plain": [
       "9.549137312505508e-07"
      ]
     },
     "execution_count": 7,
     "metadata": {},
     "output_type": "execute_result"
    }
   ],
   "source": [
    "#  Let's see how close this actually gets us by comparing the original b vector to the result of Mc:\n",
    "error = ((b-M*c).transpose() * (b-M*c))[0,0]\n",
    "error**0.5"
   ]
  },
  {
   "cell_type": "markdown",
   "metadata": {
    "colab_type": "text",
    "id": "lPtjH2d_PR6h"
   },
   "source": [
    "We can plot the actual solution (in red) with our best-fit solution (in green), using the test data shown as blue points.  It may be helpful to adjust the limits on the y-axis to zoom in or out on the output."
   ]
  },
  {
   "cell_type": "code",
   "execution_count": 26,
   "metadata": {
    "colab": {
     "base_uri": "https://localhost:8080/",
     "height": 295
    },
    "colab_type": "code",
    "id": "jv0LORbqPWkZ",
    "outputId": "54d974e7-ba24-4da6-a526-b5691d549676"
   },
   "outputs": [
    {
     "data": {
      "image/png": "[encoded data removed]",
      "text/plain": [
       "<Figure size 432x288 with 1 Axes>"
      ]
     },
     "metadata": {
      "needs_background": "light"
     },
     "output_type": "display_data"
    }
   ],
   "source": [
    "#Show a plot of the solutions using the best-fit method:\n",
    "\n",
    "# We'll specify that x is a variable:\n",
    "x = sym.symbols('x')\n",
    "\n",
    "xdata = []\n",
    "fdata = []\n",
    "#set up our 100 data points on the interval from (-5, 5):\n",
    "xdata = np.array(range(100))/(100/10) - 5\n",
    "\n",
    "#Best fit method\n",
    "best_fit = c[0,0] + c[1,0]*xdata + c[2,0]*(xdata**2) + c[3,0]*(xdata**3) + c[4,0]*(xdata**4) + c[5,0]*(xdata**5) + c[6,0]*(xdata**6) + c[7,0]*(xdata**7) + c[8,0]*(xdata**8)\n",
    "#  Create the plot of the given data in as red points:\n",
    "# and the best-fit method in green: \n",
    "plt.plot(actual_data_x,actual_data_y, 'ro', alpha=0.3 ) + plt.plot(xdata,best_fit, color='green')\n",
    "\n",
    "#Widen or restrict the output values to this range:\n",
    "#You may have to adjust this to see more of the data points.\n",
    "plt.ylim(-60000,60000)\n",
    "\n",
    "# Add a title\n",
    "plt.title('Our given data (red dots) and our best-fit solution (green)')\n",
    "\n",
    "# Add X and y Label\n",
    "plt.xlabel('x axis')\n",
    "plt.ylabel('output')\n",
    "\n",
    "# Add a grid\n",
    "plt.grid(alpha=.4,linestyle='--')"
   ]
  },
  {
   "cell_type": "markdown",
   "metadata": {
    "colab_type": "text",
    "id": "7OJ8AfnjU_QG"
   },
   "source": [
    "#2.4 Solving the system using Singular Value Decomposition\n",
    "\n",
    "Singular Value Decomposition decomposes a matrix M into three matrices\n",
    "\n",
    "$$ M = U \\Sigma V^\\dagger$$\n",
    "\n",
    "where $U$ and $V$ are square matrices and $\\Sigma$ is a rectangular matrix with singular values on the main diagonal."
   ]
  },
  {
   "cell_type": "code",
   "execution_count": 9,
   "metadata": {
    "colab": {},
    "colab_type": "code",
    "id": "Hil2KE87btpU"
   },
   "outputs": [],
   "source": [
    "#  For this method, we use SVD on the data matrix M:\n",
    "U, S, Vh = linalg.svd(M, full_matrices=True)\n",
    "Vh = Vh.T"
   ]
  },
  {
   "cell_type": "code",
   "execution_count": 10,
   "metadata": {
    "colab": {},
    "colab_type": "code",
    "id": "zZnOvQaubwYp"
   },
   "outputs": [
    {
     "data": {
      "text/plain": [
       "array([3.97403909e+05, 7.97859095e+04, 1.18293135e+03, 3.74055839e+02,\n",
       "       2.36940879e+01, 9.49223692e+00, 2.58180384e+00, 1.15621098e+00,\n",
       "       9.27464467e-01])"
      ]
     },
     "execution_count": 10,
     "metadata": {},
     "output_type": "execute_result"
    }
   ],
   "source": [
    "#  Uncomment the lines below to show the matrix U, S, and Vh:\n",
    "#  Notice that in S only the singular values are stored, not the entire matrix.\n",
    "#U\n",
    "S\n",
    "#Vh"
   ]
  },
  {
   "cell_type": "code",
   "execution_count": 11,
   "metadata": {
    "colab": {
     "base_uri": "https://localhost:8080/",
     "height": 35
    },
    "colab_type": "code",
    "id": "t7tnQgNPVLY7",
    "outputId": "ccc59cc1-f40d-4c42-ec54-bc1092a45b75"
   },
   "outputs": [
    {
     "data": {
      "text/plain": [
       "79785.90945905779"
      ]
     },
     "execution_count": 11,
     "metadata": {},
     "output_type": "execute_result"
    }
   ],
   "source": [
    "#  The 2nd singular value is:\n",
    "S[1]"
   ]
  },
  {
   "cell_type": "code",
   "execution_count": 12,
   "metadata": {
    "colab": {
     "base_uri": "https://localhost:8080/",
     "height": 35
    },
    "colab_type": "code",
    "id": "LA65dzKFb39T",
    "outputId": "e26a6c65-76fe-4df0-93a8-d1e088caab49"
   },
   "outputs": [
    {
     "data": {
      "text/plain": [
       "False"
      ]
     },
     "execution_count": 12,
     "metadata": {},
     "output_type": "execute_result"
    }
   ],
   "source": [
    "# We can compare the original matrix M to the matrix reconstructed (called a1) from the SVD:\n",
    "# If they are close, then allclose(M, a1) should be True.\n",
    "\n",
    "#First, recast S as a matrix instead of a vector:\n",
    "sigma = np.zeros((U.shape[1], Vh.shape[0]))\n",
    "for i in range(min(sigma.shape)):\n",
    "     sigma[i, i] = S[i]\n",
    "#Reconstruct the matrix:\n",
    "a1 = np.dot(U, np.dot(sigma, Vh))\n",
    "\n",
    "#does a1 approximate M?\n",
    "np.allclose(M, a1)"
   ]
  },
  {
   "cell_type": "markdown",
   "metadata": {
    "colab_type": "text",
    "id": "p5RRpsASVRev"
   },
   "source": [
    "The SVD decomposition of matrix $M$ may have non-zero singular values in $\\Sigma.  To solve\n",
    "$$ M \\vec{x} = \\vec{b}$$\n",
    "\n",
    "we can replace $M$ with $U \\Sigma V^\\dagger$:\n",
    "$$ U \\, \\Sigma \\, V^\\dagger \\, \\vec{x} = \\vec{b}$$\n",
    "\n",
    "The inverse of matrices $U$ and $V$ are $U^\\dagger$ and $V^\\dagger$.  If we decompose $\\Sigma$ into a block matrix composed of the non-zero singular values, then we can restrict our singular value decomposition into invertible and non-invertible parts:\n",
    "\n",
    "$$ U \\, \\Sigma \\, V^\\dagger = \\left( \\begin{array}{c|c} U_{use} & U_{discard} \\\\ \\end{array} \\right) \\left( \\begin{array}{c|c} \\Sigma_{use} & 0 \\\\ \\hline 0 & \\Sigma_{discard} \\\\ \\end{array} \\right)  \\left( \\begin{array}{c|c} V_{use} & V_{discard} \\\\ \\end{array} \\right)^\\dagger$$\n",
    "\n",
    "Effectively, this allows us to replace $U \\Sigma V^\\dagger \\vec{x} = \\vec{b}$ with\n",
    "\n",
    "$$ U_{use} \\, \\Sigma_{use} \\, V_{use}^\\dagger \\, \\vec{x} = \\vec{b}$$\n",
    "\n",
    "The solution to this system is then\n",
    "\n",
    "$$\\vec{x} = V_{use} \\, \\Sigma_{use}^{-1} \\, U_{use}^\\dagger \\, \\vec{b}$$\n"
   ]
  },
  {
   "cell_type": "code",
   "execution_count": 13,
   "metadata": {
    "colab": {},
    "colab_type": "code",
    "id": "W50_oUxwb5TQ"
   },
   "outputs": [],
   "source": [
    "#  Based on the number of non-zero singular values in S, divide each of U, sigma, and Vh into \n",
    "#  U_use, Sigma_use, and Vh_use.\n",
    "#  and  discard U_d, Sigma_d, Vh_d\n",
    "useSigs = 9\n",
    "\n",
    "#Use these parts of U, S, and Vh\n",
    "(Vrows, Vcols) = Vh.shape\n",
    "(Urows, Ucols) = U.shape\n",
    "U_use = U[:Urows, :useSigs]\n",
    "Vh_use = Vh[:Vrows, :useSigs]\n",
    "sigma_use = sigma[:useSigs, :useSigs]\n",
    "\n",
    "#discard these parts of U, S, and Vh:\n",
    "U_d = U[:Urows, useSigs:]\n",
    "Vh_d = Vh[:Vrows, useSigs:]\n",
    "sigma_d = sigma[useSigs:, useSigs:]"
   ]
  },
  {
   "cell_type": "code",
   "execution_count": 14,
   "metadata": {
    "colab": {
     "base_uri": "https://localhost:8080/",
     "height": 35
    },
    "colab_type": "code",
    "id": "kv84g_TKb6oc",
    "outputId": "d5f5c7d8-fc88-4730-88af-dc405d6625e8"
   },
   "outputs": [
    {
     "data": {
      "text/plain": [
       "(15, 9)"
      ]
     },
     "execution_count": 14,
     "metadata": {},
     "output_type": "execute_result"
    }
   ],
   "source": [
    "#  We should be able to figure out the size of U and Vh that we'll use:\n",
    "#\n",
    "#  U S Vh  =   [         .     ] [             .         ]  [            .      ]\n",
    "#              [ U_use   .     ] [  sigma_use  .         ]  [   Vh_use   .      ]\n",
    "#              [         . U_d ] [.......................]  [            . Vh_d ]\n",
    "#              [         .     ] [             . sigma_d ]  [            .      ]\n",
    "#\n",
    "#\n",
    "#  Uncomment these lines (one at a time) to check that U_use, sigma_use, and Vh_use are the right sizes, as well as U_d, sigma_d, and Vh_d\n",
    "U_use.shape\n",
    "#sigma_use.shape\n",
    "#Vh_use.shape\n",
    "#U_d.shape\n",
    "#sigma_d.shape\n",
    "#Vh_d.shape"
   ]
  },
  {
   "cell_type": "code",
   "execution_count": 15,
   "metadata": {
    "colab": {
     "base_uri": "https://localhost:8080/",
     "height": 91
    },
    "colab_type": "code",
    "id": "Lo2uoltbb8F-",
    "outputId": "b1450946-0404-4855-e3ba-4bf045b05fc4"
   },
   "outputs": [
    {
     "data": {
      "text/plain": [
       "matrix([[-7.50191020e-11],\n",
       "        [ 7.00000000e+00],\n",
       "        [-5.94013727e-12],\n",
       "        [-5.00000000e+00],\n",
       "        [ 7.60280727e-13],\n",
       "        [ 3.00000000e+00],\n",
       "        [-5.32907052e-15],\n",
       "        [-1.00000000e+00],\n",
       "        [ 4.99600361e-16]])"
      ]
     },
     "execution_count": 15,
     "metadata": {},
     "output_type": "execute_result"
    }
   ],
   "source": [
    "#  If we use Singular Value Decomposition to break down M as a product of matrices\n",
    "#  M = U sigma Vh.conjugate_transpose()\n",
    "#  Then the part of A which corresponds to non-zero singular values is:\n",
    "#  M_use = U_use sigma_use Vh_use.conjugate_transpose()\n",
    "#\n",
    "#  So, the equation Mx = b becomes:  (U_use sigma_use Vh_use.conjugate_transpose()) x = b\n",
    "#  or\n",
    "#  svd_sol = (U_use sigma_use Vh_use.conjugate_transpose()).inverse() b\n",
    "#  or\n",
    "#  svd_sol = Vh_use * Sigma_use.inverse() * U_use.transpose() * b\n",
    "#  (since Vh_use.conjugate_transpose() = Vh_use.inverse() and U_use.transpose() = U_use.inverse() )\n",
    "svdsol = (Vh_use @ linalg.inv(sigma_use) @ U_use.transpose()) @ b\n",
    "svdsol"
   ]
  },
  {
   "cell_type": "markdown",
   "metadata": {
    "colab_type": "text",
    "id": "sraTkiB4VdTA"
   },
   "source": [
    "We can test our solution against the output of our original system.\n",
    "\n",
    "The original output in our system is represented by $\\vec{b}$.\n",
    "\n",
    "Our suggested solution to $M\\vec{x} = \\vec{b}$ is $\\vec{svdsol}$.  That is, we think\n",
    "\n",
    "$$ M \\vec{svdsol} \\approx \\vec{b}$$\n",
    "\n",
    "If we have a good fit, then \n",
    "\n",
    "$$\\vec{b} - M \\vec{svdsol} \\approx 0$$\n",
    "\n",
    "To test our solution, we find the) magnitude of $\\vec{b} - M\\vec{svdsol}$:"
   ]
  },
  {
   "cell_type": "code",
   "execution_count": 16,
   "metadata": {
    "colab": {
     "base_uri": "https://localhost:8080/",
     "height": 35
    },
    "colab_type": "code",
    "id": "Nfsvq9VrViD8",
    "outputId": "cb8fb753-7036-4366-e1ca-cf9e07738d04"
   },
   "outputs": [
    {
     "data": {
      "text/plain": [
       "4.4856117416036025e-10"
      ]
     },
     "execution_count": 16,
     "metadata": {},
     "output_type": "execute_result"
    }
   ],
   "source": [
    "#  Let's see how close this actually gets us by comparing the original b vector to the result of Mc:\n",
    "error = ((b-M*svdsol).transpose() * (b-M*svdsol))[0,0]\n",
    "error**0.5"
   ]
  },
  {
   "cell_type": "code",
   "execution_count": 27,
   "metadata": {
    "colab": {
     "base_uri": "https://localhost:8080/",
     "height": 295
    },
    "colab_type": "code",
    "id": "b9_J3JjbVouD",
    "outputId": "90709b8a-0342-4914-cbc7-d40c5a346a37"
   },
   "outputs": [
    {
     "data": {
      "image/png": "[encoded data removed]",
      "text/plain": [
       "<Figure size 432x288 with 1 Axes>"
      ]
     },
     "metadata": {
      "needs_background": "light"
     },
     "output_type": "display_data"
    }
   ],
   "source": [
    "#Show a plot of the solutions using the SVD method:\n",
    "\n",
    "# We'll specify that x is a variable:\n",
    "x = sym.symbols('x')\n",
    "\n",
    "xdata = []\n",
    "fdata = []\n",
    "#set up our 100 data points on the interval from (-5, 5):\n",
    "xdata = np.array(range(100))/(100/10) - 5\n",
    "\n",
    "#construct the solution from svdsol\n",
    "svd_fit = svdsol[0,0] + svdsol[1,0]*xdata + svdsol[2,0]*(xdata**2) + svdsol[3,0]*(xdata**3) + svdsol[4,0]*(xdata**4) + svdsol[5,0]*(xdata**5) + svdsol[6,0]*(xdata**6) + svdsol[7,0]*(xdata**7)+svdsol[8,0]*(xdata**8)\n",
    "#  Create the plot of the given data in as red points:\n",
    "# and the svd solution in aqua:  \n",
    "plt.plot(actual_data_x,actual_data_y, 'ro', alpha=0.3 ) + plt.plot(xdata,svd_fit, color='aqua')\n",
    "\n",
    "#Widen or restrict the output values to this range:\n",
    "#You may have to adjust this to see more of the data points.\n",
    "plt.ylim(-60000,60000)\n",
    "\n",
    "# Add a title\n",
    "plt.title('Our given data (red dots)  and svd solution (aqua)')\n",
    "\n",
    "# Add X and y Label\n",
    "plt.xlabel('x axis')\n",
    "plt.ylabel('output')\n",
    "\n",
    "# Add a grid\n",
    "plt.grid(alpha=.4,linestyle='--')\n"
   ]
  },
  {
   "cell_type": "markdown",
   "metadata": {
    "colab_type": "text",
    "id": "tYilTfS6XGzj"
   },
   "source": [
    "#2.5  Assignment\n",
    "\n",
    "The problems above utilized a 2nd degree polynomial to fit the given data.  To complete this assignment, you need to\n",
    "\n",
    "\n",
    "\n",
    "1.   Modify the code above to utilize an 8th degree polynomial for both the best-fit and SVD methods\n",
    "2.   Write out the polynomial used to generate the original given data.\n",
    "3.   Broaden the output on the graphs above and below in order to see all fifteen data points.\n",
    "\n",
    "\n",
    "The graph below should show both the best-fit and svd solution:"
   ]
  },
  {
   "cell_type": "code",
   "execution_count": 28,
   "metadata": {
    "colab": {
     "base_uri": "https://localhost:8080/",
     "height": 295
    },
    "colab_type": "code",
    "id": "Z5nHfhnpb-FO",
    "outputId": "25a3dee6-fd4a-43be-c55b-fd78e2f44774"
   },
   "outputs": [
    {
     "data": {
      "image/png": "[encoded data removed]",
      "text/plain": [
       "<Figure size 432x288 with 1 Axes>"
      ]
     },
     "metadata": {
      "needs_background": "light"
     },
     "output_type": "display_data"
    }
   ],
   "source": [
    "#Show a plot of the solutions using the best-fit method, and the SVD method:\n",
    "\n",
    "# We'll specify that x is a variable:\n",
    "x = sym.symbols('x')\n",
    "\n",
    "xdata = []\n",
    "fdata = []\n",
    "#set up our 100 data points on the interval from (-5, 5):\n",
    "xdata = np.array(range(100))/(100/10) - 5\n",
    "\n",
    "#Best fit method\n",
    "best_fit = c[0,0] + c[1,0]*xdata + c[2,0]*(xdata**2) + c[3,0]*(xdata**3) + c[4,0]*(xdata**4) + c[5,0]*(xdata**5) + c[6,0]*(xdata**6) + c[7,0]*(xdata**7) + c[8,0]*(xdata**8)\n",
    "\n",
    "#construct the solution from svdsol\n",
    "svd_fit = svdsol[0,0] + svdsol[1,0]*xdata + svdsol[2,0]*(xdata**2) + svdsol[3,0]*(xdata**3) + svdsol[4,0]*(xdata**4) + svdsol[5,0]*(xdata**5) + svdsol[6,0]*(xdata**6) + svdsol[7,0]*(xdata**7)+svdsol[8,0]*(xdata**8)\n",
    "\n",
    "#  Create the plot of the given data in as red points:\n",
    "#  the best-fit method in green, and the svd solution in aqua:  \n",
    "plt.plot(actual_data_x,actual_data_y, 'ro', alpha=0.3 ) + plt.plot(xdata,best_fit, color='green') + plt.plot(xdata,svd_fit, color='aqua')\n",
    "\n",
    "#Widen or restrict the output values to this range:\n",
    "#You may have to adjust this to see more of the data points.\n",
    "plt.ylim(-60000,60000)\n",
    "\n",
    "# Add a title\n",
    "plt.title('Our given data (red dots), our best-fit solution (green), and svd solution (aqua)')\n",
    "# Add X and y Label\n",
    "plt.xlabel('x axis')\n",
    "plt.ylabel('output')\n",
    "\n",
    "# Add a grid\n",
    "plt.grid(alpha=.4,linestyle='--')"
   ]
  },
  {
   "cell_type": "code",
   "execution_count": 19,
   "metadata": {
    "colab": {},
    "colab_type": "code",
    "id": "yxBjyjLRcAFn"
   },
   "outputs": [
    {
     "data": {
      "text/plain": [
       "matrix([[ 2.57500687e-11],\n",
       "        [ 7.00000000e+00],\n",
       "        [ 1.10890142e-09],\n",
       "        [-5.00000000e+00],\n",
       "        [-7.47917284e-11],\n",
       "        [ 3.00000000e+00],\n",
       "        [ 6.64810429e-11],\n",
       "        [-1.00000000e+00],\n",
       "        [-4.42701431e-13]])"
      ]
     },
     "execution_count": 19,
     "metadata": {},
     "output_type": "execute_result"
    }
   ],
   "source": [
    "c"
   ]
  },
  {
   "cell_type": "markdown",
   "metadata": {},
   "source": [
    "## polynomial: f(x) = 7x-5x^3+3x^5-x^7"
   ]
  }
 ],
 "metadata": {
  "colab": {
   "authorship_tag": "ABX9TyPbgiY9+jRphaAJWDHrqrSR",
   "include_colab_link": true,
   "name": "Project 4:  Case 2 - Solving for a unknown function using data and Singular Values or Best Fit.ipynb",
   "provenance": []
  },
  "kernelspec": {
   "display_name": "AdvLinAlg",
   "language": "python",
   "name": "advlinalg"
  },
  "language_info": {
   "codemirror_mode": {
    "name": "ipython",
    "version": 3
   },
   "file_extension": ".py",
   "mimetype": "text/x-python",
   "name": "python",
   "nbconvert_exporter": "python",
   "pygments_lexer": "ipython3",
   "version": "3.6.10"
  }
 },
 "nbformat": 4,
 "nbformat_minor": 1
}
