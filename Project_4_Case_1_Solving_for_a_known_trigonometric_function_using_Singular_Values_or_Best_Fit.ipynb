{
 "cells": [
  {
   "cell_type": "markdown",
   "metadata": {
    "colab_type": "text",
    "id": "view-in-github"
   },
   "source": [
    "<a href=\"https://colab.research.google.com/github/awangberg/AdvLinearAlgebra/blob/master/Project_4_Case_1_Solving_for_a_known_trigonometric_function_using_Singular_Values_or_Best_Fit.ipynb\" target=\"_parent\"><img src=\"https://colab.research.google.com/assets/colab-badge.svg\" alt=\"Open In Colab\"/></a>"
   ]
  },
  {
   "cell_type": "code",
   "execution_count": 1,
   "metadata": {
    "colab": {},
    "colab_type": "code",
    "id": "RikUpdZwlBC1"
   },
   "outputs": [
    {
     "name": "stderr",
     "output_type": "stream",
     "text": [
      "\n",
      "Bad key \"text.kerning_factor\" on line 4 in\n",
      "C:\\Users\\leesc\\miniconda3\\envs\\AdvLinAlg\\lib\\site-packages\\matplotlib\\mpl-data\\stylelib\\_classic_test_patch.mplstyle.\n",
      "You probably need to get an updated matplotlibrc file from\n",
      "https://github.com/matplotlib/matplotlib/blob/v3.1.3/matplotlibrc.template\n",
      "or from the matplotlib source distribution\n"
     ]
    }
   ],
   "source": [
    "#  Libraries that we'll need:\n",
    "import numpy as np\n",
    "import sympy as sym\n",
    "#from scipy import misc\n",
    "from scipy import linalg\n",
    "#from PIL import Image\n",
    "#import imageio\n",
    "import matplotlib.pyplot as plt\n",
    "# importing \"random\" for random operations \n",
    "import random "
   ]
  },
  {
   "cell_type": "markdown",
   "metadata": {
    "colab_type": "text",
    "id": "hZ4yDsfTlH6l"
   },
   "source": [
    "#  Singular Value Decomposition and Best Fit\n",
    "\n",
    "We look at some data generated here from three sources:\n",
    "\n",
    "*   Case 0:  A known polynomial function $f(x) = 4 - 3x^2 + 5x^6$\n",
    "*   Case 1:  A known trigonometric function $f(x) = 4 - 2cos(x) + cos^2 (x)$\n",
    "*   Case 2:  A matrix of data $M$ (specified below) with unknown source function\n",
    "*   Case 3:  An interesting case."
   ]
  },
  {
   "cell_type": "markdown",
   "metadata": {
    "colab_type": "text",
    "id": "FNuhqe22lOzW"
   },
   "source": [
    "#  Overview for Case 1: A known trigonometric function $f(x) = 4 - 2\\cos(x) + \\cos^2(x)$  \n",
    "We generate data for the polynomial function \n",
    "$$f(x) = 4 -3\\cos(x) + \\cos^2 (x)$$ \n",
    "We know two things: The input (x) and the output (f(x)) for that input.  Pretend we know the (x, f(x)) pairs for **a lot** of different points, say $3$ of them.\n",
    "\n",
    "We want to find out what combination of polynomials $1, x, x^2, x^3, x^4, x^5, x^6, x^7$ and $x^8$ best matches the data.  For each input/output pair $(x, f(x))$, we generate one row of data in the system $Ac = b$:\n",
    "\n",
    "$$ [  c_0 * 1 + c_1 * x + c_2 * x^2 + c_3 * x^3 + ... c_8 x^8 = f(x) ] $$\n",
    "\n",
    "or\n",
    "\n",
    "$$ \\left[ \\begin{array}{ccccccccc} 1 & x & x^2 & x^3 & x^4 & x^5 & x^6 & x^7 & x^8 \\end{array} \\right] \\left( \\begin{array}{c} c_0 \\\\ c_1 \\\\ c_2 \\\\ c_3 \\\\ c_4 \\\\ c_5 \\\\c_6 \\\\ c7 \\\\ c8 \\\\ \\end{array} \\right) = \\left[ f(x) \\right] $$\n",
    "\n",
    "\n",
    "Be careful -- the unknowns are the coefficients in front - the $c_0, c_1, c_2, ..., c_8$ values.  Since we know $x$, then we know $x, x^2, x^3, x^4, ... x^8$. And we know the output $f(x)$ for that row.\n",
    "\n",
    "So, if we know $x=2$ and $f(2) = 312$, then we populate the row as:\n",
    "\n",
    "$$ [  c_0*1  + c_1*2 + c_2*4 + c_3*8 + ... + c_8*256 = 312 ] $$\n",
    "\n",
    "or\n",
    "$$ \\left[ \\begin{array}{ccccccccc} 1 & 2 & 4 & 8 & 16 & x32 & 64 & 128 & 256\\end{array} \\right] \\left( \\begin{array}{c} c_0 \\\\ c_1 \\\\ c_2 \\\\ c_3 \\\\ c_4 \\\\ c_5 \\\\c_6 \\\\ c_6 \\\\ c_8 \\\\ \\end{array} \\right) = \\left[ 312 \\right] $$\n",
    "\n",
    "where the vector $\\vec{c}$ contains the unknowns $c_0, c_1, c_2, \\ldots c_8$\n",
    "\n",
    "So... let's generate the matrix:\n",
    "\n"
   ]
  },
  {
   "cell_type": "markdown",
   "metadata": {
    "colab_type": "text",
    "id": "zGqpUiw8D3CP"
   },
   "source": [
    "#1.1 Setting up the system\n",
    "\n",
    "We'll generate some data points for our system using the function \n",
    "$$ f(x) = 4 - 2\\cos(x) + \\cos^2(x)$$\n",
    "\n",
    "We'll store the input data in **actual_data_x** and the output in **actual_data_y**.\n",
    "\n",
    "We'll also use the data to set up a system\n",
    "$$M \\vec{x} = \\vec{b}$$\n",
    "\n",
    "where **actual_data_x** is used to populate matrix $M$ and **actual_data_y** is used to populate $\\vec{b}$."
   ]
  },
  {
   "cell_type": "code",
   "execution_count": 2,
   "metadata": {
    "colab": {},
    "colab_type": "code",
    "id": "v8SZR2faD-1h"
   },
   "outputs": [],
   "source": [
    "#We'll generate random points of data for our system.\n",
    "#The actual points for the system will be stored in containers actual_data_x and actual_data_y\n",
    "\n",
    "actual_data_x = []\n",
    "actual_data_y = []\n",
    "\n",
    "#We'll use (cough... cough...) three   data points:\n",
    "for i in range(25):\n",
    "    # pick a random number between -2pi and 2pi\n",
    "    x = 4*np.pi*random.random() - 2*np.pi\n",
    "    f = 4 - 2*np.cos(x) + np.cos(x)**2\n",
    "    actual_data_x.append(x)\n",
    "    actual_data_y.append(f)"
   ]
  },
  {
   "cell_type": "code",
   "execution_count": 3,
   "metadata": {
    "colab": {},
    "colab_type": "code",
    "id": "LuBxCrVmEQJ6"
   },
   "outputs": [],
   "source": [
    "# uncomment code below  to look at the data in actual_data_x or in actual_data_y\n",
    "\n",
    "#actual_data_x\n",
    "#actual_data_y"
   ]
  },
  {
   "cell_type": "code",
   "execution_count": 4,
   "metadata": {
    "colab": {},
    "colab_type": "code",
    "id": "zlBDrsHMER8j"
   },
   "outputs": [],
   "source": [
    "#Create the matrix M from the data in actual_data_x\n",
    "M_entries = []\n",
    "\n",
    "for x in actual_data_x:\n",
    "  M_entries.append([1, x, x**2, x**3, x**4, x**5, x**6, x**7, x**8])\n",
    "\n",
    "M = []\n",
    "M = np.matrix(M_entries)\n",
    "\n",
    "\n",
    "#and create the vector b from the data in actual_data_y:\n",
    "b = []\n",
    "b = (np.matrix(actual_data_y)).transpose()"
   ]
  },
  {
   "cell_type": "code",
   "execution_count": 5,
   "metadata": {
    "colab": {
     "base_uri": "https://localhost:8080/",
     "height": 183
    },
    "colab_type": "code",
    "id": "GF2h3SjGEZr0",
    "outputId": "5a535a62-e726-4fcc-be56-2787277e60dc"
   },
   "outputs": [
    {
     "data": {
      "text/plain": [
       "matrix([[3.00302167],\n",
       "        [3.5706582 ],\n",
       "        [3.65330056],\n",
       "        [6.53775149],\n",
       "        [6.86353178]])"
      ]
     },
     "execution_count": 5,
     "metadata": {},
     "output_type": "execute_result"
    }
   ],
   "source": [
    "# Uncomment either line below to show the matrix M\n",
    "# or the first five entries of b\n",
    "\n",
    "M\n",
    "b[:5]"
   ]
  },
  {
   "cell_type": "markdown",
   "metadata": {
    "colab_type": "text",
    "id": "e-MMyhuYEsgT"
   },
   "source": [
    "#1.2:  Plot the generated system:\n",
    "\n",
    "We'll create a plot showing the function (in red) and the data points sampled for the function (in blue).\n",
    "\n",
    "To generate the graph of the function $f(x)$, we first use $100$ data points from $0$ to $99$, then compress them into an interval of width $6$, and shift it left so that the 100 data points are equally spaced between $x = -2\\pi$ and $x=2\\pi$."
   ]
  },
  {
   "cell_type": "code",
   "execution_count": 6,
   "metadata": {
    "colab": {
     "base_uri": "https://localhost:8080/",
     "height": 295
    },
    "colab_type": "code",
    "id": "PGd38j_4qfm1",
    "outputId": "fed9a4b6-0cec-4a93-b6b2-373ec080f6be"
   },
   "outputs": [
    {
     "data": {
      "image/png": "[encoded data removed]",
      "text/plain": [
       "<Figure size 432x288 with 1 Axes>"
      ]
     },
     "metadata": {
      "needs_background": "light"
     },
     "output_type": "display_data"
    }
   ],
   "source": [
    "# We'll specify that x is a variable:\n",
    "x = sym.symbols('x')\n",
    "\n",
    "xdata = []\n",
    "fdata = []\n",
    "\n",
    "#set up our 100 data points on the interval from (-2pi, 2pi):\n",
    "xdata = np.array(range(100))/(100/(4*np.pi)) - 2*np.pi\n",
    "# find the ouput for our function on each data point:\n",
    "fdata = 4 - 2*np.cos(xdata) + np.cos(xdata)**2\n",
    "\n",
    "# Create the plot in red, and our datapoints in blue:  \n",
    "plt.plot(xdata,fdata, color='red') + plt.plot(actual_data_x, actual_data_y, 'bo')\n",
    "\n",
    "# Add a title\n",
    "plt.title('Our test data (in blue) compared to the actual data (in red)')\n",
    "\n",
    "# Add X and y Label\n",
    "plt.xlabel('x axis')\n",
    "plt.ylabel('output')\n",
    "\n",
    "# Add a grid\n",
    "plt.grid(alpha=.4,linestyle='--')\n"
   ]
  },
  {
   "cell_type": "markdown",
   "metadata": {
    "colab_type": "text",
    "id": "QlXzepbiFEiQ"
   },
   "source": [
    "#1.3:  Solving the system using the method of Best-Fit:\n",
    "\n",
    "Given a system \n",
    "$$ M \\vec{x} = \\vec{b}$$\n",
    "\n",
    "where matrix $M$ is **not necessarily square**, we can multiply by $M^T$ on the left to form the system\n",
    "\n",
    "$$ \\left( M^T M \\right) \\vec{x} = M^T \\vec{b} $$\n",
    "\n",
    "Now, $M^T M$ is a square matrix, so we can use it's inverse to solve for $\\vec{x}$:\n",
    "\n",
    "$$ \\vec{x} = \\left( M^T M \\right)^{-1} M^T \\vec{b}$$\n",
    "\n",
    "This solution method is called the method of Best-Fit.\n",
    "\n",
    "**A word of caution**:  We're initially trying to fit a 6th degree polynomial with only 3 data points.  That shouldn't have a good solution, and it could have no solution.  If you get no solution, start at the top and re-run the code to generate a new set of random data points for our system."
   ]
  },
  {
   "cell_type": "code",
   "execution_count": 7,
   "metadata": {
    "colab": {
     "base_uri": "https://localhost:8080/",
     "height": 183
    },
    "colab_type": "code",
    "id": "Os9TvUT5qiQO",
    "outputId": "5dad853d-b2bf-4b58-f3fb-92e7b262bca1"
   },
   "outputs": [
    {
     "data": {
      "text/plain": [
       "matrix([[ 2.80818542e+00],\n",
       "        [-1.42917814e-01],\n",
       "        [ 8.26505765e-01],\n",
       "        [ 1.96452594e-02],\n",
       "        [-4.86636010e-02],\n",
       "        [-5.29487725e-04],\n",
       "        [ 5.73749082e-04],\n",
       "        [ 2.30753953e-06],\n",
       "        [ 4.11207388e-06]])"
      ]
     },
     "execution_count": 7,
     "metadata": {},
     "output_type": "execute_result"
    }
   ],
   "source": [
    "#  Find the solution to Mx = b using Best Fit:\n",
    "#  (We've already used 'x' as a variable, so we'll call the solution vector c.)\n",
    "c = linalg.inv(M.transpose() * M) * M.transpose() * b\n",
    "c"
   ]
  },
  {
   "cell_type": "markdown",
   "metadata": {
    "colab_type": "text",
    "id": "_intXzv7FS-D"
   },
   "source": [
    "We can test our solution against the output of our original system.\n",
    "\n",
    "The original output in our system is represented by $\\vec{b}$.\n",
    "\n",
    "Our suggested solution to $M\\vec{x} = \\vec{b}$ is $\\vec{c}$.  That is, we think\n",
    "\n",
    "$$ M \\vec{c} \\approx \\vec{b}$$\n",
    "\n",
    "If we have a good fit, then \n",
    "\n",
    "$$\\vec{b} - M \\vec{c} \\approx 0$$\n",
    "\n",
    "To test our solution, we find the) magnitude of $\\vec{b} - M\\vec{c}$:"
   ]
  },
  {
   "cell_type": "code",
   "execution_count": 8,
   "metadata": {
    "colab": {
     "base_uri": "https://localhost:8080/",
     "height": 35
    },
    "colab_type": "code",
    "id": "cyHQjzItqlNn",
    "outputId": "93a91cdb-d86a-47b7-daa8-a2126318f06e"
   },
   "outputs": [
    {
     "data": {
      "text/plain": [
       "0.965728960023909"
      ]
     },
     "execution_count": 8,
     "metadata": {},
     "output_type": "execute_result"
    }
   ],
   "source": [
    "#  Let's see how close this actually gets us by comparing the original b vector to the result of Mc:\n",
    "error = ((b-M*c).transpose() * (b-M*c))[0,0]\n",
    "error**0.5"
   ]
  },
  {
   "cell_type": "markdown",
   "metadata": {
    "colab_type": "text",
    "id": "SqBJrx91FaGg"
   },
   "source": [
    "We can plot the actual solution (in red) with our best-fit solution (in green), using the test data shown as blue points.  It may be helpful to adjust the limits on the y-axis to zoom in or out on the output.\n"
   ]
  },
  {
   "cell_type": "code",
   "execution_count": 9,
   "metadata": {
    "colab": {
     "base_uri": "https://localhost:8080/",
     "height": 295
    },
    "colab_type": "code",
    "id": "prV8OVeoFbvX",
    "outputId": "9179ed4c-82e4-4f3b-9d50-66bf64453d94"
   },
   "outputs": [
    {
     "data": {
      "image/png": "[encoded data removed]",
      "text/plain": [
       "<Figure size 432x288 with 1 Axes>"
      ]
     },
     "metadata": {
      "needs_background": "light"
     },
     "output_type": "display_data"
    }
   ],
   "source": [
    "#Show a plot of the solutions using the best-fit method, and the SVD method:\n",
    "\n",
    "# We'll specify that x is a variable:\n",
    "x = sym.symbols('x')\n",
    "\n",
    "xdata = []\n",
    "fdata = []\n",
    "#set up our 100 data points on the interval from (-2pi, 2pi):\n",
    "xdata = np.array(range(100))/(100/(4*np.pi)) - 2*np.pi\n",
    "# find the ouput for our function on each data point:\n",
    "fdata = 4 - 2*np.cos(xdata) + np.cos(xdata)**2\n",
    "\n",
    "best_fit = c[0,0] + c[1,0]*xdata + c[2,0]*(xdata**2) + c[3,0]*(xdata**3) + c[4,0]*(xdata**4) + c[5,0]*(xdata**5) + c[6,0]*(xdata**6) + c[7,0]*(xdata**7) + c[8,0]*(xdata**8)\n",
    "# Create the actual plot in red, and our datapoints in blue,\n",
    "# and the best-fit method in green:  \n",
    "plt.plot(xdata,fdata, color='red', linewidth=2 ) + plt.plot(actual_data_x, actual_data_y, 'bo', alpha=0.3)+plt.plot(xdata,best_fit, color='green')\n",
    "\n",
    "#Restrict the output values to this range:\n",
    "plt.ylim(-30,30)\n",
    "\n",
    "# Add a title\n",
    "plt.title('Our test data (blue) for the original function (red) and our best-fit solution (green)')\n",
    "\n",
    "# Add X and y Label\n",
    "plt.xlabel('x axis')\n",
    "plt.ylabel('output')\n",
    "\n",
    "# Add a grid\n",
    "plt.grid(alpha=.4,linestyle='--')"
   ]
  },
  {
   "cell_type": "markdown",
   "metadata": {
    "colab_type": "text",
    "id": "UUukKVjEF1ZL"
   },
   "source": [
    "#1.4 Solving the system using Singular Value Decomposition\n",
    "\n",
    "Singular Value Decomposition decomposes a matrix M into three matrices\n",
    "\n",
    "$$ M = U \\Sigma V^\\dagger$$\n",
    "\n",
    "where $U$ and $V$ are square matrices and $\\Sigma$ is a rectangular matrix with singular values on the main diagonal."
   ]
  },
  {
   "cell_type": "code",
   "execution_count": 10,
   "metadata": {
    "colab": {},
    "colab_type": "code",
    "id": "MCh6XRCXqnu2"
   },
   "outputs": [],
   "source": [
    "#  For this method, we use SVD on the data matrix M:\n",
    "U, S, Vh = linalg.svd(M, full_matrices=True)\n",
    "Vh = Vh.T"
   ]
  },
  {
   "cell_type": "code",
   "execution_count": 11,
   "metadata": {
    "colab": {},
    "colab_type": "code",
    "id": "_Or_krPzqqr7"
   },
   "outputs": [],
   "source": [
    "#  Uncomment the lines below to show the matrix U, S, and Vh:\n",
    "#  Notice that in S only the singular values are stored, not the entire matrix.\n",
    "#U\n",
    "#S\n",
    "#Vh"
   ]
  },
  {
   "cell_type": "code",
   "execution_count": 12,
   "metadata": {
    "colab": {
     "base_uri": "https://localhost:8080/",
     "height": 35
    },
    "colab_type": "code",
    "id": "0Z3xxDuhGCHc",
    "outputId": "776984ce-11f2-4ede-8bb5-8bc3546fdc4e"
   },
   "outputs": [
    {
     "data": {
      "text/plain": [
       "array([3.30814681e+06, 4.91575991e+05, 9.32589042e+03, 1.71849977e+03,\n",
       "       1.18322918e+02, 3.25756832e+01, 3.68882516e+00, 2.22356776e+00,\n",
       "       1.57234648e+00])"
      ]
     },
     "execution_count": 12,
     "metadata": {},
     "output_type": "execute_result"
    }
   ],
   "source": [
    "#  The 2nd singular value is:\n",
    "S"
   ]
  },
  {
   "cell_type": "code",
   "execution_count": 13,
   "metadata": {
    "colab": {
     "base_uri": "https://localhost:8080/",
     "height": 35
    },
    "colab_type": "code",
    "id": "7XoANhuXqzbi",
    "outputId": "8011e4c0-e0a6-414a-a577-cdae69db6d76"
   },
   "outputs": [
    {
     "data": {
      "text/plain": [
       "False"
      ]
     },
     "execution_count": 13,
     "metadata": {},
     "output_type": "execute_result"
    }
   ],
   "source": [
    "# We can compare the original matrix M to the matrix reconstructed (called a1) from the SVD:\n",
    "# If they are close, then allclose(M, a1) should be True.\n",
    "\n",
    "#First, recast S as a matrix instead of a vector:\n",
    "sigma = np.zeros((U.shape[1], Vh.shape[0]))\n",
    "for i in range(min(sigma.shape)):\n",
    "     sigma[i, i] = S[i]\n",
    "a1 = np.dot(U, np.dot(sigma, Vh))\n",
    "#does a1 approximate M?\n",
    "np.allclose(M, a1)"
   ]
  },
  {
   "cell_type": "code",
   "execution_count": 21,
   "metadata": {},
   "outputs": [
    {
     "data": {
      "text/latex": [
       "$\\displaystyle \\left[\\begin{array}{ccccccccccccccccccccccccc}3308146.81466791 & 0.0 & 0.0 & 0.0 & 0.0 & 0.0 & 0.0 & 0.0 & 0.0 & 0.0 & 0.0 & 0.0 & 0.0 & 0.0 & 0.0 & 0.0 & 0.0 & 0.0 & 0.0 & 0.0 & 0.0 & 0.0 & 0.0 & 0.0 & 0.0\\\\0.0 & 491575.99074856 & 0.0 & 0.0 & 0.0 & 0.0 & 0.0 & 0.0 & 0.0 & 0.0 & 0.0 & 0.0 & 0.0 & 0.0 & 0.0 & 0.0 & 0.0 & 0.0 & 0.0 & 0.0 & 0.0 & 0.0 & 0.0 & 0.0 & 0.0\\\\0.0 & 0.0 & 9325.89042328415 & 0.0 & 0.0 & 0.0 & 0.0 & 0.0 & 0.0 & 0.0 & 0.0 & 0.0 & 0.0 & 0.0 & 0.0 & 0.0 & 0.0 & 0.0 & 0.0 & 0.0 & 0.0 & 0.0 & 0.0 & 0.0 & 0.0\\\\0.0 & 0.0 & 0.0 & 1718.49976517064 & 0.0 & 0.0 & 0.0 & 0.0 & 0.0 & 0.0 & 0.0 & 0.0 & 0.0 & 0.0 & 0.0 & 0.0 & 0.0 & 0.0 & 0.0 & 0.0 & 0.0 & 0.0 & 0.0 & 0.0 & 0.0\\\\0.0 & 0.0 & 0.0 & 0.0 & 118.322918191719 & 0.0 & 0.0 & 0.0 & 0.0 & 0.0 & 0.0 & 0.0 & 0.0 & 0.0 & 0.0 & 0.0 & 0.0 & 0.0 & 0.0 & 0.0 & 0.0 & 0.0 & 0.0 & 0.0 & 0.0\\\\0.0 & 0.0 & 0.0 & 0.0 & 0.0 & 32.5756831795659 & 0.0 & 0.0 & 0.0 & 0.0 & 0.0 & 0.0 & 0.0 & 0.0 & 0.0 & 0.0 & 0.0 & 0.0 & 0.0 & 0.0 & 0.0 & 0.0 & 0.0 & 0.0 & 0.0\\\\0.0 & 0.0 & 0.0 & 0.0 & 0.0 & 0.0 & 3.68882516217966 & 0.0 & 0.0 & 0.0 & 0.0 & 0.0 & 0.0 & 0.0 & 0.0 & 0.0 & 0.0 & 0.0 & 0.0 & 0.0 & 0.0 & 0.0 & 0.0 & 0.0 & 0.0\\\\0.0 & 0.0 & 0.0 & 0.0 & 0.0 & 0.0 & 0.0 & 2.22356776073976 & 0.0 & 0.0 & 0.0 & 0.0 & 0.0 & 0.0 & 0.0 & 0.0 & 0.0 & 0.0 & 0.0 & 0.0 & 0.0 & 0.0 & 0.0 & 0.0 & 0.0\\\\0.0 & 0.0 & 0.0 & 0.0 & 0.0 & 0.0 & 0.0 & 0.0 & 1.57234647571703 & 0.0 & 0.0 & 0.0 & 0.0 & 0.0 & 0.0 & 0.0 & 0.0 & 0.0 & 0.0 & 0.0 & 0.0 & 0.0 & 0.0 & 0.0 & 0.0\\end{array}\\right]$"
      ],
      "text/plain": [
       "Matrix([\n",
       "[3308146.81466791,             0.0,              0.0,              0.0,              0.0,              0.0,              0.0,              0.0,              0.0, 0.0, 0.0, 0.0, 0.0, 0.0, 0.0, 0.0, 0.0, 0.0, 0.0, 0.0, 0.0, 0.0, 0.0, 0.0, 0.0],\n",
       "[             0.0, 491575.99074856,              0.0,              0.0,              0.0,              0.0,              0.0,              0.0,              0.0, 0.0, 0.0, 0.0, 0.0, 0.0, 0.0, 0.0, 0.0, 0.0, 0.0, 0.0, 0.0, 0.0, 0.0, 0.0, 0.0],\n",
       "[             0.0,             0.0, 9325.89042328415,              0.0,              0.0,              0.0,              0.0,              0.0,              0.0, 0.0, 0.0, 0.0, 0.0, 0.0, 0.0, 0.0, 0.0, 0.0, 0.0, 0.0, 0.0, 0.0, 0.0, 0.0, 0.0],\n",
       "[             0.0,             0.0,              0.0, 1718.49976517064,              0.0,              0.0,              0.0,              0.0,              0.0, 0.0, 0.0, 0.0, 0.0, 0.0, 0.0, 0.0, 0.0, 0.0, 0.0, 0.0, 0.0, 0.0, 0.0, 0.0, 0.0],\n",
       "[             0.0,             0.0,              0.0,              0.0, 118.322918191719,              0.0,              0.0,              0.0,              0.0, 0.0, 0.0, 0.0, 0.0, 0.0, 0.0, 0.0, 0.0, 0.0, 0.0, 0.0, 0.0, 0.0, 0.0, 0.0, 0.0],\n",
       "[             0.0,             0.0,              0.0,              0.0,              0.0, 32.5756831795659,              0.0,              0.0,              0.0, 0.0, 0.0, 0.0, 0.0, 0.0, 0.0, 0.0, 0.0, 0.0, 0.0, 0.0, 0.0, 0.0, 0.0, 0.0, 0.0],\n",
       "[             0.0,             0.0,              0.0,              0.0,              0.0,              0.0, 3.68882516217966,              0.0,              0.0, 0.0, 0.0, 0.0, 0.0, 0.0, 0.0, 0.0, 0.0, 0.0, 0.0, 0.0, 0.0, 0.0, 0.0, 0.0, 0.0],\n",
       "[             0.0,             0.0,              0.0,              0.0,              0.0,              0.0,              0.0, 2.22356776073976,              0.0, 0.0, 0.0, 0.0, 0.0, 0.0, 0.0, 0.0, 0.0, 0.0, 0.0, 0.0, 0.0, 0.0, 0.0, 0.0, 0.0],\n",
       "[             0.0,             0.0,              0.0,              0.0,              0.0,              0.0,              0.0,              0.0, 1.57234647571703, 0.0, 0.0, 0.0, 0.0, 0.0, 0.0, 0.0, 0.0, 0.0, 0.0, 0.0, 0.0, 0.0, 0.0, 0.0, 0.0]])"
      ]
     },
     "execution_count": 21,
     "metadata": {},
     "output_type": "execute_result"
    }
   ],
   "source": [
    "sigma = sigma.T\n",
    "sym.Matrix(sigma)"
   ]
  },
  {
   "cell_type": "markdown",
   "metadata": {
    "colab_type": "text",
    "id": "GEiJnb8ZHxe0"
   },
   "source": [
    "The SVD decomposition of matrix $M$ may have non-zero singular values in $\\Sigma.  To solve\n",
    "$$ M \\vec{x} = \\vec{b}$$\n",
    "\n",
    "we can replace $M$ with $U \\Sigma V^\\dagger$:\n",
    "$$ U \\, \\Sigma \\, V^\\dagger \\, \\vec{x} = \\vec{b}$$\n",
    "\n",
    "The inverse of matrices $U$ and $V$ are $U^\\dagger$ and $V^\\dagger$.  If we decompose $\\Sigma$ into a block matrix composed of the non-zero singular values, then we can restrict our singular value decomposition into invertible and non-invertible parts:\n",
    "\n",
    "$$ U \\, \\Sigma \\, V^\\dagger = \\left( \\begin{array}{c|c} U_{use} & U_{discard} \\\\ \\end{array} \\right) \\left( \\begin{array}{c|c} \\Sigma_{use} & 0 \\\\ \\hline 0 & \\Sigma_{discard} \\\\ \\end{array} \\right)  \\left( \\begin{array}{c|c} V_{use} & V_{discard} \\\\ \\end{array} \\right)^\\dagger$$\n",
    "\n",
    "Effectively, this allows us to replace $U \\Sigma V^\\dagger \\vec{x} = \\vec{b}$ with\n",
    "\n",
    "$$ U_{use} \\, \\Sigma_{use} \\, V_{use}^\\dagger \\, \\vec{x} = \\vec{b}$$\n",
    "\n",
    "The solution to this system is then\n",
    "\n",
    "$$\\vec{x} = V_{use} \\, \\Sigma_{use}^{-1} \\, U_{use}^\\dagger \\, \\vec{b}$$\n"
   ]
  },
  {
   "cell_type": "code",
   "execution_count": 22,
   "metadata": {
    "colab": {},
    "colab_type": "code",
    "id": "MD8yFnR-q1U8"
   },
   "outputs": [],
   "source": [
    "#  Based on the number of non-zero singular values in S, divide each of U, sigma, and Vh into \n",
    "#  U_use, Sigma_use, and Vh_use.\n",
    "#  and  discard U_d, Sigma_d, Vh_d\n",
    "useSigs = 9\n",
    "\n",
    "#Use these parts of U, S, and Vh\n",
    "(Vrows, Vcols) = Vh.shape\n",
    "(Urows, Ucols) = U.shape\n",
    "U_use = U[:Urows, :useSigs]\n",
    "Vh_use = Vh[:Vrows, :useSigs]\n",
    "sigma_use = sigma[:useSigs, :useSigs]\n",
    "\n",
    "#discard these parts of U, S, and Vh:\n",
    "U_d = U[:Urows, useSigs:]\n",
    "Vh_d = Vh[:Vrows, useSigs:]\n",
    "sigma_d = sigma[useSigs:, useSigs:]"
   ]
  },
  {
   "cell_type": "code",
   "execution_count": 23,
   "metadata": {
    "colab": {},
    "colab_type": "code",
    "id": "k5xb86Grq3V9"
   },
   "outputs": [],
   "source": [
    "#  We should be able to figure out the size of U and Vh that we'll use:\n",
    "#\n",
    "#  U S Vh  =   [         .     ] [             .         ]  [            .      ]\n",
    "#              [ U_use   .     ] [  sigma_use  .         ]  [   Vh_use   .      ]\n",
    "#              [         . U_d ] [.......................]  [            . Vh_d ]\n",
    "#              [         .     ] [             . sigma_d ]  [            .      ]\n",
    "#\n",
    "#\n",
    "#  Check that U_use, sigma_use, and Vh_use are the right sizes, as well as U_d, sigma_d, and Vh_d\n",
    "#U_use.shape\n",
    "#sigma_use.shape\n",
    "#Vh_use.shape\n",
    "#U_d.shape\n",
    "#sigma_d.shape\n",
    "#Vh_d.shape"
   ]
  },
  {
   "cell_type": "code",
   "execution_count": 24,
   "metadata": {
    "colab": {
     "base_uri": "https://localhost:8080/",
     "height": 183
    },
    "colab_type": "code",
    "id": "dYi5SpNJq5WP",
    "outputId": "2bed86bd-589d-4640-ed1f-64af0e123ed0"
   },
   "outputs": [
    {
     "data": {
      "text/plain": [
       "matrix([[ 2.80818542e+00],\n",
       "        [-1.42917814e-01],\n",
       "        [ 8.26505765e-01],\n",
       "        [ 1.96452594e-02],\n",
       "        [-4.86636010e-02],\n",
       "        [-5.29487725e-04],\n",
       "        [ 5.73749082e-04],\n",
       "        [ 2.30753953e-06],\n",
       "        [ 4.11207388e-06]])"
      ]
     },
     "execution_count": 24,
     "metadata": {},
     "output_type": "execute_result"
    }
   ],
   "source": [
    "#  If we use Singular Value Decomposition to break down M as a product of matrices\n",
    "#  M = U sigma Vh.conjugate_transpose()\n",
    "#  Then the part of A which corresponds to non-zero singular values is:\n",
    "#  M_use = U_use sigma_use Vh_use.conjugate_transpose()\n",
    "#\n",
    "#  So, the equation Mx = b becomes:  (U_use sigma_use Vh_use.conjugate_transpose()) x = b\n",
    "#  or\n",
    "#  svd_sol = (U_use sigma_use Vh_use.conjugate_transpose()).inverse() b\n",
    "#  or\n",
    "#  svd_sol = Vh_use * Sigma_use.inverse() * U_use.transpose() * b\n",
    "#  (since Vh_use.conjugate_transpose() = Vh_use.inverse() and U_use.transpose() = U_use.inverse() )\n",
    "svdsol = (Vh_use @ linalg.inv(sigma_use) @ U_use.transpose()) @ b\n",
    "svdsol"
   ]
  },
  {
   "cell_type": "markdown",
   "metadata": {
    "colab_type": "text",
    "id": "2HbYoWz0IF4f"
   },
   "source": [
    "We can test our solution against the output of our original system.\n",
    "\n",
    "The original output in our system is represented by $\\vec{b}$.\n",
    "\n",
    "Our suggested solution to $M\\vec{x} = \\vec{b}$ is $\\vec{svdsol}$.  That is, we think\n",
    "\n",
    "$$ M \\vec{svdsol} \\approx \\vec{b}$$\n",
    "\n",
    "If we have a good fit, then \n",
    "\n",
    "$$\\vec{b} - M \\vec{svdsol} \\approx 0$$\n",
    "\n",
    "To test our solution, we find the) magnitude of $\\vec{b} - M\\vec{svdsol}$:"
   ]
  },
  {
   "cell_type": "code",
   "execution_count": 25,
   "metadata": {
    "colab": {
     "base_uri": "https://localhost:8080/",
     "height": 35
    },
    "colab_type": "code",
    "id": "0gfbfu6cIKb9",
    "outputId": "4549d3d6-1a66-41dc-b7c1-d4820759e4ea"
   },
   "outputs": [
    {
     "data": {
      "text/plain": [
       "0.965728960023908"
      ]
     },
     "execution_count": 25,
     "metadata": {},
     "output_type": "execute_result"
    }
   ],
   "source": [
    "#  Let's see how close this actually gets us by comparing the original b vector to the result of Mc:\n",
    "error = ((b-M*svdsol).transpose() * (b-M*svdsol))[0,0]\n",
    "error**0.5"
   ]
  },
  {
   "cell_type": "code",
   "execution_count": 26,
   "metadata": {
    "colab": {
     "base_uri": "https://localhost:8080/",
     "height": 295
    },
    "colab_type": "code",
    "id": "LX49XLRwq9Ys",
    "outputId": "42b6685f-714f-4922-c6b0-711660caf914"
   },
   "outputs": [
    {
     "data": {
      "image/png": "[encoded data removed]",
      "text/plain": [
       "<Figure size 432x288 with 1 Axes>"
      ]
     },
     "metadata": {
      "needs_background": "light"
     },
     "output_type": "display_data"
    }
   ],
   "source": [
    "#Show a plot of the solutions using the best-fit method, and the SVD method:\n",
    "\n",
    "# We'll specify that x is a variable:\n",
    "x = sym.symbols('x')\n",
    "\n",
    "xdata = []\n",
    "fdata = []\n",
    "#set up our 100 data points on the interval from (-2pi, 2pi):\n",
    "xdata = np.array(range(100))/(100/(4*np.pi)) - 2*np.pi\n",
    "\n",
    "# find the ouput for our function on each data point:\n",
    "fdata = 4 - 2*np.cos(xdata) + np.cos(xdata)**2\n",
    "\n",
    "#construct the solution from svdsol\n",
    "svd_fit = svdsol[0,0] + svdsol[1,0]*xdata + svdsol[2,0]*(xdata**2) + svdsol[3,0]*(xdata**3) + svdsol[4,0]*(xdata**4) + svdsol[5,0]*(xdata**5) + svdsol[6,0]*(xdata**6) + svdsol[7,0]*(xdata**7)+svdsol[8,0]*(xdata**8)\n",
    "# Create the actual plot in red, and our datapoints in blue,\n",
    "# and the svd solution in aqua:  \n",
    "plt.plot(xdata,fdata, color='red', linewidth=2 ) + plt.plot(actual_data_x, actual_data_y, 'bo', alpha=0.3) + plt.plot(xdata, svd_fit, 'aqua')\n",
    "\n",
    "#Restrict the output values to this range:\n",
    "plt.ylim(-30,30)\n",
    "# Add a title\n",
    "plt.title('Our test data (blue) for the original function (red); best-fit solution (green)  and svd solution (aqua)')\n",
    "\n",
    "# Add X and y Label\n",
    "plt.xlabel('x axis')\n",
    "plt.ylabel('output')\n",
    "\n",
    "# Add a grid\n",
    "plt.grid(alpha=.4,linestyle='--')\n"
   ]
  },
  {
   "cell_type": "markdown",
   "metadata": {
    "colab_type": "text",
    "id": "LcE53P4SI8S8"
   },
   "source": [
    "#1.5  Finding a better solution\n",
    "\n",
    "\n",
    "Both the above solutions give really bad approximations to the polynomial  \n",
    "$$f(x) = 4 - 2\\cos(x) + \\cos^2(x)$$\n",
    "\n",
    "Why?  We only used three data points for our data.  Go back and modify the code so that you use *MORE DATA*\n",
    "\n",
    "(Hint:  You have to change two of the '3' numbers in the code above:  One to generate more data; the other to use the right number of singular values for your data)\n",
    "\n",
    "The graph below should show both the best-fit and svd solution:"
   ]
  },
  {
   "cell_type": "code",
   "execution_count": 27,
   "metadata": {
    "colab": {
     "base_uri": "https://localhost:8080/",
     "height": 295
    },
    "colab_type": "code",
    "id": "znsFEjFNcCgI",
    "outputId": "4c40f9ed-470e-4656-b906-63ba35e648b0"
   },
   "outputs": [
    {
     "data": {
      "image/png": "[encoded data removed]",
      "text/plain": [
       "<Figure size 432x288 with 1 Axes>"
      ]
     },
     "metadata": {
      "needs_background": "light"
     },
     "output_type": "display_data"
    }
   ],
   "source": [
    "#Show a plot of the solutions using the best-fit method, and the SVD method:\n",
    "\n",
    "# We'll specify that x is a variable:\n",
    "x = sym.symbols('x')\n",
    "\n",
    "xdata = []\n",
    "fdata = []\n",
    "#set up our 100 data points on the interval from (-2pi, 2pi):\n",
    "xdata = np.array(range(100))/(100/(4*np.pi)) - 2*np.pi\n",
    "\n",
    "# find the ouput for our function on each data point:\n",
    "fdata = 4 - 2*np.cos(xdata) + np.cos(xdata)**2\n",
    "\n",
    "#construct the solution from svdsol\n",
    "svd_fit = svdsol[0,0] + svdsol[1,0]*xdata + svdsol[2,0]*(xdata**2) + svdsol[3,0]*(xdata**3) + svdsol[4,0]*(xdata**4) + svdsol[5,0]*(xdata**5) + svdsol[6,0]*(xdata**6) + svdsol[7,0]*(xdata**7)+svdsol[8,0]*(xdata**8)\n",
    "#construct the solution from bestfit\n",
    "best_fit = c[0,0] + c[1,0]*xdata + c[2,0]*(xdata**2) + c[3,0]*(xdata**3) + c[4,0]*(xdata**4) + c[5,0]*(xdata**5) + c[6,0]*(xdata**6) + c[7,0]*(xdata**7) + c[8,0]*(xdata**8)\n",
    "# Create the actual plot in red, and our datapoints in blue,\n",
    "# the best-fit method in green, and the svd solution in aqua:  \n",
    "plt.plot(xdata,fdata, color='red', linewidth=2 ) + plt.plot(actual_data_x, actual_data_y, 'bo', alpha=0.3)+plt.plot(xdata,best_fit, color='green') + plt.plot(xdata, svd_fit, 'aqua')\n",
    "\n",
    "#Restrict the output values to this range:\n",
    "plt.ylim(-30,30)\n",
    "# Add a title\n",
    "plt.title('Our test data (blue) for the original function (red); best-fit solution (green)  and svd solution (aqua)')\n",
    "\n",
    "# Add X and y Label\n",
    "plt.xlabel('x axis')\n",
    "plt.ylabel('output')\n",
    "\n",
    "# Add a grid\n",
    "plt.grid(alpha=.4,linestyle='--')"
   ]
  },
  {
   "cell_type": "code",
   "execution_count": 28,
   "metadata": {
    "colab": {},
    "colab_type": "code",
    "id": "KXZs2FIBJGy-"
   },
   "outputs": [],
   "source": [
    "#Very good fit using 25 data points"
   ]
  },
  {
   "cell_type": "code",
   "execution_count": null,
   "metadata": {},
   "outputs": [],
   "source": []
  }
 ],
 "metadata": {
  "colab": {
   "authorship_tag": "ABX9TyM5B9LOYunP9jljdugllkGt",
   "collapsed_sections": [],
   "include_colab_link": true,
   "name": "Project 4:  Case 1 - Solving for a known trigonometric function using Singular Values or Best Fit.ipynb",
   "provenance": []
  },
  "kernelspec": {
   "display_name": "AdvLinAlg",
   "language": "python",
   "name": "advlinalg"
  },
  "language_info": {
   "codemirror_mode": {
    "name": "ipython",
    "version": 3
   },
   "file_extension": ".py",
   "mimetype": "text/x-python",
   "name": "python",
   "nbconvert_exporter": "python",
   "pygments_lexer": "ipython3",
   "version": "3.6.10"
  }
 },
 "nbformat": 4,
 "nbformat_minor": 1
}
